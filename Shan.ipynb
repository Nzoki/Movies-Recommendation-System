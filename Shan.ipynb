{
 "cells": [
  {
   "cell_type": "markdown",
   "metadata": {},
   "source": [
    "# **Movie Recommendation System**"
   ]
  },
  {
   "cell_type": "markdown",
   "metadata": {},
   "source": [
    "## <b> 1. Business Understanding </b>\n",
    "\n",
    "\n",
    "In today’s digital age, streaming platforms have revolutionized the way users consume movies, offering a vast selection of films and TV shows. However, the sheer volume of available content can overwhelm users, making it challenging for them to find movies that align with their personal preferences. An intelligent movie recommendation system can help users discover films that match their tastes, enhancing user satisfaction and platform engagement. This system can boost user retention, increase viewing time, and create personalized experiences, benefiting both users and the platform.\n",
    "\n",
    "---\n",
    "## <b>  Problem Statement </b>\n",
    "\n",
    "The problem at hand is how to help users navigate through an overwhelming collection of movies and TV shows by offering personalized recommendations. The goal is to predict user preferences based on past interactions (such as ratings) and recommend movies they are likely to enjoy. This involves building a collaborative filtering system that leverages user-item interactions, ratings, and predictions to improve user satisfaction by providing accurate and relevant movie suggestions.\n",
    "\n",
    "## <b>  Objectives Of the Project </b>\n",
    "\n",
    "1. Develop a Collaborative Filtering System: Build a system that uses collaborative filtering techniques (user-based or item-based) to recommend movies to users based on their previous ratings and the behavior of similar users.\n",
    "\n",
    "\n",
    "2. Predict Movie Ratings: Use past user ratings to predict ratings for unrated movies. This prediction will be used to recommend movies that a user is likely to rate highly.\n",
    "\n",
    "\n",
    "3. Provide Personalized Movie Recommendations: Create a personalized movie recommendation list for each user, helping them find movies they are most likely to enjoy, based on their preferences and similarities to other users.\n",
    "\n",
    "\n",
    "4. Improve User Retention and Satisfaction: By offering more relevant and personalized movie recommendations, the system aims to enhance user experience, encouraging longer viewing sessions and higher satisfaction levels.\n",
    "\n",
    "\n",
    "5. Evaluate Model Performance: Measure the performance of the recommendation system using metrics like Root Mean Square Error (RMSE) or Mean Absolute Error (MAE) for predicted ratings versus actual user ratings.\n",
    "\n",
    "\n",
    "6. Generate Other User Recommendations: Expand the system’s capabilities to suggest trending or popular movies among users with similar profiles, ensuring a well-rounded recommendation engine.\n",
    "\n",
    "\n",
    "\n"
   ]
  },
  {
   "cell_type": "markdown",
   "metadata": {},
   "source": [
    "## Table of Contents\n",
    "* [Overview](#Overview)\n",
    "* [Business Problem](#Business_Problem)\n",
    "* [Data Understanding](#Data_Understanding)\n",
    "* [Data Exploration](#Data_Exploration)\n",
    "* [Data Modeling](#Data_Modeling)    \n",
    "    * [Binary Predictor Modeling](#Binary)\n",
    "        * [Baseline Models](#Binary_Baseline)\n",
    "        * [Tuned Models](#Binary_Tuned)\n",
    "    * [Multiclass Predictor Modeling](#Multiclass)\n",
    "        * [Baseline Models](#Multiclass_Baseline)\n",
    "        * [Tuned Models](#Multiclass_Tuned)\n",
    "    \n",
    "* [Final Model](#Final_Model)\n",
    "* [Results & Evaluation](#Results)\n",
    "* [Recommendations](#Recommendations)\n",
    "* [Next Steps](#Next_Steps)\n",
    "* [Contact Us](#Contact)"
   ]
  },
  {
   "cell_type": "markdown",
   "metadata": {},
   "source": [
    "# **Import libraries**"
   ]
  },
  {
   "cell_type": "code",
   "execution_count": 2,
   "metadata": {},
   "outputs": [],
   "source": [
    "# Importing the necessary libraries\n",
    "\n",
    "import numpy as np\n",
    "import pandas as pd\n",
    "import matplotlib\n",
    "import matplotlib.pyplot as plt\n",
    "import seaborn as sns\n",
    "\n",
    "import warnings\n",
    "warnings.filterwarnings(\"ignore\")"
   ]
  },
  {
   "cell_type": "markdown",
   "metadata": {},
   "source": [
    "#  **Loading Data**"
   ]
  },
  {
   "cell_type": "code",
   "execution_count": 17,
   "metadata": {},
   "outputs": [
    {
     "data": {
      "text/html": [
       "<div>\n",
       "<style scoped>\n",
       "    .dataframe tbody tr th:only-of-type {\n",
       "        vertical-align: middle;\n",
       "    }\n",
       "\n",
       "    .dataframe tbody tr th {\n",
       "        vertical-align: top;\n",
       "    }\n",
       "\n",
       "    .dataframe thead th {\n",
       "        text-align: right;\n",
       "    }\n",
       "</style>\n",
       "<table border=\"1\" class=\"dataframe\">\n",
       "  <thead>\n",
       "    <tr style=\"text-align: right;\">\n",
       "      <th></th>\n",
       "      <th>userId</th>\n",
       "      <th>movieId</th>\n",
       "      <th>rating</th>\n",
       "      <th>timestamp_x</th>\n",
       "      <th>title</th>\n",
       "      <th>genres</th>\n",
       "      <th>tag</th>\n",
       "      <th>timestamp_y</th>\n",
       "      <th>imdbId</th>\n",
       "      <th>tmdbId</th>\n",
       "    </tr>\n",
       "  </thead>\n",
       "  <tbody>\n",
       "    <tr>\n",
       "      <th>0</th>\n",
       "      <td>1</td>\n",
       "      <td>1</td>\n",
       "      <td>4.0</td>\n",
       "      <td>964982703</td>\n",
       "      <td>Toy Story (1995)</td>\n",
       "      <td>Adventure|Animation|Children|Comedy|Fantasy</td>\n",
       "      <td>NaN</td>\n",
       "      <td>NaN</td>\n",
       "      <td>114709</td>\n",
       "      <td>862.0</td>\n",
       "    </tr>\n",
       "    <tr>\n",
       "      <th>1</th>\n",
       "      <td>1</td>\n",
       "      <td>3</td>\n",
       "      <td>4.0</td>\n",
       "      <td>964981247</td>\n",
       "      <td>Grumpier Old Men (1995)</td>\n",
       "      <td>Comedy|Romance</td>\n",
       "      <td>NaN</td>\n",
       "      <td>NaN</td>\n",
       "      <td>113228</td>\n",
       "      <td>15602.0</td>\n",
       "    </tr>\n",
       "    <tr>\n",
       "      <th>2</th>\n",
       "      <td>1</td>\n",
       "      <td>6</td>\n",
       "      <td>4.0</td>\n",
       "      <td>964982224</td>\n",
       "      <td>Heat (1995)</td>\n",
       "      <td>Action|Crime|Thriller</td>\n",
       "      <td>NaN</td>\n",
       "      <td>NaN</td>\n",
       "      <td>113277</td>\n",
       "      <td>949.0</td>\n",
       "    </tr>\n",
       "    <tr>\n",
       "      <th>3</th>\n",
       "      <td>1</td>\n",
       "      <td>47</td>\n",
       "      <td>5.0</td>\n",
       "      <td>964983815</td>\n",
       "      <td>Seven (a.k.a. Se7en) (1995)</td>\n",
       "      <td>Mystery|Thriller</td>\n",
       "      <td>NaN</td>\n",
       "      <td>NaN</td>\n",
       "      <td>114369</td>\n",
       "      <td>807.0</td>\n",
       "    </tr>\n",
       "    <tr>\n",
       "      <th>4</th>\n",
       "      <td>1</td>\n",
       "      <td>50</td>\n",
       "      <td>5.0</td>\n",
       "      <td>964982931</td>\n",
       "      <td>Usual Suspects, The (1995)</td>\n",
       "      <td>Crime|Mystery|Thriller</td>\n",
       "      <td>NaN</td>\n",
       "      <td>NaN</td>\n",
       "      <td>114814</td>\n",
       "      <td>629.0</td>\n",
       "    </tr>\n",
       "  </tbody>\n",
       "</table>\n",
       "</div>"
      ],
      "text/plain": [
       "   userId  movieId  rating  timestamp_x                        title  \\\n",
       "0       1        1     4.0    964982703             Toy Story (1995)   \n",
       "1       1        3     4.0    964981247      Grumpier Old Men (1995)   \n",
       "2       1        6     4.0    964982224                  Heat (1995)   \n",
       "3       1       47     5.0    964983815  Seven (a.k.a. Se7en) (1995)   \n",
       "4       1       50     5.0    964982931   Usual Suspects, The (1995)   \n",
       "\n",
       "                                        genres  tag  timestamp_y  imdbId  \\\n",
       "0  Adventure|Animation|Children|Comedy|Fantasy  NaN          NaN  114709   \n",
       "1                               Comedy|Romance  NaN          NaN  113228   \n",
       "2                        Action|Crime|Thriller  NaN          NaN  113277   \n",
       "3                             Mystery|Thriller  NaN          NaN  114369   \n",
       "4                       Crime|Mystery|Thriller  NaN          NaN  114814   \n",
       "\n",
       "    tmdbId  \n",
       "0    862.0  \n",
       "1  15602.0  \n",
       "2    949.0  \n",
       "3    807.0  \n",
       "4    629.0  "
      ]
     },
     "execution_count": 17,
     "metadata": {},
     "output_type": "execute_result"
    }
   ],
   "source": [
    "df = pd.read_csv(\"merged_movie_data.csv\")\n",
    "df.head()"
   ]
  },
  {
   "cell_type": "code",
   "execution_count": 18,
   "metadata": {},
   "outputs": [
    {
     "name": "stdout",
     "output_type": "stream",
     "text": [
      "<class 'pandas.core.frame.DataFrame'>\n",
      "RangeIndex: 102677 entries, 0 to 102676\n",
      "Data columns (total 10 columns):\n",
      " #   Column       Non-Null Count   Dtype  \n",
      "---  ------       --------------   -----  \n",
      " 0   userId       102677 non-null  int64  \n",
      " 1   movieId      102677 non-null  int64  \n",
      " 2   rating       102677 non-null  float64\n",
      " 3   timestamp_x  102677 non-null  int64  \n",
      " 4   title        102677 non-null  object \n",
      " 5   genres       102677 non-null  object \n",
      " 6   tag          3476 non-null    object \n",
      " 7   timestamp_y  3476 non-null    float64\n",
      " 8   imdbId       102677 non-null  int64  \n",
      " 9   tmdbId       102664 non-null  float64\n",
      "dtypes: float64(3), int64(4), object(3)\n",
      "memory usage: 7.8+ MB\n"
     ]
    }
   ],
   "source": [
    "df.info()"
   ]
  },
  {
   "cell_type": "code",
   "execution_count": 20,
   "metadata": {},
   "outputs": [
    {
     "name": "stdout",
     "output_type": "stream",
     "text": [
      "The number of rows: 102677\n",
      "The number of columns:10\n"
     ]
    }
   ],
   "source": [
    "#Shape of the dataframe\n",
    "print(\"The number of rows: {}\".format(df.shape[0]))\n",
    "\n",
    "print(\"The number of columns:{}\".format(df.shape[1]))"
   ]
  },
  {
   "cell_type": "code",
   "execution_count": 21,
   "metadata": {},
   "outputs": [
    {
     "data": {
      "text/html": [
       "<div>\n",
       "<style scoped>\n",
       "    .dataframe tbody tr th:only-of-type {\n",
       "        vertical-align: middle;\n",
       "    }\n",
       "\n",
       "    .dataframe tbody tr th {\n",
       "        vertical-align: top;\n",
       "    }\n",
       "\n",
       "    .dataframe thead th {\n",
       "        text-align: right;\n",
       "    }\n",
       "</style>\n",
       "<table border=\"1\" class=\"dataframe\">\n",
       "  <thead>\n",
       "    <tr style=\"text-align: right;\">\n",
       "      <th></th>\n",
       "      <th>userId</th>\n",
       "      <th>movieId</th>\n",
       "      <th>rating</th>\n",
       "      <th>timestamp_x</th>\n",
       "      <th>timestamp_y</th>\n",
       "      <th>imdbId</th>\n",
       "      <th>tmdbId</th>\n",
       "    </tr>\n",
       "  </thead>\n",
       "  <tbody>\n",
       "    <tr>\n",
       "      <th>count</th>\n",
       "      <td>102677.000000</td>\n",
       "      <td>102677.000000</td>\n",
       "      <td>102677.000000</td>\n",
       "      <td>1.026770e+05</td>\n",
       "      <td>3.476000e+03</td>\n",
       "      <td>1.026770e+05</td>\n",
       "      <td>102664.000000</td>\n",
       "    </tr>\n",
       "    <tr>\n",
       "      <th>mean</th>\n",
       "      <td>327.761933</td>\n",
       "      <td>19742.712623</td>\n",
       "      <td>3.514813</td>\n",
       "      <td>1.209495e+09</td>\n",
       "      <td>1.323525e+09</td>\n",
       "      <td>3.564994e+05</td>\n",
       "      <td>20476.871289</td>\n",
       "    </tr>\n",
       "    <tr>\n",
       "      <th>std</th>\n",
       "      <td>183.211289</td>\n",
       "      <td>35884.400990</td>\n",
       "      <td>1.043133</td>\n",
       "      <td>2.170117e+08</td>\n",
       "      <td>1.731554e+08</td>\n",
       "      <td>6.295717e+05</td>\n",
       "      <td>54097.633332</td>\n",
       "    </tr>\n",
       "    <tr>\n",
       "      <th>min</th>\n",
       "      <td>1.000000</td>\n",
       "      <td>1.000000</td>\n",
       "      <td>0.500000</td>\n",
       "      <td>8.281246e+08</td>\n",
       "      <td>1.137179e+09</td>\n",
       "      <td>4.170000e+02</td>\n",
       "      <td>2.000000</td>\n",
       "    </tr>\n",
       "    <tr>\n",
       "      <th>25%</th>\n",
       "      <td>177.000000</td>\n",
       "      <td>1199.000000</td>\n",
       "      <td>3.000000</td>\n",
       "      <td>1.019138e+09</td>\n",
       "      <td>1.138032e+09</td>\n",
       "      <td>9.971000e+04</td>\n",
       "      <td>710.000000</td>\n",
       "    </tr>\n",
       "    <tr>\n",
       "      <th>50%</th>\n",
       "      <td>328.000000</td>\n",
       "      <td>3005.000000</td>\n",
       "      <td>3.500000</td>\n",
       "      <td>1.186590e+09</td>\n",
       "      <td>1.279956e+09</td>\n",
       "      <td>1.188420e+05</td>\n",
       "      <td>6950.000000</td>\n",
       "    </tr>\n",
       "    <tr>\n",
       "      <th>75%</th>\n",
       "      <td>477.000000</td>\n",
       "      <td>8366.000000</td>\n",
       "      <td>4.000000</td>\n",
       "      <td>1.439916e+09</td>\n",
       "      <td>1.498457e+09</td>\n",
       "      <td>3.172480e+05</td>\n",
       "      <td>11673.000000</td>\n",
       "    </tr>\n",
       "    <tr>\n",
       "      <th>max</th>\n",
       "      <td>610.000000</td>\n",
       "      <td>193609.000000</td>\n",
       "      <td>5.000000</td>\n",
       "      <td>1.537799e+09</td>\n",
       "      <td>1.537099e+09</td>\n",
       "      <td>8.391976e+06</td>\n",
       "      <td>525662.000000</td>\n",
       "    </tr>\n",
       "  </tbody>\n",
       "</table>\n",
       "</div>"
      ],
      "text/plain": [
       "              userId        movieId         rating   timestamp_x  \\\n",
       "count  102677.000000  102677.000000  102677.000000  1.026770e+05   \n",
       "mean      327.761933   19742.712623       3.514813  1.209495e+09   \n",
       "std       183.211289   35884.400990       1.043133  2.170117e+08   \n",
       "min         1.000000       1.000000       0.500000  8.281246e+08   \n",
       "25%       177.000000    1199.000000       3.000000  1.019138e+09   \n",
       "50%       328.000000    3005.000000       3.500000  1.186590e+09   \n",
       "75%       477.000000    8366.000000       4.000000  1.439916e+09   \n",
       "max       610.000000  193609.000000       5.000000  1.537799e+09   \n",
       "\n",
       "        timestamp_y        imdbId         tmdbId  \n",
       "count  3.476000e+03  1.026770e+05  102664.000000  \n",
       "mean   1.323525e+09  3.564994e+05   20476.871289  \n",
       "std    1.731554e+08  6.295717e+05   54097.633332  \n",
       "min    1.137179e+09  4.170000e+02       2.000000  \n",
       "25%    1.138032e+09  9.971000e+04     710.000000  \n",
       "50%    1.279956e+09  1.188420e+05    6950.000000  \n",
       "75%    1.498457e+09  3.172480e+05   11673.000000  \n",
       "max    1.537099e+09  8.391976e+06  525662.000000  "
      ]
     },
     "execution_count": 21,
     "metadata": {},
     "output_type": "execute_result"
    }
   ],
   "source": [
    "df.describe()\n"
   ]
  },
  {
   "cell_type": "code",
   "execution_count": 23,
   "metadata": {},
   "outputs": [
    {
     "name": "stdout",
     "output_type": "stream",
     "text": [
      "userId           int64\n",
      "movieId          int64\n",
      "rating         float64\n",
      "timestamp_x      int64\n",
      "title           object\n",
      "genres          object\n",
      "tag             object\n",
      "timestamp_y    float64\n",
      "imdbId           int64\n",
      "tmdbId         float64\n",
      "dtype: object\n"
     ]
    }
   ],
   "source": [
    "# This function will check the datatypes within the dataframe\n",
    "def check_data_types(dataframe):\n",
    "    data_types = dataframe.dtypes\n",
    "    print(data_types)\n",
    "\n",
    "# Run the function\n",
    "check_data_types(df)"
   ]
  },
  {
   "cell_type": "markdown",
   "metadata": {},
   "source": [
    "##  Data Cleaning"
   ]
  },
  {
   "cell_type": "code",
   "execution_count": 24,
   "metadata": {},
   "outputs": [
    {
     "name": "stdout",
     "output_type": "stream",
     "text": [
      "There are 198415 missing values in the dataset\n"
     ]
    }
   ],
   "source": [
    "#Checking for null and misssing values\n",
    "print(\"There are\", df.isnull().values.sum(), \"missing values in the dataset\")"
   ]
  },
  {
   "cell_type": "code",
   "execution_count": 28,
   "metadata": {},
   "outputs": [],
   "source": [
    "# Functions for duplicate values\n",
    "\n",
    "# A function that checks for duplicate values in a column\n",
    "def count_duplicates(df, column_name):\n",
    "    duplicate_count = df.duplicated(subset=column_name).sum()\n",
    "    return duplicate_count\n",
    "\n"
   ]
  },
  {
   "cell_type": "markdown",
   "metadata": {},
   "source": [
    "##   Exploratory Data Analysis"
   ]
  },
  {
   "cell_type": "markdown",
   "metadata": {},
   "source": [
    "## Univariate Analysis\n",
    "\n",
    "The exploration commences with a detailed univariate analysis, scrutinizing each variable in isolation to gauge its individual characteristics and distribution. This foundational step is critical for establishing a baseline understanding of the dataset's intrinsic properties, essential for informed hypothesis formulation and subsequent multivariate analyses."
   ]
  }
 ],
 "metadata": {
  "kernelspec": {
   "display_name": "base",
   "language": "python",
   "name": "python3"
  },
  "language_info": {
   "codemirror_mode": {
    "name": "ipython",
    "version": 3
   },
   "file_extension": ".py",
   "mimetype": "text/x-python",
   "name": "python",
   "nbconvert_exporter": "python",
   "pygments_lexer": "ipython3",
   "version": "3.11.5"
  }
 },
 "nbformat": 4,
 "nbformat_minor": 2
}
