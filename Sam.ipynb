{
 "cells": [
  {
   "cell_type": "markdown",
   "id": "4ca1c0c9-3860-4fb7-ab3c-efe95d6431a3",
   "metadata": {},
   "source": [
    "# Movies Recommendation System"
   ]
  },
  {
   "cell_type": "markdown",
   "id": "d38c2657-6514-4ab4-9537-37c3701ad268",
   "metadata": {},
   "source": [
    "## Business Understanding"
   ]
  },
  {
   "cell_type": "markdown",
   "id": "b12917e3-3c09-4948-a016-d0e229caed40",
   "metadata": {},
   "source": [
    "In today's streaming industry, companies like Netflix, Hulu, and Amazon Prime Video face the challenge of providing users with relevant content that matches their preferences. With vast movie catalogs, it can be overwhelming for users to find films they enjoy, leading to lower engagement and subscription cancellations. \n",
    "\n",
    "The goal of this project is to build a recommendation system to solve this problem by suggesting movies users are likely to enjoy based on their past ratings. The model will leverage collaborative filtering techniques using the MovieLens dataset to recommend the top 5 movies to each user."
   ]
  },
  {
   "cell_type": "markdown",
   "id": "096999f2-3cf3-4519-8756-b602ceedc0f0",
   "metadata": {},
   "source": [
    "### Stakeholders"
   ]
  },
  {
   "cell_type": "markdown",
   "id": "bcf36ed3-80e7-4cdf-8729-6e33eed8ab5c",
   "metadata": {},
   "source": [
    "The primary stakeholders are:\n",
    "- **Streaming platforms**: They benefit from increased user engagement and retention by offering personalized recommendations.\n",
    "- **Users**: They receive tailored suggestions, improving their movie-watching experience."
   ]
  },
  {
   "cell_type": "markdown",
   "id": "b1bcba0e-31cd-41d8-ad6e-b4bcf2c5b087",
   "metadata": {},
   "source": [
    "### Objective"
   ]
  },
  {
   "cell_type": "markdown",
   "id": "354455d3-d1ff-4ab8-b39d-c74138c5ffe9",
   "metadata": {},
   "source": [
    "- Build a recommendation system that improves user engagement by providing relevant movie suggestions."
   ]
  },
  {
   "cell_type": "markdown",
   "id": "3f1407ce-6765-4905-836c-5b9fa7803a54",
   "metadata": {},
   "source": [
    "### Success Criteria"
   ]
  },
  {
   "cell_type": "markdown",
   "id": "e67fb841-e29d-4326-9944-2eeb8c097975",
   "metadata": {},
   "source": [
    "- Improve user satisfaction by recommending relevant movies with a model evaluated through RMSE and MAE."
   ]
  },
  {
   "cell_type": "code",
   "execution_count": null,
   "id": "8ef31c94-1ab1-41bf-8483-1187f0884ecb",
   "metadata": {},
   "outputs": [],
   "source": []
  }
 ],
 "metadata": {
  "kernelspec": {
   "display_name": "Python 3 (ipykernel)",
   "language": "python",
   "name": "python3"
  },
  "language_info": {
   "codemirror_mode": {
    "name": "ipython",
    "version": 3
   },
   "file_extension": ".py",
   "mimetype": "text/x-python",
   "name": "python",
   "nbconvert_exporter": "python",
   "pygments_lexer": "ipython3",
   "version": "3.11.6"
  }
 },
 "nbformat": 4,
 "nbformat_minor": 5
}
