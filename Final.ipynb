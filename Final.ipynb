{
 "cells": [
  {
   "cell_type": "markdown",
   "metadata": {},
   "source": [
    "# **Movies Recommendation System**"
   ]
  },
  {
   "cell_type": "markdown",
   "metadata": {},
   "source": [
    "## Business Understanding"
   ]
  },
  {
   "cell_type": "markdown",
   "metadata": {},
   "source": [
    "In today's streaming industry, companies like Netflix, Hulu, and Amazon Prime Video face the challenge of providing users with relevant content that matches their preferences. With vast movie catalogs, it can be overwhelming for users to find films they enjoy, leading to lower engagement and subscription cancellations. \n",
    "\n",
    " An intelligent movie recommendation system can help users discover films that match their tastes, enhancing user satisfaction and platform engagement. This system can boost user retention, increase viewing time, and create personalized experiences, benefiting both users and the platform."
   ]
  },
  {
   "cell_type": "markdown",
   "metadata": {},
   "source": [
    "# Problem statement"
   ]
  },
  {
   "cell_type": "markdown",
   "metadata": {},
   "source": [
    "With the rise of movie streaming platforms  navigating through  collections  of movies and TV shows, users have been overwhelmed in choosing what they want to watch.\n",
    "The goal is to predict user preferences based on past interactions (such as ratings) and recommend movies they are likely to enjoy. This involves building a collaborative filtering system that leverages user-item interactions, ratings, and predictions to improve user satisfaction by providing accurate and relevant movie suggestions."
   ]
  },
  {
   "cell_type": "markdown",
   "metadata": {},
   "source": [
    "# Stakeholders\n",
    "\n",
    "The primary stakeholders are:\n",
    "\n",
    "- **Streaming platforms**: They benefit from increased user engagement and retention by offering personalized recommendations.\n",
    "\n",
    "- **Users**: They receive tailored suggestions, improving their movie-watching experience."
   ]
  },
  {
   "cell_type": "markdown",
   "metadata": {},
   "source": [
    "# Objectives\n",
    "\n",
    "## General Objective\n",
    "\n",
    "- Build a recommendation system that improves user engagement by providing relevant movie suggestions.\n",
    "\n",
    "\n",
    "## Specific Objectives\n",
    "\n",
    "1. To build  a collaborative filtering model  that recommends movies to users based on their previous ratings and the behavior of similar users.\n",
    "\n",
    "2. To use past user ratings to predict ratings for unrated movies. \n",
    "\n",
    "3.  To provide personalized movies recommendations."
   ]
  },
  {
   "cell_type": "markdown",
   "metadata": {},
   "source": [
    "## Data Understanding\n",
    "\n",
    "### Data Source\n",
    "The data for this project comes from the **MovieLens dataset** https://grouplens.org/datasets/movielens/latest/, a widely-used benchmark dataset provided by the GroupLens research group at the University of Minnesota. This dataset is designed specifically for building and testing recommendation systems, making it highly relevant for our project.\n",
    "\n",
    "We are using the **MovieLens small dataset** (ml-latest-small), which contains:\n",
    "\n",
    "- **Ratings**: User ratings for different movies.\n",
    "- **Movies**: Information about movie titles and genres.\n",
    "- **Tags**: User-generated tags for movies.\n",
    "- **Links**: Metadata connecting movies to external resources like IMDb."
   ]
  },
  {
   "cell_type": "markdown",
   "metadata": {},
   "source": [
    "### Import Libraries"
   ]
  },
  {
   "cell_type": "code",
   "execution_count": 1,
   "metadata": {},
   "outputs": [],
   "source": [
    "import pandas as pd\n",
    "import numpy as np\n",
    "import matplotlib.pyplot as plt\n",
    "import seaborn as sns\n",
    "from sklearn.pipeline import Pipeline\n",
    "from sklearn.impute import SimpleImputer\n",
    "from sklearn.decomposition import TruncatedSVD\n",
    "from sklearn.model_selection import GridSearchCV, train_test_split\n",
    "from sklearn.metrics import mean_squared_error, make_scorer"
   ]
  },
  {
   "cell_type": "code",
   "execution_count": 2,
   "metadata": {},
   "outputs": [
    {
     "name": "stdout",
     "output_type": "stream",
     "text": [
      "Requirement already satisfied: surprise in c:\\users\\vero\\anaconda3\\envs\\learn-env\\lib\\site-packages (0.1)\n",
      "Requirement already satisfied: scikit-surprise in c:\\users\\vero\\anaconda3\\envs\\learn-env\\lib\\site-packages (from surprise) (1.1.1)\n",
      "Requirement already satisfied: joblib>=0.11 in c:\\users\\vero\\anaconda3\\envs\\learn-env\\lib\\site-packages (from scikit-surprise->surprise) (1.4.2)\n",
      "Requirement already satisfied: numpy>=1.11.2 in c:\\users\\vero\\anaconda3\\envs\\learn-env\\lib\\site-packages (from scikit-surprise->surprise) (1.22.0)\n",
      "Requirement already satisfied: scipy>=1.0.0 in c:\\users\\vero\\anaconda3\\envs\\learn-env\\lib\\site-packages (from scikit-surprise->surprise) (1.5.0)\n",
      "Requirement already satisfied: six>=1.10.0 in c:\\users\\vero\\anaconda3\\envs\\learn-env\\lib\\site-packages (from scikit-surprise->surprise) (1.15.0)\n",
      "Note: you may need to restart the kernel to use updated packages.\n"
     ]
    }
   ],
   "source": [
    "pip install surprise"
   ]
  },
  {
   "cell_type": "code",
   "execution_count": 3,
   "metadata": {},
   "outputs": [],
   "source": [
    "from surprise.model_selection import cross_validate\n",
    "from surprise.prediction_algorithms import SVD\n",
    "from surprise.prediction_algorithms import KNNWithMeans, KNNBasic, KNNBaseline\n",
    "from surprise.model_selection import GridSearchCV\n",
    "from surprise import Reader, Dataset\n",
    "import numpy as np"
   ]
  },
  {
   "cell_type": "markdown",
   "metadata": {},
   "source": [
    "### Loading Dataset"
   ]
  },
  {
   "cell_type": "code",
   "execution_count": 4,
   "metadata": {},
   "outputs": [],
   "source": [
    "# Load the datasets\n",
    "ratings = pd.read_csv('ml-latest-small/ratings.csv')\n",
    "tags = pd.read_csv('ml-latest-small/tags.csv')\n",
    "movies = pd.read_csv('ml-latest-small/movies.csv')\n",
    "links = pd.read_csv('ml-latest-small/links.csv')\n"
   ]
  },
  {
   "cell_type": "code",
   "execution_count": 5,
   "metadata": {},
   "outputs": [
    {
     "name": "stdout",
     "output_type": "stream",
     "text": [
      "   userId  movieId  rating  timestamp\n",
      "0       1        1     4.0  964982703\n",
      "1       1        3     4.0  964981247\n",
      "2       1        6     4.0  964982224\n",
      "3       1       47     5.0  964983815\n",
      "4       1       50     5.0  964982931\n",
      "<class 'pandas.core.frame.DataFrame'>\n",
      "RangeIndex: 100836 entries, 0 to 100835\n",
      "Data columns (total 4 columns):\n",
      " #   Column     Non-Null Count   Dtype  \n",
      "---  ------     --------------   -----  \n",
      " 0   userId     100836 non-null  int64  \n",
      " 1   movieId    100836 non-null  int64  \n",
      " 2   rating     100836 non-null  float64\n",
      " 3   timestamp  100836 non-null  int64  \n",
      "dtypes: float64(1), int64(3)\n",
      "memory usage: 3.1 MB\n"
     ]
    }
   ],
   "source": [
    "print(ratings.head())\n",
    "ratings.info()\n"
   ]
  },
  {
   "cell_type": "code",
   "execution_count": 6,
   "metadata": {},
   "outputs": [
    {
     "name": "stdout",
     "output_type": "stream",
     "text": [
      "   userId  movieId              tag   timestamp\n",
      "0       2    60756            funny  1445714994\n",
      "1       2    60756  Highly quotable  1445714996\n",
      "2       2    60756     will ferrell  1445714992\n",
      "3       2    89774     Boxing story  1445715207\n",
      "4       2    89774              MMA  1445715200\n",
      "<class 'pandas.core.frame.DataFrame'>\n",
      "RangeIndex: 3683 entries, 0 to 3682\n",
      "Data columns (total 4 columns):\n",
      " #   Column     Non-Null Count  Dtype \n",
      "---  ------     --------------  ----- \n",
      " 0   userId     3683 non-null   int64 \n",
      " 1   movieId    3683 non-null   int64 \n",
      " 2   tag        3683 non-null   object\n",
      " 3   timestamp  3683 non-null   int64 \n",
      "dtypes: int64(3), object(1)\n",
      "memory usage: 115.2+ KB\n"
     ]
    }
   ],
   "source": [
    "print(tags.head())\n",
    "tags.info()"
   ]
  },
  {
   "cell_type": "code",
   "execution_count": 7,
   "metadata": {},
   "outputs": [
    {
     "name": "stdout",
     "output_type": "stream",
     "text": [
      "   movieId                               title  \\\n",
      "0        1                    Toy Story (1995)   \n",
      "1        2                      Jumanji (1995)   \n",
      "2        3             Grumpier Old Men (1995)   \n",
      "3        4            Waiting to Exhale (1995)   \n",
      "4        5  Father of the Bride Part II (1995)   \n",
      "\n",
      "                                        genres  \n",
      "0  Adventure|Animation|Children|Comedy|Fantasy  \n",
      "1                   Adventure|Children|Fantasy  \n",
      "2                               Comedy|Romance  \n",
      "3                         Comedy|Drama|Romance  \n",
      "4                                       Comedy  \n",
      "<class 'pandas.core.frame.DataFrame'>\n",
      "RangeIndex: 9742 entries, 0 to 9741\n",
      "Data columns (total 3 columns):\n",
      " #   Column   Non-Null Count  Dtype \n",
      "---  ------   --------------  ----- \n",
      " 0   movieId  9742 non-null   int64 \n",
      " 1   title    9742 non-null   object\n",
      " 2   genres   9742 non-null   object\n",
      "dtypes: int64(1), object(2)\n",
      "memory usage: 228.5+ KB\n"
     ]
    }
   ],
   "source": [
    "print(movies.head())\n",
    "movies.info()"
   ]
  },
  {
   "cell_type": "code",
   "execution_count": 8,
   "metadata": {},
   "outputs": [
    {
     "name": "stdout",
     "output_type": "stream",
     "text": [
      "   movieId  imdbId   tmdbId\n",
      "0        1  114709    862.0\n",
      "1        2  113497   8844.0\n",
      "2        3  113228  15602.0\n",
      "3        4  114885  31357.0\n",
      "4        5  113041  11862.0\n",
      "<class 'pandas.core.frame.DataFrame'>\n",
      "RangeIndex: 9742 entries, 0 to 9741\n",
      "Data columns (total 3 columns):\n",
      " #   Column   Non-Null Count  Dtype  \n",
      "---  ------   --------------  -----  \n",
      " 0   movieId  9742 non-null   int64  \n",
      " 1   imdbId   9742 non-null   int64  \n",
      " 2   tmdbId   9734 non-null   float64\n",
      "dtypes: float64(1), int64(2)\n",
      "memory usage: 228.5 KB\n"
     ]
    }
   ],
   "source": [
    "print(links.head())\n",
    "links.info()"
   ]
  },
  {
   "cell_type": "code",
   "execution_count": 9,
   "metadata": {},
   "outputs": [
    {
     "data": {
      "text/html": [
       "<div>\n",
       "<style scoped>\n",
       "    .dataframe tbody tr th:only-of-type {\n",
       "        vertical-align: middle;\n",
       "    }\n",
       "\n",
       "    .dataframe tbody tr th {\n",
       "        vertical-align: top;\n",
       "    }\n",
       "\n",
       "    .dataframe thead th {\n",
       "        text-align: right;\n",
       "    }\n",
       "</style>\n",
       "<table border=\"1\" class=\"dataframe\">\n",
       "  <thead>\n",
       "    <tr style=\"text-align: right;\">\n",
       "      <th></th>\n",
       "      <th>userId</th>\n",
       "      <th>movieId</th>\n",
       "      <th>rating</th>\n",
       "      <th>timestamp</th>\n",
       "      <th>title</th>\n",
       "      <th>genres</th>\n",
       "    </tr>\n",
       "  </thead>\n",
       "  <tbody>\n",
       "    <tr>\n",
       "      <th>0</th>\n",
       "      <td>1</td>\n",
       "      <td>1</td>\n",
       "      <td>4.0</td>\n",
       "      <td>964982703</td>\n",
       "      <td>Toy Story (1995)</td>\n",
       "      <td>Adventure|Animation|Children|Comedy|Fantasy</td>\n",
       "    </tr>\n",
       "    <tr>\n",
       "      <th>1</th>\n",
       "      <td>1</td>\n",
       "      <td>3</td>\n",
       "      <td>4.0</td>\n",
       "      <td>964981247</td>\n",
       "      <td>Grumpier Old Men (1995)</td>\n",
       "      <td>Comedy|Romance</td>\n",
       "    </tr>\n",
       "    <tr>\n",
       "      <th>2</th>\n",
       "      <td>1</td>\n",
       "      <td>6</td>\n",
       "      <td>4.0</td>\n",
       "      <td>964982224</td>\n",
       "      <td>Heat (1995)</td>\n",
       "      <td>Action|Crime|Thriller</td>\n",
       "    </tr>\n",
       "    <tr>\n",
       "      <th>3</th>\n",
       "      <td>1</td>\n",
       "      <td>47</td>\n",
       "      <td>5.0</td>\n",
       "      <td>964983815</td>\n",
       "      <td>Seven (a.k.a. Se7en) (1995)</td>\n",
       "      <td>Mystery|Thriller</td>\n",
       "    </tr>\n",
       "    <tr>\n",
       "      <th>4</th>\n",
       "      <td>1</td>\n",
       "      <td>50</td>\n",
       "      <td>5.0</td>\n",
       "      <td>964982931</td>\n",
       "      <td>Usual Suspects, The (1995)</td>\n",
       "      <td>Crime|Mystery|Thriller</td>\n",
       "    </tr>\n",
       "  </tbody>\n",
       "</table>\n",
       "</div>"
      ],
      "text/plain": [
       "   userId  movieId  rating  timestamp                        title  \\\n",
       "0       1        1     4.0  964982703             Toy Story (1995)   \n",
       "1       1        3     4.0  964981247      Grumpier Old Men (1995)   \n",
       "2       1        6     4.0  964982224                  Heat (1995)   \n",
       "3       1       47     5.0  964983815  Seven (a.k.a. Se7en) (1995)   \n",
       "4       1       50     5.0  964982931   Usual Suspects, The (1995)   \n",
       "\n",
       "                                        genres  \n",
       "0  Adventure|Animation|Children|Comedy|Fantasy  \n",
       "1                               Comedy|Romance  \n",
       "2                        Action|Crime|Thriller  \n",
       "3                             Mystery|Thriller  \n",
       "4                       Crime|Mystery|Thriller  "
      ]
     },
     "execution_count": 9,
     "metadata": {},
     "output_type": "execute_result"
    }
   ],
   "source": [
    "#merging movies and ratings\n",
    "merged_df = pd.merge(ratings, movies, on='movieId', how='left')\n",
    "merged_df.head()"
   ]
  },
  {
   "cell_type": "code",
   "execution_count": 10,
   "metadata": {},
   "outputs": [
    {
     "name": "stdout",
     "output_type": "stream",
     "text": [
      "<class 'pandas.core.frame.DataFrame'>\n",
      "Int64Index: 100836 entries, 0 to 100835\n",
      "Data columns (total 6 columns):\n",
      " #   Column     Non-Null Count   Dtype  \n",
      "---  ------     --------------   -----  \n",
      " 0   userId     100836 non-null  int64  \n",
      " 1   movieId    100836 non-null  int64  \n",
      " 2   rating     100836 non-null  float64\n",
      " 3   timestamp  100836 non-null  int64  \n",
      " 4   title      100836 non-null  object \n",
      " 5   genres     100836 non-null  object \n",
      "dtypes: float64(1), int64(3), object(2)\n",
      "memory usage: 5.4+ MB\n"
     ]
    }
   ],
   "source": [
    "merged_df.info()"
   ]
  },
  {
   "cell_type": "markdown",
   "metadata": {},
   "source": [
    " ### Split Genres\n",
    "In the original movies.csv file, the genres are provided as a single string with genres separated by the | symbol. This format is not ideal for machine learning models, which work better with categorical variables or separate features.\n",
    "\n",
    "By converting genres into a list, it becomes easier to:\n",
    "\n",
    "Use genres for content-based filtering: We can now treat each genre as a separate feature for movies.\n",
    "\n",
    "Perform analysis on genre popularity: We can count how many times each genre appears across the dataset."
   ]
  },
  {
   "cell_type": "code",
   "execution_count": 11,
   "metadata": {},
   "outputs": [],
   "source": [
    "# Split genres into a list of genres for each movie\n",
    "movies['genres'] = movies['genres'].apply(lambda x: x.split('|'))"
   ]
  },
  {
   "cell_type": "code",
   "execution_count": 12,
   "metadata": {},
   "outputs": [],
   "source": [
    "# Merge tags into the merged_data\n",
    "tags_agg = tags.groupby('movieId')['tag'].apply(lambda x: '|'.join(x)).reset_index()\n",
    "df = pd.merge(merged_df, tags_agg, on='movieId', how='left')"
   ]
  },
  {
   "cell_type": "code",
   "execution_count": 13,
   "metadata": {},
   "outputs": [
    {
     "data": {
      "text/html": [
       "<div>\n",
       "<style scoped>\n",
       "    .dataframe tbody tr th:only-of-type {\n",
       "        vertical-align: middle;\n",
       "    }\n",
       "\n",
       "    .dataframe tbody tr th {\n",
       "        vertical-align: top;\n",
       "    }\n",
       "\n",
       "    .dataframe thead th {\n",
       "        text-align: right;\n",
       "    }\n",
       "</style>\n",
       "<table border=\"1\" class=\"dataframe\">\n",
       "  <thead>\n",
       "    <tr style=\"text-align: right;\">\n",
       "      <th></th>\n",
       "      <th>userId</th>\n",
       "      <th>movieId</th>\n",
       "      <th>rating</th>\n",
       "      <th>timestamp</th>\n",
       "      <th>title</th>\n",
       "      <th>genres</th>\n",
       "      <th>tag</th>\n",
       "    </tr>\n",
       "  </thead>\n",
       "  <tbody>\n",
       "    <tr>\n",
       "      <th>0</th>\n",
       "      <td>1</td>\n",
       "      <td>1</td>\n",
       "      <td>4.0</td>\n",
       "      <td>964982703</td>\n",
       "      <td>Toy Story (1995)</td>\n",
       "      <td>Adventure|Animation|Children|Comedy|Fantasy</td>\n",
       "      <td>pixar|pixar|fun</td>\n",
       "    </tr>\n",
       "    <tr>\n",
       "      <th>1</th>\n",
       "      <td>1</td>\n",
       "      <td>3</td>\n",
       "      <td>4.0</td>\n",
       "      <td>964981247</td>\n",
       "      <td>Grumpier Old Men (1995)</td>\n",
       "      <td>Comedy|Romance</td>\n",
       "      <td>moldy|old</td>\n",
       "    </tr>\n",
       "    <tr>\n",
       "      <th>2</th>\n",
       "      <td>1</td>\n",
       "      <td>6</td>\n",
       "      <td>4.0</td>\n",
       "      <td>964982224</td>\n",
       "      <td>Heat (1995)</td>\n",
       "      <td>Action|Crime|Thriller</td>\n",
       "      <td>NaN</td>\n",
       "    </tr>\n",
       "    <tr>\n",
       "      <th>3</th>\n",
       "      <td>1</td>\n",
       "      <td>47</td>\n",
       "      <td>5.0</td>\n",
       "      <td>964983815</td>\n",
       "      <td>Seven (a.k.a. Se7en) (1995)</td>\n",
       "      <td>Mystery|Thriller</td>\n",
       "      <td>mystery|twist ending|serial killer</td>\n",
       "    </tr>\n",
       "    <tr>\n",
       "      <th>4</th>\n",
       "      <td>1</td>\n",
       "      <td>50</td>\n",
       "      <td>5.0</td>\n",
       "      <td>964982931</td>\n",
       "      <td>Usual Suspects, The (1995)</td>\n",
       "      <td>Crime|Mystery|Thriller</td>\n",
       "      <td>mindfuck|suspense|thriller|tricky|twist ending...</td>\n",
       "    </tr>\n",
       "  </tbody>\n",
       "</table>\n",
       "</div>"
      ],
      "text/plain": [
       "   userId  movieId  rating  timestamp                        title  \\\n",
       "0       1        1     4.0  964982703             Toy Story (1995)   \n",
       "1       1        3     4.0  964981247      Grumpier Old Men (1995)   \n",
       "2       1        6     4.0  964982224                  Heat (1995)   \n",
       "3       1       47     5.0  964983815  Seven (a.k.a. Se7en) (1995)   \n",
       "4       1       50     5.0  964982931   Usual Suspects, The (1995)   \n",
       "\n",
       "                                        genres  \\\n",
       "0  Adventure|Animation|Children|Comedy|Fantasy   \n",
       "1                               Comedy|Romance   \n",
       "2                        Action|Crime|Thriller   \n",
       "3                             Mystery|Thriller   \n",
       "4                       Crime|Mystery|Thriller   \n",
       "\n",
       "                                                 tag  \n",
       "0                                    pixar|pixar|fun  \n",
       "1                                          moldy|old  \n",
       "2                                                NaN  \n",
       "3                 mystery|twist ending|serial killer  \n",
       "4  mindfuck|suspense|thriller|tricky|twist ending...  "
      ]
     },
     "execution_count": 13,
     "metadata": {},
     "output_type": "execute_result"
    }
   ],
   "source": [
    "df.head()"
   ]
  },
  {
   "cell_type": "code",
   "execution_count": 14,
   "metadata": {},
   "outputs": [
    {
     "name": "stdout",
     "output_type": "stream",
     "text": [
      "Movies Shape: (9742, 3)\n",
      "Ratings Shape: (100836, 4)\n",
      "Tags Shape: (3683, 4)\n",
      "Links Shape: (9742, 3)\n",
      "\n",
      "-----------------------------------------------\n",
      "\n",
      "<class 'pandas.core.frame.DataFrame'>\n",
      "Int64Index: 100836 entries, 0 to 100835\n",
      "Data columns (total 7 columns):\n",
      " #   Column     Non-Null Count   Dtype  \n",
      "---  ------     --------------   -----  \n",
      " 0   userId     100836 non-null  int64  \n",
      " 1   movieId    100836 non-null  int64  \n",
      " 2   rating     100836 non-null  float64\n",
      " 3   timestamp  100836 non-null  int64  \n",
      " 4   title      100836 non-null  object \n",
      " 5   genres     100836 non-null  object \n",
      " 6   tag        48287 non-null   object \n",
      "dtypes: float64(1), int64(3), object(3)\n",
      "memory usage: 6.2+ MB\n",
      "\n",
      "Movies Info:\n",
      " None\n"
     ]
    }
   ],
   "source": [
    "# Data shapes\n",
    "print(\"Movies Shape:\", movies.shape)\n",
    "print(\"Ratings Shape:\", ratings.shape)\n",
    "print(\"Tags Shape:\", tags.shape)\n",
    "print(\"Links Shape:\", links.shape)\n",
    "print(\"\\n-----------------------------------------------\\n\")\n",
    "\n",
    "# Get info on datasets\n",
    "print(\"\\nMovies Info:\\n\", df.info())\n"
   ]
  },
  {
   "cell_type": "markdown",
   "metadata": {},
   "source": [
    "### Observation\n",
    "- There are 100K+ records in the data. \n",
    "- There seven features which are ; userId, movieId, rating,  timestamp, title, genres, tag_x  and tag_y."
   ]
  },
  {
   "cell_type": "markdown",
   "metadata": {},
   "source": [
    "## Exploratory Data Analysis"
   ]
  },
  {
   "cell_type": "code",
   "execution_count": 15,
   "metadata": {},
   "outputs": [],
   "source": [
    "# Convert timestamp to datetime\n",
    "df['timestamp'] = pd.to_datetime(df['timestamp'], unit='s')"
   ]
  },
  {
   "cell_type": "code",
   "execution_count": 16,
   "metadata": {},
   "outputs": [
    {
     "data": {
      "text/plain": [
       "userId           0\n",
       "movieId          0\n",
       "rating           0\n",
       "timestamp        0\n",
       "title            0\n",
       "genres           0\n",
       "tag          52549\n",
       "dtype: int64"
      ]
     },
     "execution_count": 16,
     "metadata": {},
     "output_type": "execute_result"
    }
   ],
   "source": [
    "df.isna().sum()"
   ]
  },
  {
   "cell_type": "markdown",
   "metadata": {},
   "source": [
    "This dataset has missing values in the dataframe that could be dropped, filled with other values or ignored altogether based on their importance in our research."
   ]
  },
  {
   "cell_type": "code",
   "execution_count": 17,
   "metadata": {},
   "outputs": [
    {
     "data": {
      "text/plain": [
       "0"
      ]
     },
     "execution_count": 17,
     "metadata": {},
     "output_type": "execute_result"
    }
   ],
   "source": [
    "df.duplicated().sum()"
   ]
  },
  {
   "cell_type": "markdown",
   "metadata": {},
   "source": [
    "This dataset has no duplicates."
   ]
  },
  {
   "cell_type": "code",
   "execution_count": 18,
   "metadata": {},
   "outputs": [
    {
     "data": {
      "text/html": [
       "<div>\n",
       "<style scoped>\n",
       "    .dataframe tbody tr th:only-of-type {\n",
       "        vertical-align: middle;\n",
       "    }\n",
       "\n",
       "    .dataframe tbody tr th {\n",
       "        vertical-align: top;\n",
       "    }\n",
       "\n",
       "    .dataframe thead th {\n",
       "        text-align: right;\n",
       "    }\n",
       "</style>\n",
       "<table border=\"1\" class=\"dataframe\">\n",
       "  <thead>\n",
       "    <tr style=\"text-align: right;\">\n",
       "      <th></th>\n",
       "      <th>userId</th>\n",
       "      <th>movieId</th>\n",
       "      <th>rating</th>\n",
       "    </tr>\n",
       "  </thead>\n",
       "  <tbody>\n",
       "    <tr>\n",
       "      <th>count</th>\n",
       "      <td>100836.000000</td>\n",
       "      <td>100836.000000</td>\n",
       "      <td>100836.000000</td>\n",
       "    </tr>\n",
       "    <tr>\n",
       "      <th>mean</th>\n",
       "      <td>326.127564</td>\n",
       "      <td>19435.295718</td>\n",
       "      <td>3.501557</td>\n",
       "    </tr>\n",
       "    <tr>\n",
       "      <th>std</th>\n",
       "      <td>182.618491</td>\n",
       "      <td>35530.987199</td>\n",
       "      <td>1.042529</td>\n",
       "    </tr>\n",
       "    <tr>\n",
       "      <th>min</th>\n",
       "      <td>1.000000</td>\n",
       "      <td>1.000000</td>\n",
       "      <td>0.500000</td>\n",
       "    </tr>\n",
       "    <tr>\n",
       "      <th>25%</th>\n",
       "      <td>177.000000</td>\n",
       "      <td>1199.000000</td>\n",
       "      <td>3.000000</td>\n",
       "    </tr>\n",
       "    <tr>\n",
       "      <th>50%</th>\n",
       "      <td>325.000000</td>\n",
       "      <td>2991.000000</td>\n",
       "      <td>3.500000</td>\n",
       "    </tr>\n",
       "    <tr>\n",
       "      <th>75%</th>\n",
       "      <td>477.000000</td>\n",
       "      <td>8122.000000</td>\n",
       "      <td>4.000000</td>\n",
       "    </tr>\n",
       "    <tr>\n",
       "      <th>max</th>\n",
       "      <td>610.000000</td>\n",
       "      <td>193609.000000</td>\n",
       "      <td>5.000000</td>\n",
       "    </tr>\n",
       "  </tbody>\n",
       "</table>\n",
       "</div>"
      ],
      "text/plain": [
       "              userId        movieId         rating\n",
       "count  100836.000000  100836.000000  100836.000000\n",
       "mean      326.127564   19435.295718       3.501557\n",
       "std       182.618491   35530.987199       1.042529\n",
       "min         1.000000       1.000000       0.500000\n",
       "25%       177.000000    1199.000000       3.000000\n",
       "50%       325.000000    2991.000000       3.500000\n",
       "75%       477.000000    8122.000000       4.000000\n",
       "max       610.000000  193609.000000       5.000000"
      ]
     },
     "execution_count": 18,
     "metadata": {},
     "output_type": "execute_result"
    }
   ],
   "source": [
    "df.describe()"
   ]
  },
  {
   "cell_type": "markdown",
   "metadata": {},
   "source": [
    "# Data Visualization"
   ]
  },
  {
   "cell_type": "markdown",
   "metadata": {},
   "source": [
    "### Rating Distribution\n",
    "\n",
    "\n",
    "Examining how movie ratings are distributed using a histogram."
   ]
  },
  {
   "cell_type": "code",
   "execution_count": 19,
   "metadata": {},
   "outputs": [
    {
     "data": {
      "image/png": "[encoded data removed]",
      "text/plain": [
       "<Figure size 864x432 with 1 Axes>"
      ]
     },
     "metadata": {
      "needs_background": "light"
     },
     "output_type": "display_data"
    }
   ],
   "source": [
    "# Plot the distribution of movie ratings\n",
    "plt.figure(figsize=(12, 6))\n",
    "sns.histplot(df['rating'], bins=10, kde=True, color='blue')\n",
    "plt.title('Distribution of Movie Ratings', fontsize=16)\n",
    "plt.xlabel('Rating', fontsize=12)\n",
    "plt.ylabel('Frequency', fontsize=12)\n",
    "plt.show()"
   ]
  },
  {
   "cell_type": "markdown",
   "metadata": {},
   "source": [
    "### Rating Distribution by Genre\n",
    "\n",
    "Analyzing the distribution of ratings for each genre."
   ]
  },
  {
   "cell_type": "code",
   "execution_count": 20,
   "metadata": {},
   "outputs": [
    {
     "data": {
      "image/png": "[encoded data removed]",
      "text/plain": [
       "<Figure size 864x576 with 1 Axes>"
      ]
     },
     "metadata": {
      "needs_background": "light"
     },
     "output_type": "display_data"
    }
   ],
   "source": [
    "# Explode the genres and assign ratings to each genre\n",
    "exploded_genres = df[['rating', 'genres']].copy()\n",
    "exploded_genres = exploded_genres.assign(genres=exploded_genres['genres'].str.split('|')).explode('genres')\n",
    "\n",
    "# Plot rating distribution for each genre\n",
    "plt.figure(figsize=(12, 8))\n",
    "sns.boxplot(x='rating', y='genres', data=exploded_genres, palette='Set2')\n",
    "plt.title('Rating Distribution by Genre', fontsize=16)\n",
    "plt.xlabel('Rating', fontsize=12)\n",
    "plt.ylabel('Genres', fontsize=12)\n",
    "plt.show()"
   ]
  },
  {
   "cell_type": "markdown",
   "metadata": {},
   "source": [
    "Based on the graph above above Crime, Mystery, Drama, War, Film-Noir and Documentary are the highest rated genres hence movie producers can prioritize them when producing a movie."
   ]
  },
  {
   "cell_type": "markdown",
   "metadata": {},
   "source": [
    "# Top 10 Active Users\n",
    "\n",
    "Identifing users who have rated the most movies."
   ]
  },
  {
   "cell_type": "code",
   "execution_count": 21,
   "metadata": {},
   "outputs": [
    {
     "data": {
      "image/png": "[encoded data removed]",
      "text/plain": [
       "<Figure size 720x432 with 1 Axes>"
      ]
     },
     "metadata": {
      "needs_background": "light"
     },
     "output_type": "display_data"
    }
   ],
   "source": [
    "# Count the number of ratings per user\n",
    "top_users = df['userId'].value_counts().head(10)\n",
    "\n",
    "# Plot the top 10 active users\n",
    "plt.figure(figsize=(10, 6))\n",
    "sns.barplot(x=top_users.values, y=top_users.index, palette='Blues_d')\n",
    "plt.title('Top 10 Most Active Users (Number of Ratings)', fontsize=16)\n",
    "plt.xlabel('Number of Ratings', fontsize=12)\n",
    "plt.ylabel('User IDs', fontsize=12)\n",
    "plt.show()"
   ]
  },
  {
   "cell_type": "markdown",
   "metadata": {},
   "source": [
    "# Most Rated Movies\n",
    "\n",
    "Identifing which movies have received the most ratings."
   ]
  },
  {
   "cell_type": "code",
   "execution_count": 22,
   "metadata": {},
   "outputs": [
    {
     "data": {
      "image/png": "[encoded data removed]",
      "text/plain": [
       "<Figure size 864x432 with 1 Axes>"
      ]
     },
     "metadata": {
      "needs_background": "light"
     },
     "output_type": "display_data"
    }
   ],
   "source": [
    "# Count the number of ratings per movie\n",
    "top_movies = df['title'].value_counts().head(10)\n",
    "\n",
    "# Plot the top 10 most rated movies\n",
    "plt.figure(figsize=(12, 6))\n",
    "sns.barplot(x=top_movies.values, y=top_movies.index, palette='RdYlBu')\n",
    "plt.title('Top 10 Most Rated Movies', fontsize=16)\n",
    "plt.xlabel('Number of Ratings', fontsize=12)\n",
    "plt.ylabel('Movie Titles', fontsize=12)\n",
    "plt.show()"
   ]
  },
  {
   "cell_type": "markdown",
   "metadata": {},
   "source": [
    "Forrest Gump(1994) is the most rated movie with over three hundred ratings."
   ]
  },
  {
   "cell_type": "markdown",
   "metadata": {},
   "source": [
    "## Distribution of Ratings Over Time"
   ]
  },
  {
   "cell_type": "code",
   "execution_count": 23,
   "metadata": {},
   "outputs": [
    {
     "data": {
      "image/png": "[encoded data removed]",
      "text/plain": [
       "<Figure size 864x432 with 1 Axes>"
      ]
     },
     "metadata": {
      "needs_background": "light"
     },
     "output_type": "display_data"
    }
   ],
   "source": [
    "# Convert timestamp to datetime\n",
    "ratings['timestamp'] = pd.to_datetime(ratings['timestamp'], unit='s')\n",
    "plt.figure(figsize=(12, 6))\n",
    "ratings.set_index('timestamp').resample('M').size().plot()\n",
    "plt.title('Number of Ratings Over Time')\n",
    "plt.xlabel('Date')\n",
    "plt.ylabel('Number of Ratings')\n",
    "plt.show()"
   ]
  },
  {
   "cell_type": "markdown",
   "metadata": {},
   "source": [
    "### Most used Tags"
   ]
  },
  {
   "cell_type": "code",
   "execution_count": 24,
   "metadata": {},
   "outputs": [
    {
     "data": {
      "image/png": "[encoded data removed]",
      "text/plain": [
       "<Figure size 720x432 with 1 Axes>"
      ]
     },
     "metadata": {
      "needs_background": "light"
     },
     "output_type": "display_data"
    }
   ],
   "source": [
    "# Count occurrences of each tag\n",
    "top_tags = tags['tag'].value_counts().head(10)\n",
    "\n",
    "plt.figure(figsize=(10, 6))\n",
    "sns.barplot(x=top_tags.values, y=top_tags.index, palette='plasma')\n",
    "plt.title('Top 10 Most Used Tags')\n",
    "plt.xlabel('Count')\n",
    "plt.ylabel('Tag')\n",
    "plt.show()"
   ]
  },
  {
   "cell_type": "markdown",
   "metadata": {},
   "source": [
    "# Creating a utility matrix\n",
    "A utility matrix is essential for collaborative filtering. Rows will represent users, columns will represent movies, and the values will be the ratings."
   ]
  },
  {
   "cell_type": "code",
   "execution_count": 25,
   "metadata": {},
   "outputs": [
    {
     "data": {
      "text/html": [
       "<div>\n",
       "<style scoped>\n",
       "    .dataframe tbody tr th:only-of-type {\n",
       "        vertical-align: middle;\n",
       "    }\n",
       "\n",
       "    .dataframe tbody tr th {\n",
       "        vertical-align: top;\n",
       "    }\n",
       "\n",
       "    .dataframe thead th {\n",
       "        text-align: right;\n",
       "    }\n",
       "</style>\n",
       "<table border=\"1\" class=\"dataframe\">\n",
       "  <thead>\n",
       "    <tr style=\"text-align: right;\">\n",
       "      <th>title</th>\n",
       "      <th>'71 (2014)</th>\n",
       "      <th>'Hellboy': The Seeds of Creation (2004)</th>\n",
       "      <th>'Round Midnight (1986)</th>\n",
       "      <th>'Salem's Lot (2004)</th>\n",
       "      <th>'Til There Was You (1997)</th>\n",
       "      <th>'Tis the Season for Love (2015)</th>\n",
       "      <th>'burbs, The (1989)</th>\n",
       "      <th>'night Mother (1986)</th>\n",
       "      <th>(500) Days of Summer (2009)</th>\n",
       "      <th>*batteries not included (1987)</th>\n",
       "      <th>...</th>\n",
       "      <th>Zulu (2013)</th>\n",
       "      <th>[REC] (2007)</th>\n",
       "      <th>[REC]² (2009)</th>\n",
       "      <th>[REC]³ 3 Génesis (2012)</th>\n",
       "      <th>anohana: The Flower We Saw That Day - The Movie (2013)</th>\n",
       "      <th>eXistenZ (1999)</th>\n",
       "      <th>xXx (2002)</th>\n",
       "      <th>xXx: State of the Union (2005)</th>\n",
       "      <th>¡Three Amigos! (1986)</th>\n",
       "      <th>À nous la liberté (Freedom for Us) (1931)</th>\n",
       "    </tr>\n",
       "    <tr>\n",
       "      <th>userId</th>\n",
       "      <th></th>\n",
       "      <th></th>\n",
       "      <th></th>\n",
       "      <th></th>\n",
       "      <th></th>\n",
       "      <th></th>\n",
       "      <th></th>\n",
       "      <th></th>\n",
       "      <th></th>\n",
       "      <th></th>\n",
       "      <th></th>\n",
       "      <th></th>\n",
       "      <th></th>\n",
       "      <th></th>\n",
       "      <th></th>\n",
       "      <th></th>\n",
       "      <th></th>\n",
       "      <th></th>\n",
       "      <th></th>\n",
       "      <th></th>\n",
       "      <th></th>\n",
       "    </tr>\n",
       "  </thead>\n",
       "  <tbody>\n",
       "    <tr>\n",
       "      <th>1</th>\n",
       "      <td>0.0</td>\n",
       "      <td>0.0</td>\n",
       "      <td>0.0</td>\n",
       "      <td>0.0</td>\n",
       "      <td>0.0</td>\n",
       "      <td>0.0</td>\n",
       "      <td>0.0</td>\n",
       "      <td>0.0</td>\n",
       "      <td>0.0</td>\n",
       "      <td>0.0</td>\n",
       "      <td>...</td>\n",
       "      <td>0.0</td>\n",
       "      <td>0.0</td>\n",
       "      <td>0.0</td>\n",
       "      <td>0.0</td>\n",
       "      <td>0.0</td>\n",
       "      <td>0.0</td>\n",
       "      <td>0.0</td>\n",
       "      <td>0.0</td>\n",
       "      <td>4.0</td>\n",
       "      <td>0.0</td>\n",
       "    </tr>\n",
       "    <tr>\n",
       "      <th>2</th>\n",
       "      <td>0.0</td>\n",
       "      <td>0.0</td>\n",
       "      <td>0.0</td>\n",
       "      <td>0.0</td>\n",
       "      <td>0.0</td>\n",
       "      <td>0.0</td>\n",
       "      <td>0.0</td>\n",
       "      <td>0.0</td>\n",
       "      <td>0.0</td>\n",
       "      <td>0.0</td>\n",
       "      <td>...</td>\n",
       "      <td>0.0</td>\n",
       "      <td>0.0</td>\n",
       "      <td>0.0</td>\n",
       "      <td>0.0</td>\n",
       "      <td>0.0</td>\n",
       "      <td>0.0</td>\n",
       "      <td>0.0</td>\n",
       "      <td>0.0</td>\n",
       "      <td>0.0</td>\n",
       "      <td>0.0</td>\n",
       "    </tr>\n",
       "    <tr>\n",
       "      <th>3</th>\n",
       "      <td>0.0</td>\n",
       "      <td>0.0</td>\n",
       "      <td>0.0</td>\n",
       "      <td>0.0</td>\n",
       "      <td>0.0</td>\n",
       "      <td>0.0</td>\n",
       "      <td>0.0</td>\n",
       "      <td>0.0</td>\n",
       "      <td>0.0</td>\n",
       "      <td>0.0</td>\n",
       "      <td>...</td>\n",
       "      <td>0.0</td>\n",
       "      <td>0.0</td>\n",
       "      <td>0.0</td>\n",
       "      <td>0.0</td>\n",
       "      <td>0.0</td>\n",
       "      <td>0.0</td>\n",
       "      <td>0.0</td>\n",
       "      <td>0.0</td>\n",
       "      <td>0.0</td>\n",
       "      <td>0.0</td>\n",
       "    </tr>\n",
       "    <tr>\n",
       "      <th>4</th>\n",
       "      <td>0.0</td>\n",
       "      <td>0.0</td>\n",
       "      <td>0.0</td>\n",
       "      <td>0.0</td>\n",
       "      <td>0.0</td>\n",
       "      <td>0.0</td>\n",
       "      <td>0.0</td>\n",
       "      <td>0.0</td>\n",
       "      <td>0.0</td>\n",
       "      <td>0.0</td>\n",
       "      <td>...</td>\n",
       "      <td>0.0</td>\n",
       "      <td>0.0</td>\n",
       "      <td>0.0</td>\n",
       "      <td>0.0</td>\n",
       "      <td>0.0</td>\n",
       "      <td>0.0</td>\n",
       "      <td>0.0</td>\n",
       "      <td>0.0</td>\n",
       "      <td>0.0</td>\n",
       "      <td>0.0</td>\n",
       "    </tr>\n",
       "    <tr>\n",
       "      <th>5</th>\n",
       "      <td>0.0</td>\n",
       "      <td>0.0</td>\n",
       "      <td>0.0</td>\n",
       "      <td>0.0</td>\n",
       "      <td>0.0</td>\n",
       "      <td>0.0</td>\n",
       "      <td>0.0</td>\n",
       "      <td>0.0</td>\n",
       "      <td>0.0</td>\n",
       "      <td>0.0</td>\n",
       "      <td>...</td>\n",
       "      <td>0.0</td>\n",
       "      <td>0.0</td>\n",
       "      <td>0.0</td>\n",
       "      <td>0.0</td>\n",
       "      <td>0.0</td>\n",
       "      <td>0.0</td>\n",
       "      <td>0.0</td>\n",
       "      <td>0.0</td>\n",
       "      <td>0.0</td>\n",
       "      <td>0.0</td>\n",
       "    </tr>\n",
       "  </tbody>\n",
       "</table>\n",
       "<p>5 rows × 9719 columns</p>\n",
       "</div>"
      ],
      "text/plain": [
       "title   '71 (2014)  'Hellboy': The Seeds of Creation (2004)  \\\n",
       "userId                                                        \n",
       "1              0.0                                      0.0   \n",
       "2              0.0                                      0.0   \n",
       "3              0.0                                      0.0   \n",
       "4              0.0                                      0.0   \n",
       "5              0.0                                      0.0   \n",
       "\n",
       "title   'Round Midnight (1986)  'Salem's Lot (2004)  \\\n",
       "userId                                                \n",
       "1                          0.0                  0.0   \n",
       "2                          0.0                  0.0   \n",
       "3                          0.0                  0.0   \n",
       "4                          0.0                  0.0   \n",
       "5                          0.0                  0.0   \n",
       "\n",
       "title   'Til There Was You (1997)  'Tis the Season for Love (2015)  \\\n",
       "userId                                                               \n",
       "1                             0.0                              0.0   \n",
       "2                             0.0                              0.0   \n",
       "3                             0.0                              0.0   \n",
       "4                             0.0                              0.0   \n",
       "5                             0.0                              0.0   \n",
       "\n",
       "title   'burbs, The (1989)  'night Mother (1986)  (500) Days of Summer (2009)  \\\n",
       "userId                                                                          \n",
       "1                      0.0                   0.0                          0.0   \n",
       "2                      0.0                   0.0                          0.0   \n",
       "3                      0.0                   0.0                          0.0   \n",
       "4                      0.0                   0.0                          0.0   \n",
       "5                      0.0                   0.0                          0.0   \n",
       "\n",
       "title   *batteries not included (1987)  ...  Zulu (2013)  [REC] (2007)  \\\n",
       "userId                                  ...                              \n",
       "1                                  0.0  ...          0.0           0.0   \n",
       "2                                  0.0  ...          0.0           0.0   \n",
       "3                                  0.0  ...          0.0           0.0   \n",
       "4                                  0.0  ...          0.0           0.0   \n",
       "5                                  0.0  ...          0.0           0.0   \n",
       "\n",
       "title   [REC]² (2009)  [REC]³ 3 Génesis (2012)  \\\n",
       "userId                                           \n",
       "1                 0.0                      0.0   \n",
       "2                 0.0                      0.0   \n",
       "3                 0.0                      0.0   \n",
       "4                 0.0                      0.0   \n",
       "5                 0.0                      0.0   \n",
       "\n",
       "title   anohana: The Flower We Saw That Day - The Movie (2013)  \\\n",
       "userId                                                           \n",
       "1                                                     0.0        \n",
       "2                                                     0.0        \n",
       "3                                                     0.0        \n",
       "4                                                     0.0        \n",
       "5                                                     0.0        \n",
       "\n",
       "title   eXistenZ (1999)  xXx (2002)  xXx: State of the Union (2005)  \\\n",
       "userId                                                                \n",
       "1                   0.0         0.0                             0.0   \n",
       "2                   0.0         0.0                             0.0   \n",
       "3                   0.0         0.0                             0.0   \n",
       "4                   0.0         0.0                             0.0   \n",
       "5                   0.0         0.0                             0.0   \n",
       "\n",
       "title   ¡Three Amigos! (1986)  À nous la liberté (Freedom for Us) (1931)  \n",
       "userId                                                                    \n",
       "1                         4.0                                        0.0  \n",
       "2                         0.0                                        0.0  \n",
       "3                         0.0                                        0.0  \n",
       "4                         0.0                                        0.0  \n",
       "5                         0.0                                        0.0  \n",
       "\n",
       "[5 rows x 9719 columns]"
      ]
     },
     "execution_count": 25,
     "metadata": {},
     "output_type": "execute_result"
    }
   ],
   "source": [
    "# Creating a utility matrix where users are rows, movies are columns, and ratings are values\n",
    "movie_matrix = df.pivot_table(index='userId', columns='title', values='rating')\n",
    "\n",
    "# Filling missing ratings with 0 for simplicity (or we could use other imputation methods)\n",
    "movie_matrix.fillna(0, inplace=True)\n",
    "\n",
    "# Display the utility matrix\n",
    "movie_matrix.head()"
   ]
  },
  {
   "cell_type": "markdown",
   "metadata": {},
   "source": [
    "# Modelling"
   ]
  },
  {
   "cell_type": "markdown",
   "metadata": {},
   "source": [
    "Use surprise's built-in reader class to process data to work with recommender algorithms."
   ]
  },
  {
   "cell_type": "code",
   "execution_count": 26,
   "metadata": {},
   "outputs": [],
   "source": [
    "from surprise import Reader, Dataset\n",
    "reader = Reader()\n",
    "\n",
    "# Ensure the DataFrame has only the necessary columns\n",
    "df_for_surprise = df[['userId', 'movieId', 'rating']]\n",
    "\n",
    "# Load the data into Surprise's Dataset object\n",
    "data = Dataset.load_from_df(df_for_surprise, reader)"
   ]
  },
  {
   "cell_type": "markdown",
   "metadata": {},
   "source": [
    "We check how many users and items we have in our dataset to determine whether or not we should perform user-user or item-item similarity."
   ]
  },
  {
   "cell_type": "code",
   "execution_count": 27,
   "metadata": {},
   "outputs": [
    {
     "name": "stdout",
     "output_type": "stream",
     "text": [
      "Number of users:  610 \n",
      "\n",
      "Number of items:  9724\n"
     ]
    }
   ],
   "source": [
    "dataset = data.build_full_trainset()\n",
    "print('Number of users: ', dataset.n_users, '\\n')\n",
    "print('Number of items: ', dataset.n_items)"
   ]
  },
  {
   "cell_type": "markdown",
   "metadata": {},
   "source": [
    "## Baseline Models"
   ]
  },
  {
   "cell_type": "code",
   "execution_count": 28,
   "metadata": {},
   "outputs": [
    {
     "name": "stdout",
     "output_type": "stream",
     "text": [
      "Computing the cosine similarity matrix...\n",
      "Done computing similarity matrix.\n",
      "Computing the cosine similarity matrix...\n",
      "Done computing similarity matrix.\n",
      "Computing the cosine similarity matrix...\n",
      "Done computing similarity matrix.\n",
      "Computing the cosine similarity matrix...\n",
      "Done computing similarity matrix.\n",
      "Computing the cosine similarity matrix...\n",
      "Done computing similarity matrix.\n",
      "Evaluating RMSE, MAE of algorithm KNNBasic on 5 split(s).\n",
      "\n",
      "                  Fold 1  Fold 2  Fold 3  Fold 4  Fold 5  Mean    Std     \n",
      "RMSE (testset)    0.9690  0.9751  0.9757  0.9658  0.9759  0.9723  0.0041  \n",
      "MAE (testset)     0.7463  0.7511  0.7487  0.7454  0.7527  0.7488  0.0028  \n",
      "Fit time          2.29    4.70    1.45    1.81    1.32    2.31    1.24    \n",
      "Test time         2.41    7.92    3.50    2.87    2.81    3.90    2.04    \n",
      "KNNBasic Results\n",
      "Average RMSE: 0.9723070779644487\n",
      "Average MAE: 0.7488487779456822\n"
     ]
    }
   ],
   "source": [
    "knn_basic = KNNBasic(sim_options={'name': 'cosine', 'user_based': True})\n",
    "knn_basic_results = cross_validate(knn_basic, data, measures=['RMSE', 'MAE'], cv=5, verbose=True)\n",
    "print(\"KNNBasic Results\")\n",
    "print(f\"Average RMSE: {knn_basic_results['test_rmse'].mean()}\")\n",
    "print(f\"Average MAE: {knn_basic_results['test_mae'].mean()}\")"
   ]
  },
  {
   "cell_type": "code",
   "execution_count": 29,
   "metadata": {},
   "outputs": [
    {
     "name": "stdout",
     "output_type": "stream",
     "text": [
      "Computing the cosine similarity matrix...\n",
      "Done computing similarity matrix.\n",
      "Computing the cosine similarity matrix...\n",
      "Done computing similarity matrix.\n",
      "Computing the cosine similarity matrix...\n",
      "Done computing similarity matrix.\n",
      "Computing the cosine similarity matrix...\n",
      "Done computing similarity matrix.\n",
      "Computing the cosine similarity matrix...\n",
      "Done computing similarity matrix.\n",
      "Evaluating RMSE, MAE of algorithm KNNWithMeans on 5 split(s).\n",
      "\n",
      "                  Fold 1  Fold 2  Fold 3  Fold 4  Fold 5  Mean    Std     \n",
      "RMSE (testset)    0.9093  0.8932  0.9030  0.8965  0.8989  0.9002  0.0056  \n",
      "MAE (testset)     0.6959  0.6852  0.6910  0.6857  0.6861  0.6888  0.0041  \n",
      "Fit time          1.26    1.23    1.30    1.49    1.11    1.28    0.12    \n",
      "Test time         4.28    2.82    3.49    2.74    2.85    3.24    0.59    \n",
      "\n",
      "KNNWithMeans Results\n",
      "Average RMSE: 0.9001583412181755\n",
      "Average MAE: 0.6887720782098186\n"
     ]
    }
   ],
   "source": [
    "# KNNWithMeans - Adjusted KNN model with mean subtraction\n",
    "knn_means = KNNWithMeans(sim_options={'name': 'cosine', 'user_based': True})\n",
    "knn_means_results = cross_validate(knn_means, data, measures=['RMSE', 'MAE'], cv=5, verbose=True)\n",
    "print(\"\\nKNNWithMeans Results\")\n",
    "print(f\"Average RMSE: {knn_means_results['test_rmse'].mean()}\")\n",
    "print(f\"Average MAE: {knn_means_results['test_mae'].mean()}\")"
   ]
  },
  {
   "cell_type": "code",
   "execution_count": 30,
   "metadata": {},
   "outputs": [
    {
     "name": "stdout",
     "output_type": "stream",
     "text": [
      "Estimating biases using als...\n",
      "Computing the cosine similarity matrix...\n",
      "Done computing similarity matrix.\n",
      "Estimating biases using als...\n",
      "Computing the cosine similarity matrix...\n",
      "Done computing similarity matrix.\n",
      "Estimating biases using als...\n",
      "Computing the cosine similarity matrix...\n",
      "Done computing similarity matrix.\n",
      "Estimating biases using als...\n",
      "Computing the cosine similarity matrix...\n",
      "Done computing similarity matrix.\n",
      "Estimating biases using als...\n",
      "Computing the cosine similarity matrix...\n",
      "Done computing similarity matrix.\n",
      "Evaluating RMSE, MAE of algorithm KNNBaseline on 5 split(s).\n",
      "\n",
      "                  Fold 1  Fold 2  Fold 3  Fold 4  Fold 5  Mean    Std     \n",
      "RMSE (testset)    0.8814  0.8744  0.8752  0.8781  0.8839  0.8786  0.0036  \n",
      "MAE (testset)     0.6736  0.6724  0.6673  0.6726  0.6768  0.6725  0.0031  \n",
      "Fit time          1.80    1.44    1.35    1.95    1.40    1.59    0.24    \n",
      "Test time         3.55    3.48    3.80    3.43    3.28    3.51    0.17    \n",
      "\n",
      "KNNBaseline Results\n",
      "Average RMSE: 0.8785917811435068\n",
      "Average MAE: 0.6725248813592255\n"
     ]
    }
   ],
   "source": [
    "# KNNBaseline - KNN with baseline ratings\n",
    "knn_baseline = KNNBaseline(sim_options={'name': 'cosine', 'user_based': True})\n",
    "knn_baseline_results = cross_validate(knn_baseline, data, measures=['RMSE', 'MAE'], cv=5, verbose=True)\n",
    "print(\"\\nKNNBaseline Results\")\n",
    "print(f\"Average RMSE: {knn_baseline_results['test_rmse'].mean()}\")\n",
    "print(f\"Average MAE: {knn_baseline_results['test_mae'].mean()}\")"
   ]
  },
  {
   "cell_type": "code",
   "execution_count": 31,
   "metadata": {},
   "outputs": [
    {
     "name": "stdout",
     "output_type": "stream",
     "text": [
      "Evaluating RMSE, MAE of algorithm SVD on 5 split(s).\n",
      "\n",
      "                  Fold 1  Fold 2  Fold 3  Fold 4  Fold 5  Mean    Std     \n",
      "RMSE (testset)    0.8759  0.8768  0.8718  0.8697  0.8782  0.8745  0.0032  \n",
      "MAE (testset)     0.6720  0.6752  0.6703  0.6668  0.6755  0.6719  0.0032  \n",
      "Fit time          10.16   11.97   13.20   9.44    7.42    10.44   2.01    \n",
      "Test time         0.90    0.24    0.43    0.28    0.40    0.45    0.23    \n",
      "SVD Results\n",
      "Average RMSE: 0.8744630733023075\n",
      "Average MAE: 0.6719397773816851\n"
     ]
    }
   ],
   "source": [
    "# Initialize the SVD model\n",
    "svd = SVD()\n",
    "# Perform cross-validation on the dataset\n",
    "svd_results = cross_validate(svd, data, measures=['RMSE', 'MAE'], cv=5, verbose=True)\n",
    "print(\"SVD Results\")\n",
    "print(f\"Average RMSE: {svd_results['test_rmse'].mean()}\")\n",
    "print(f\"Average MAE: {svd_results['test_mae'].mean()}\")"
   ]
  },
  {
   "cell_type": "markdown",
   "metadata": {},
   "source": [
    "SVD performs the best with the lowest RMSE of 0.8746, indicating it has the most accurate predictions in terms of minimizing error.\n",
    "KNNBaseline is a close second with an RMSE of 0.8772, which is still very good and competitive with SVD.\n",
    "KNNWithMeans performs moderately well with an RMSE of 0.9002, better than KNNBasic but worse than the other models.\n",
    "KNNBasic has the highest RMSE of 0.9708, suggesting it is the least accurate model among the ones compared."
   ]
  },
  {
   "cell_type": "markdown",
   "metadata": {},
   "source": [
    "SVD and KNNBaseline are the top-performing models based on RMSE, making them preferable for recommendation tasks."
   ]
  },
  {
   "cell_type": "markdown",
   "metadata": {},
   "source": []
  },
  {
   "cell_type": "markdown",
   "metadata": {},
   "source": [
    "## Model Tuning"
   ]
  },
  {
   "cell_type": "code",
   "execution_count": 32,
   "metadata": {},
   "outputs": [],
   "source": [
    "params = {'n_factors': [20, 50, 100],\n",
    "         'reg_all': [0.02, 0.05, 0.1]}"
   ]
  },
  {
   "cell_type": "code",
   "execution_count": 33,
   "metadata": {},
   "outputs": [
    {
     "name": "stdout",
     "output_type": "stream",
     "text": [
      "Best RMSE for KNNBasic: 0.9486010880691879\n",
      "Best parameters for KNNBasic: {'n_factors': 20, 'reg_all': 0.02}\n"
     ]
    }
   ],
   "source": [
    "# Initialize GridSearch for KNNBasic\n",
    "gs_knn_basic = GridSearchCV(KNNBasic, params, measures=['rmse', 'mae'], cv=5, n_jobs=-1)\n",
    "\n",
    "# Perform the grid search\n",
    "gs_knn_basic.fit(data)\n",
    "\n",
    "# Print the best RMSE score and corresponding parameters\n",
    "print(f\"Best RMSE for KNNBasic: {gs_knn_basic.best_score['rmse']}\")\n",
    "print(f\"Best parameters for KNNBasic: {gs_knn_basic.best_params['rmse']}\")"
   ]
  },
  {
   "cell_type": "code",
   "execution_count": 34,
   "metadata": {},
   "outputs": [
    {
     "name": "stdout",
     "output_type": "stream",
     "text": [
      "Best RMSE for KNNBaseline: 0.8734643923389548\n",
      "Best parameters for KNNBaseline: {'n_factors': 20, 'reg_all': 0.02}\n"
     ]
    }
   ],
   "source": [
    "# Initialize GridSearch for KNNBaseline\n",
    "gs_knn_baseline = GridSearchCV(KNNBaseline, params, measures=['rmse', 'mae'], cv=5, n_jobs=-1)\n",
    "\n",
    "# Perform the grid search\n",
    "gs_knn_baseline.fit(data)\n",
    "\n",
    "# Print the best RMSE score and corresponding parameters\n",
    "print(f\"Best RMSE for KNNBaseline: {gs_knn_baseline.best_score['rmse']}\")\n",
    "print(f\"Best parameters for KNNBaseline: {gs_knn_baseline.best_params['rmse']}\")"
   ]
  },
  {
   "cell_type": "code",
   "execution_count": 35,
   "metadata": {},
   "outputs": [
    {
     "name": "stdout",
     "output_type": "stream",
     "text": [
      "Best RMSE for KNNWithMeans: 0.8955972232621712\n",
      "Best parameters for KNNWithMeans: {'n_factors': 20, 'reg_all': 0.02}\n"
     ]
    }
   ],
   "source": [
    "# Initialize GridSearch for KNNWithMeans\n",
    "gs_knn_means = GridSearchCV(KNNWithMeans, params, measures=['rmse', 'mae'], cv=5, n_jobs=-1)\n",
    "\n",
    "# Perform the grid search\n",
    "gs_knn_means.fit(data)\n",
    "\n",
    "# Print the best RMSE score and corresponding parameters\n",
    "print(f\"Best RMSE for KNNWithMeans: {gs_knn_means.best_score['rmse']}\")\n",
    "print(f\"Best parameters for KNNWithMeans: {gs_knn_means.best_params['rmse']}\")"
   ]
  },
  {
   "cell_type": "code",
   "execution_count": 36,
   "metadata": {},
   "outputs": [
    {
     "name": "stdout",
     "output_type": "stream",
     "text": [
      "Best RMSE for SVD: 0.8691113893549854\n",
      "Best parameters for SVD: {'n_factors': 100, 'reg_all': 0.05}\n"
     ]
    }
   ],
   "source": [
    "# Initialize GridSearch for SVD\n",
    "g_s_svd = GridSearchCV(SVD, params, measures=['rmse', 'mae'], cv=5, n_jobs=-1)\n",
    "\n",
    "# Perform the grid search\n",
    "g_s_svd.fit(data)\n",
    "\n",
    "# Print the best RMSE score and corresponding parameters\n",
    "print(f\"Best RMSE for SVD: {g_s_svd.best_score['rmse']}\")\n",
    "print(f\"Best parameters for SVD: {g_s_svd.best_params['rmse']}\")"
   ]
  },
  {
   "cell_type": "markdown",
   "metadata": {},
   "source": [
    "After model tuning, SVD performs best with the lowest RMSE of 0.8696 as compared to other models hence best choice to use in our recommendation system. The results indicate that the choice of model and tuning parameters significantly impacts performance. SVD's ability to leverage latent factors appears crucial for achieving better accuracy in this context."
   ]
  },
  {
   "cell_type": "markdown",
   "metadata": {},
   "source": [
    "## Model Evaluation"
   ]
  },
  {
   "cell_type": "code",
   "execution_count": 37,
   "metadata": {},
   "outputs": [],
   "source": [
    "# Build the full trainset with the best parameters\n",
    "best_params = g_s_svd.best_params\n",
    "trainset = data.build_full_trainset()"
   ]
  },
  {
   "cell_type": "code",
   "execution_count": 38,
   "metadata": {},
   "outputs": [
    {
     "name": "stdout",
     "output_type": "stream",
     "text": [
      "Best parameters: {'rmse': {'n_factors': 100, 'reg_all': 0.05}, 'mae': {'n_factors': 100, 'reg_all': 0.05}}\n",
      "Best parameters for RMSE: {'n_factors': 100, 'reg_all': 0.05}\n",
      "Best RMSE Params Structure: {'n_factors': 100, 'reg_all': 0.05}\n"
     ]
    }
   ],
   "source": [
    "# Get the best parameters for RMSE\n",
    "best_params = g_s_svd.best_params\n",
    "print(\"Best parameters:\", best_params)\n",
    "\n",
    "# Access the best parameters for RMSE\n",
    "best_rmse_params = best_params['rmse']\n",
    "print(\"Best parameters for RMSE:\", best_rmse_params)\n",
    "\n",
    "# Check the structure of best_rmse_params\n",
    "print(\"Best RMSE Params Structure:\", best_rmse_params)\n",
    "\n",
    "# Initialize and fit the SVD model with the best parameters\n",
    "try:\n",
    "    algo = SVD(\n",
    "        n_factors=best_rmse_params['n_factors'],   \n",
    "        reg_all=best_rmse_params['reg_all']\n",
    "    )\n",
    "except KeyError as e:\n",
    "    print(f\"Parameter not found: {e}\")\n",
    "\n",
    "# Fit the model on the full trainset\n",
    "trainset = data.build_full_trainset()\n",
    "algo.fit(trainset)\n",
    "\n",
    "# Predict ratings for all pairs (u, i) that are NOT in the training set.\n",
    "testset = trainset.build_anti_testset()\n",
    "\n",
    "# Predicting the ratings for the test set\n",
    "predictions = algo.test(testset)\n"
   ]
  },
  {
   "cell_type": "markdown",
   "metadata": {},
   "source": [
    "## Obtaining User Movie Ratings"
   ]
  },
  {
   "cell_type": "code",
   "execution_count": 39,
   "metadata": {},
   "outputs": [
    {
     "name": "stdout",
     "output_type": "stream",
     "text": [
      "User 1: [(318, 5), (48516, 5), (904, 5), (858, 5)]\n",
      "User 2: [(750, 4.581850123143859), (3030, 4.544936587458278), (1276, 4.492746676381729), (904, 4.479718601002415)]\n",
      "User 3: [(3030, 3.6945659138605675), (741, 3.6180720522746155), (4011, 3.5878245184269018), (1276, 3.5815715755443094)]\n",
      "User 4: [(6016, 4.215412634149182), (1217, 4.214372151673563), (1247, 4.1910278970010015), (92535, 4.171700006662079)]\n",
      "User 5: [(858, 4.40912397487299), (1221, 4.333662755515055), (1217, 4.28758506321004), (56782, 4.2865085156621685)]\n",
      "User 6: [(750, 4.5131526608427235), (904, 4.493739240860181), (898, 4.406087363766089), (912, 4.401095627122307)]\n",
      "User 7: [(1104, 4.194977909270138), (904, 4.170102774219509), (318, 4.1395369728675915), (1262, 4.114808159458168)]\n",
      "User 8: [(260, 4.329434558590444), (750, 4.327665277502936), (2329, 4.319095924824849), (858, 4.311704046087155)]\n",
      "User 9: [(1267, 4.149981462204457), (1233, 4.130481723840061), (475, 4.124053580178606), (912, 4.120027161558154)]\n",
      "User 10: [(3424, 4.188035322718994), (2398, 4.0428978854046935), (1945, 4.042575101692952), (5690, 3.974021084172239)]\n",
      "User 11: [(1204, 4.631216435547539), (741, 4.607616692242621), (1217, 4.59428564893256), (1198, 4.59229253313522)]\n",
      "User 12: [(260, 5), (296, 5), (356, 5), (923, 5)]\n",
      "User 13: [(904, 4.567223921115703), (750, 4.561744208371189), (898, 4.50199710456713), (1089, 4.487688302119056)]\n",
      "User 14: [(1233, 4.261839204961705), (750, 4.232363938526012), (1104, 4.229764865654832), (4973, 4.228704420731254)]\n",
      "User 15: [(3030, 4.254039234323697), (750, 4.209139513826713), (1104, 4.206227369302536), (904, 4.151995709188705)]\n",
      "User 16: [(720, 4.107903779009964), (1178, 4.09130411079365), (1272, 4.0881207743823715), (1204, 4.086962806996229)]\n",
      "User 17: [(1204, 4.618620281664415), (3451, 4.52007011603121), (1104, 4.512199533064064), (1208, 4.504022586971853)]\n",
      "User 18: [(1204, 4.444213653005906), (750, 4.444048199752617), (1104, 4.438790156162818), (741, 4.350054543780158)]\n",
      "User 19: [(1204, 3.7229583053359403), (858, 3.69938228936787), (318, 3.638042447719178), (4226, 3.603970928473501)]\n",
      "User 20: [(318, 4.580147403971123), (904, 4.504046637934868), (2571, 4.492867447440657), (3275, 4.482942912649487)]\n",
      "User 21: [(1262, 4.091603171612728), (318, 4.017968665724095), (1228, 3.991104867548101), (3030, 3.961852041037934)]\n",
      "User 22: [(1204, 3.3826309527684053), (1104, 3.2458486278054157), (898, 3.2382182314353645), (904, 3.2103347271130067)]\n",
      "User 23: [(318, 4.169474086327023), (2959, 4.158170706112567), (1204, 4.100267813624524), (7361, 4.067994863683912)]\n",
      "User 24: [(1204, 4.232153815272674), (858, 4.222494696362575), (2959, 4.2090693241626), (1262, 4.199295750515181)]\n",
      "User 25: [(50, 5), (1089, 5), (1196, 5), (1197, 5)]\n",
      "User 26: [(1204, 4.096052162013955), (318, 4.0585242422339105), (2959, 4.054629896670755), (1197, 4.044935475733811)]\n",
      "User 27: [(858, 4.391408621888687), (57669, 4.3036259836226955), (318, 4.289116307660192), (1208, 4.261359680547253)]\n",
      "User 28: [(750, 3.725579587514667), (1204, 3.7065740631547412), (1235, 3.6994358132305396), (1178, 3.693984103685222)]\n",
      "User 29: [(912, 4.647630356173179), (1217, 4.637704670932008), (1196, 4.61242696314605), (4973, 4.6045902561213445)]\n",
      "User 30: [(527, 5), (1089, 5), (1136, 5), (858, 5)]\n",
      "User 31: [(318, 4.650890474497215), (3451, 4.650482936742425), (898, 4.61501043314202), (904, 4.610926001406269)]\n",
      "User 32: [(858, 4.603341255799446), (898, 4.603135373023202), (1204, 4.562372989580641), (3451, 4.530700561277635)]\n",
      "User 33: [(904, 4.471312753828996), (750, 4.459443591514107), (5618, 4.448049850766872), (1247, 4.439476882061164)]\n",
      "User 34: [(56782, 4.394844512099292), (908, 4.344365225500947), (1104, 4.3183584125119925), (1217, 4.292450526894328)]\n",
      "User 35: [(318, 4.907990471506653), (2959, 4.883319074240986), (951, 4.880124939594744), (858, 4.814936034850433)]\n",
      "User 36: [(1193, 3.6210573562807364), (246, 3.5967982683124564), (6787, 3.55245441258963), (1204, 3.52455502559206)]\n",
      "User 37: [(56782, 4.816303687669432), (1223, 4.811303425740585), (1136, 4.802280140391229), (3468, 4.797485803471307)]\n",
      "User 38: [(750, 4.113839145614187), (260, 4.078684853969281), (2160, 4.077212586236414), (1233, 4.060217601969938)]\n",
      "User 39: [(318, 4.731817722904651), (898, 4.573296082223128), (741, 4.5314065591700095), (1104, 4.517909928541527)]\n",
      "User 40: [(2959, 4.798887609346692), (1104, 4.6970134748453445), (50, 4.654546737768406), (1204, 4.653058967707522)]\n",
      "User 41: [(898, 4.03049266454501), (1303, 3.9350176183605803), (177593, 3.924187605339508), (3000, 3.8863188432203684)]\n",
      "User 42: [(1217, 4.497949470440974), (1136, 4.484359691418719), (5618, 4.451385155653762), (2019, 4.445325751897864)]\n",
      "User 43: [(6, 5), (50, 5), (260, 5), (527, 5)]\n",
      "User 44: [(1217, 4.347711349564758), (750, 4.337718947413158), (50, 4.32962082810951), (296, 4.303682231688319)]\n",
      "User 45: [(1204, 4.765602518207549), (741, 4.730978475336033), (3451, 4.7197584462249935), (38061, 4.714636012429928)]\n",
      "User 46: [(750, 4.820131614894865), (1148, 4.816500261935446), (3275, 4.815243838829349), (356, 4.8135957677342756)]\n",
      "User 47: [(177593, 3.8051465150828943), (1204, 3.8041853769153744), (1233, 3.789561326686303), (5690, 3.7715878977328128)]\n",
      "User 48: [(1104, 4.781038756074454), (1207, 4.777369425897307), (3275, 4.765962073441983), (1209, 4.764850964793941)]\n",
      "User 49: [(1204, 4.7169547173011255), (898, 4.645033722063116), (750, 4.638834493499799), (2324, 4.632517959838031)]\n",
      "User 50: [(898, 3.464203993155613), (4973, 3.4027877711426164), (50, 3.396043237124911), (1213, 3.3719820402674903)]\n",
      "User 51: [(296, 4.752273091646533), (1204, 4.710859044149707), (1258, 4.696775808088545), (1104, 4.678368590115059)]\n",
      "User 52: [(1262, 4.977411495486148), (750, 4.976021498266553), (1204, 4.942274402183728), (1208, 4.933334551085697)]\n",
      "User 53: [(1, 5), (47, 5), (50, 5), (101, 5)]\n",
      "User 54: [(1204, 3.8605454966553285), (4226, 3.7729396955345265), (1228, 3.7566910239597933), (904, 3.7524516107007266)]\n",
      "User 55: [(1136, 3.746805790394504), (318, 3.714740382298892), (1199, 3.6751268879437995), (750, 3.6704596977082664)]\n",
      "User 56: [(1250, 4.8486268993957), (1204, 4.717598575106238), (1217, 4.672905395301453), (56782, 4.651658061373839)]\n",
      "User 57: [(318, 4.271414033085193), (1213, 4.266151681204605), (1104, 4.254512278145807), (5618, 4.213394134736507)]\n",
      "User 58: [(904, 4.7076258798821), (898, 4.702177833671109), (1213, 4.697953044424977), (858, 4.6957073355272065)]\n",
      "User 59: [(318, 4.844149913214001), (1178, 4.840757418870542), (50, 4.839752977624568), (1217, 4.839707233751835)]\n",
      "User 60: [(741, 4.4558600770514465), (1208, 4.415006071671246), (38061, 4.365643850861277), (720, 4.341294614435375)]\n",
      "User 61: [(260, 4.6251155127789225), (858, 4.531823490693872), (750, 4.529193988236358), (898, 4.511704168563785)]\n",
      "User 62: [(750, 4.741620251087724), (904, 4.72521723460505), (1148, 4.716801145126163), (741, 4.709381120458213)]\n",
      "User 63: [(904, 4.277372049386553), (4144, 4.263772217389875), (4973, 4.2603159748170585), (1272, 4.242595261229563)]\n",
      "User 64: [(750, 4.448683716895224), (56782, 4.429818732061079), (246, 4.420129039282475), (2788, 4.417730797676962)]\n",
      "User 65: [(1267, 4.504224116819823), (1262, 4.44809231013096), (56782, 4.395381196669452), (1197, 4.377472901206956)]\n",
      "User 66: [(750, 4.801490913562505), (48516, 4.733405395969663), (1204, 4.731622114200998), (246, 4.684621727163322)]\n",
      "User 67: [(904, 4.4790865842845715), (858, 4.4149094388606445), (1204, 4.412908407120143), (1198, 4.40373378497814)]\n",
      "User 68: [(922, 4.260480024793258), (1250, 4.24072066396807), (56782, 4.203222970343146), (3030, 4.202656413256977)]\n",
      "User 69: [(912, 4.979039692364936), (1204, 4.962832899128256), (4226, 4.933956818767348), (1104, 4.919636871449791)]\n",
      "User 70: [(3451, 4.828395613404625), (2959, 4.779990421027933), (56782, 4.76690304134332), (898, 4.748066438773857)]\n",
      "User 71: [(904, 4.534891442134673), (1283, 4.46817450814508), (92535, 4.464572257369724), (56782, 4.454087845441468)]\n",
      "User 72: [(177593, 4.708828254477846), (750, 4.696991314826685), (904, 4.665452033506999), (1204, 4.659683640925285)]\n",
      "User 73: [(1248, 4.419477061520636), (50, 4.4193487693761), (2959, 4.407644463259018), (912, 4.400991369570943)]\n",
      "User 74: [(750, 4.798231991043689), (1201, 4.7757219961027895), (318, 4.7710597343440035), (904, 4.770301872601654)]\n",
      "User 75: [(1250, 3.993824158699224), (1104, 3.8923895802723902), (56782, 3.8583408943826165), (1197, 3.8508822155906137)]\n",
      "User 76: [(1222, 3.7674359210831097), (48516, 3.751656500224235), (7022, 3.710925689205399), (50, 3.6995945077756276)]\n",
      "User 77: [(296, 4.428987091049097), (1217, 4.405334830872939), (318, 4.388238826797961), (1204, 4.387387234646786)]\n",
      "User 78: [(1197, 4.090752955795601), (750, 4.068018652252846), (1262, 4.004903116156996), (57669, 3.993187194570858)]\n",
      "User 79: [(296, 4.721261810180901), (1204, 4.699662022895455), (318, 4.6861416636070725), (1225, 4.663201508468832)]\n",
      "User 80: [(750, 4.956190494357778), (912, 4.926553209378338), (1204, 4.887535590732182), (904, 4.87338205471202)]\n",
      "User 81: [(1104, 3.728470166272796), (1197, 3.6869297280990594), (750, 3.6529367242239714), (2959, 3.6431669195004543)]\n",
      "User 82: [(750, 4.3958010991862855), (3030, 4.380847184798571), (1213, 4.3767093803876085), (56782, 4.3601903150577614)]\n",
      "User 83: [(527, 4.061589935721193), (177593, 4.05503261685738), (2959, 4.052812461555506), (2160, 4.03913350843307)]\n",
      "User 84: [(1204, 4.496545247364688), (750, 4.4189423567998185), (1199, 4.406388788245692), (2959, 4.39147796284112)]\n",
      "User 85: [(1208, 4.524128388754056), (318, 4.485993750454036), (750, 4.472293529299126), (7361, 4.466956446075888)]\n",
      "User 86: [(1204, 4.6327849498534075), (750, 4.54828295612518), (858, 4.509578883460997), (1193, 4.478805395759306)]\n",
      "User 87: [(750, 4.662927240988501), (318, 4.61859208166977), (1262, 4.591965026800499), (1250, 4.582595356618402)]\n",
      "User 88: [(858, 4.730925111964978), (260, 4.729942003322042), (3451, 4.624551463965393), (1201, 4.5695843564785585)]\n",
      "User 89: [(1237, 4.798229167593708), (306, 4.688043727834795), (923, 4.684558848561641), (2076, 4.6189038546491785)]\n",
      "User 90: [(1204, 4.830230542199744), (296, 4.816246599869527), (318, 4.791408894265295), (750, 4.782001325463798)]\n",
      "User 91: [(1204, 4.365263575639324), (3468, 4.241745012081199), (246, 4.236466360497151), (922, 4.215713272362882)]\n",
      "User 92: [(246, 4.792044291553345), (750, 4.74663480695898), (2959, 4.72627505793857), (318, 4.721527923603894)]\n",
      "User 93: [(50, 5), (296, 5), (1089, 5), (1196, 5)]\n",
      "User 94: [(1104, 3.9828068061435653), (858, 3.9816545210941), (246, 3.9783666216562263), (904, 3.973769645385683)]\n",
      "User 95: [(318, 4.805388893787506), (2959, 4.772638525192107), (1104, 4.715168398827142), (1204, 4.712783638499566)]\n",
      "User 96: [(1250, 4.59834601751448), (750, 4.596318471704075), (1242, 4.5641237557494625), (1208, 4.546534078694661)]\n",
      "User 97: [(750, 5), (318, 4.9214005490875845), (1089, 4.9092338180224715), (50, 4.871159625827684)]\n",
      "User 98: [(750, 4.631395831289487), (912, 4.5392177289069), (1266, 4.507721491526364), (318, 4.495039877401155)]\n",
      "User 99: [(898, 4.882241903116551), (2329, 4.836027474836537), (904, 4.81313075575178), (5690, 4.796441167887549)]\n",
      "User 100: [(750, 4.744875373126171), (922, 4.675400691554922), (318, 4.653125962522097), (912, 4.631544539835441)]\n",
      "User 101: [(858, 4.4988336190524185), (2019, 4.467273547310141), (296, 4.444857839242639), (50, 4.4312496585779355)]\n",
      "User 102: [(858, 4.193023304262789), (1204, 4.184211035549691), (56782, 4.168486844440898), (1197, 4.157379863060126)]\n",
      "User 103: [(2324, 4.467518643959339), (1136, 4.455293018491079), (1204, 4.433447977084683), (741, 4.427305184674842)]\n",
      "User 104: [(318, 4.322528170655915), (1204, 4.307546749916156), (750, 4.280706571988314), (2324, 4.276391191993779)]\n",
      "User 105: [(1204, 4.969693930485608), (1276, 4.920657129959033), (1104, 4.8989418913601), (246, 4.8876893960072305)]\n",
      "User 106: [(858, 5), (1104, 5), (1208, 4.9515224191624245), (56782, 4.938362897143039)]\n",
      "User 107: [(5690, 4.739838019497632), (898, 4.716373689577747), (1199, 4.715310562417024), (6787, 4.709880600690965)]\n",
      "User 108: [(904, 4.759005914269006), (741, 4.73290637302636), (318, 4.73160571234675), (912, 4.701198633333602)]\n",
      "User 109: [(1204, 4.190751772424993), (750, 4.176276600641091), (2959, 4.144595627901954), (1104, 4.141606499249796)]\n",
      "User 110: [(750, 4.378161362305921), (1204, 4.326288266064389), (1673, 4.309847766386757), (475, 4.292124835094035)]\n",
      "User 111: [(912, 4.4731942370755915), (5618, 4.4566093339403), (858, 4.369858492855219), (4973, 4.3440018382673955)]\n",
      "User 112: [(858, 4.505811092620989), (2160, 4.371369125798413), (2959, 4.345913070110797), (930, 4.336856495750036)]\n",
      "User 113: [(56782, 4.520814109777835), (1199, 4.432585083148199), (7361, 4.427629774859158), (4144, 4.423815973406999)]\n",
      "User 114: [(1204, 4.194311396336385), (1217, 4.067593627683841), (2959, 4.026082704858015), (858, 4.025839777293856)]\n",
      "User 115: [(1204, 4.572998192213974), (2959, 4.5701167686281865), (1197, 4.528876894179874), (318, 4.522159700957251)]\n",
      "User 116: [(741, 4.323031726884754), (951, 4.118682943511259), (1250, 4.11684880168574), (5690, 4.111575280052907)]\n",
      "User 117: [(750, 4.179816602924374), (1204, 4.175992153439474), (904, 4.167056441170722), (1276, 4.1452838822770675)]\n",
      "User 118: [(3451, 4.355478348969608), (1204, 4.352257701843707), (750, 4.349865734769203), (1252, 4.346379798535574)]\n",
      "User 119: [(750, 4.88177296450738), (1204, 4.879359250237318), (527, 4.8144225390038295), (1208, 4.792060759250304)]\n",
      "User 120: [(318, 4.423620168031218), (1204, 4.344722664340011), (168252, 4.2747794857449986), (50, 4.271138866003772)]\n",
      "User 121: [(1104, 4.237233101459082), (904, 4.079723539105779), (750, 4.056445305114579), (1276, 4.043586564241928)]\n",
      "User 122: [(898, 5), (904, 5), (2019, 5), (750, 5)]\n",
      "User 123: [(1204, 4.513091619689221), (48516, 4.4538806978185725), (1203, 4.438388580692215), (1262, 4.417713380079756)]\n",
      "User 124: [(2959, 4.674340440668713), (904, 4.6597036891040675), (4973, 4.606333339313933), (527, 4.580001104671992)]\n",
      "User 125: [(1204, 4.5522696601433275), (741, 4.539925845314012), (1208, 4.527503373007579), (1089, 4.469622973902483)]\n",
      "User 126: [(912, 4.282663140552294), (260, 4.206220484762869), (898, 4.135105150486988), (3275, 4.113701478287789)]\n",
      "User 127: [(318, 3.945851533170012), (1104, 3.908627667365054), (2959, 3.8990069678378045), (750, 3.895127073208202)]\n",
      "User 128: [(1233, 4.7805437054770685), (750, 4.768842135124764), (858, 4.73445407591719), (720, 4.730501332392812)]\n",
      "User 129: [(1204, 4.624067074143623), (1199, 4.588679838688235), (750, 4.579759111137594), (904, 4.570045220333314)]\n",
      "User 130: [(1221, 4.459679747489759), (2959, 4.4564882810734145), (904, 4.43504417119829), (4226, 4.428097788325749)]\n",
      "User 131: [(904, 3.9815692085588137), (1204, 3.9725973970736477), (750, 3.949096216687327), (898, 3.8503051060654143)]\n",
      "User 132: [(1204, 3.894740776126128), (898, 3.792052832417702), (750, 3.7363731353768874), (1276, 3.716943606930038)]\n",
      "User 133: [(750, 3.823701068362314), (48516, 3.756343358246067), (1178, 3.7123750272993727), (7361, 3.6980769473638104)]\n",
      "User 134: [(750, 4.608665146902705), (904, 4.541185168161141), (318, 4.527063510175299), (1252, 4.476575677488123)]\n",
      "User 135: [(1204, 4.731633724009727), (750, 4.5413014628213295), (1148, 4.462717197683328), (904, 4.426128189890238)]\n",
      "User 136: [(1262, 4.483675852642003), (1272, 4.38319075323349), (112552, 4.369571660027419), (3275, 4.363006329603616)]\n",
      "User 137: [(898, 4.404680790155758), (3451, 4.394317101239984), (866, 4.383560036648192), (1283, 4.38319877301384)]\n",
      "User 138: [(904, 4.463002791842564), (177593, 4.443968526502642), (318, 4.402194346765491), (1197, 4.387105417763659)]\n",
      "User 139: [(1208, 3.0790701113587673), (1104, 3.025549612642639), (1204, 3.0247757711087995), (720, 3.010078401881471)]\n",
      "User 140: [(750, 4.248387914623022), (904, 4.18947076087713), (2324, 4.153288951173297), (720, 4.145670926600045)]\n",
      "User 141: [(750, 4.260191422028508), (922, 4.182784889882325), (1204, 4.168941332633154), (3424, 4.142585368931538)]\n",
      "User 142: [(318, 4.597852838616415), (1204, 4.459498520438614), (1262, 4.452857212584871), (1203, 4.452254360253994)]\n",
      "User 143: [(899, 4.188815321455616), (3451, 4.185179648074596), (914, 4.158308977212639), (898, 4.147722552834221)]\n",
      "User 144: [(318, 4.4350777105893275), (1104, 4.300013362108352), (50, 4.27483941804536), (898, 4.269093332642387)]\n",
      "User 145: [(750, 4.271022629245336), (1204, 4.206424430895214), (5618, 4.169777729496468), (922, 4.157872073274971)]\n",
      "User 146: [(318, 4.406066202016127), (1204, 4.313499461886024), (1272, 4.307648280674063), (750, 4.2679772409748145)]\n",
      "User 147: [(1104, 4.466859058498364), (904, 4.434514455586122), (750, 4.395317352031996), (318, 4.384499336082521)]\n",
      "User 148: [(904, 4.327333549764052), (3030, 4.314937497766614), (741, 4.2495190221872425), (168252, 4.237788769276693)]\n",
      "User 149: [(3451, 3.767640157381054), (1199, 3.7346948833580456), (904, 3.694782671201724), (4144, 3.685814539823771)]\n",
      "User 150: [(1204, 4.483457140745455), (5618, 4.390706781718639), (318, 4.390371171344197), (750, 4.387439395266316)]\n",
      "User 151: [(1204, 4.668581572142441), (750, 4.652674862365278), (4973, 4.636571039411267), (2019, 4.6296719175764665)]\n",
      "User 152: [(1208, 4.437690999979675), (3451, 4.435793662794117), (912, 4.379517206303037), (1204, 4.376324750405417)]\n",
      "User 153: [(750, 3.2164951741581262), (2019, 3.20120232051177), (1237, 3.170144099588004), (904, 3.166783977434102)]\n",
      "User 154: [(1203, 5), (1250, 4.98623809344208), (318, 4.975455901465598), (5690, 4.967400645605973)]\n",
      "User 155: [(750, 4.559549645605206), (922, 4.492859792078578), (318, 4.463852644142106), (720, 4.454340654808012)]\n",
      "User 156: [(7361, 4.4101012326724724), (1178, 4.339007576227194), (3435, 4.3231438404849465), (58559, 4.307001067869095)]\n",
      "User 157: [(1233, 4.360048156944111), (1104, 4.339603102508934), (750, 4.306778197545218), (1197, 4.298090729904581)]\n",
      "User 158: [(6016, 4.439308701558852), (3435, 4.4375770650540485), (898, 4.4287376435763015), (750, 4.407278235577338)]\n",
      "User 159: [(1262, 4.010689446110465), (3451, 3.9674225612607423), (1204, 3.95632492451804), (2160, 3.9511952410267055)]\n",
      "User 160: [(1089, 4.112571886294708), (1148, 4.035368005102571), (162, 3.9938605780083387), (3275, 3.981957216217034)]\n",
      "User 161: [(858, 4.761863134906015), (2959, 4.6204968639037745), (260, 4.5820939184175975), (1104, 4.5572869124447735)]\n",
      "User 162: [(720, 5), (1204, 4.918562435079044), (1178, 4.897245937788093), (2019, 4.880452665379325)]\n",
      "User 163: [(1204, 4.067704705540032), (2959, 4.052829099766889), (296, 4.050442051997276), (2571, 4.045133188107239)]\n",
      "User 164: [(318, 4.936006677052716), (720, 4.877986120103708), (1204, 4.867382626763002), (3451, 4.861049215196264)]\n",
      "User 165: [(904, 4.283659143298225), (1204, 4.25640593519994), (318, 4.234160945974934), (3435, 4.175935815054403)]\n",
      "User 166: [(1204, 4.586858029731324), (1136, 4.577300774186437), (750, 4.558951590534537), (1217, 4.555969314497792)]\n",
      "User 167: [(1204, 4.195642899957454), (1242, 4.175940122478016), (1203, 4.124924009929178), (4226, 4.1038476693293955)]\n",
      "User 168: [(318, 4.98385018371625), (904, 4.904485722739093), (50, 4.8930471599066605), (1204, 4.861752423374235)]\n",
      "User 169: [(750, 4.996648680240108), (1204, 4.9817670090321835), (1221, 4.968437076694369), (3030, 4.959121138328725)]\n",
      "User 170: [(1204, 4.2122162927724505), (933, 4.199125801595249), (750, 4.190757346682238), (904, 4.142069150991918)]\n",
      "User 171: [(527, 5), (1213, 5), (2329, 5), (2959, 5)]\n",
      "User 172: [(318, 4.556972647585414), (4973, 4.436465241947721), (750, 4.43633430466655), (1237, 4.4195617743234985)]\n",
      "User 173: [(318, 4.340335584121668), (912, 4.278201300777753), (1197, 4.26650366659497), (1223, 4.265600003983652)]\n",
      "User 174: [(1204, 4.639856920380975), (904, 4.611518715974161), (318, 4.595394641926927), (750, 4.569625402835297)]\n",
      "User 175: [(3275, 4.598892954497991), (1104, 4.565753316912179), (2571, 4.527731336889584), (858, 4.5222037463906055)]\n",
      "User 176: [(750, 4.836753417809673), (246, 4.803926744957373), (3451, 4.784936328594777), (1204, 4.7659393208072816)]\n",
      "User 177: [(6350, 4.241081554058238), (1248, 4.171440820892589), (1204, 4.169402824620564), (741, 4.160622777478091)]\n",
      "User 178: [(1204, 4.620918644619087), (750, 4.60632824839822), (858, 4.604472154339612), (904, 4.547781134597583)]\n",
      "User 179: [(912, 4.669016753974089), (899, 4.6135027641166255), (904, 4.60568772349823), (3451, 4.599789305215232)]\n",
      "User 180: [(858, 4.3003270675010805), (318, 4.277543228870894), (898, 4.203803142735172), (1204, 4.175320160051277)]\n",
      "User 181: [(904, 4.092345276628266), (318, 4.029614662355553), (898, 3.9460834278526025), (1233, 3.915820440586803)]\n",
      "User 182: [(48516, 4.21956479690046), (951, 4.182316575587676), (1272, 4.156731200243145), (58559, 4.139674544018063)]\n",
      "User 183: [(750, 4.507125943250016), (318, 4.44074155802984), (1204, 4.411263584932458), (3275, 4.367288244128553)]\n",
      "User 184: [(898, 4.649782222877657), (858, 4.557364579115983), (48516, 4.508097515818401), (750, 4.496787147481344)]\n",
      "User 185: [(1250, 4.411932587824062), (3275, 4.254028586837467), (750, 4.229034916071478), (3451, 4.223390082753781)]\n",
      "User 186: [(318, 4.7462319954711045), (1178, 4.741691267583239), (858, 4.696469702752689), (3451, 4.693618741281797)]\n",
      "User 187: [(1204, 4.518382446416263), (858, 4.514891190702731), (1235, 4.454317019357508), (898, 4.424110447790103)]\n",
      "User 188: [(858, 5), (318, 4.970640358602563), (260, 4.962158927397826), (1196, 4.957785219560554)]\n",
      "User 189: [(296, 4.426411731004089), (56782, 4.397403968633446), (260, 4.392635747720879), (1208, 4.384695287142023)]\n",
      "User 190: [(1199, 4.488457838090474), (904, 4.463419927992803), (1104, 4.4570541702896325), (750, 4.449446510320373)]\n",
      "User 191: [(1204, 4.617266243085952), (168252, 4.532009497203603), (4993, 4.516424113907361), (1193, 4.511690996981906)]\n",
      "User 192: [(1104, 4.808496000514071), (318, 4.80218440116158), (3275, 4.788605960340521), (6350, 4.776046083171204)]\n",
      "User 193: [(56782, 4.237833312486467), (1204, 4.17254599305474), (4226, 4.133723952464788), (1276, 4.122901226128071)]\n",
      "User 194: [(3275, 4.393004347603884), (912, 4.376265896144924), (318, 4.358611324324942), (904, 4.330768451174185)]\n",
      "User 195: [(1884, 4.270215025763313), (1217, 4.231605841349687), (48516, 4.189899459341727), (1104, 4.188457427406183)]\n",
      "User 196: [(318, 4.428965475231109), (951, 4.394805712332516), (48516, 4.390291662965848), (2019, 4.378158971909367)]\n",
      "User 197: [(1204, 4.617307188942117), (750, 4.544309617008389), (1387, 4.539935085019489), (2959, 4.528427317590253)]\n",
      "User 198: [(904, 4.151104054214915), (48516, 4.141778488845444), (858, 4.127444917381545), (898, 4.068033565173507)]\n",
      "User 199: [(2959, 4.1505932552910565), (741, 4.084289164745337), (720, 4.068974209066466), (922, 4.019513043316665)]\n",
      "User 200: [(1204, 4.60893844934508), (750, 4.582964425335558), (904, 4.531069307819567), (1276, 4.5241291833399995)]\n",
      "User 201: [(1221, 4.961874655967078), (1262, 4.944672515482637), (858, 4.912407820101603), (318, 4.899402836747229)]\n",
      "User 202: [(527, 4.444635331864257), (4973, 4.412469744762565), (1178, 4.405425595571301), (1104, 4.394372610525751)]\n",
      "User 203: [(898, 4.602303787095988), (1233, 4.508648739112218), (247, 4.4721917286469255), (3275, 4.46420463492525)]\n",
      "User 204: [(48516, 4.537594211997938), (5617, 4.511079629002288), (1223, 4.509586695934907), (866, 4.480445198142071)]\n",
      "User 205: [(318, 4.397544613066627), (898, 4.38178171545312), (1204, 4.375603081086669), (3275, 4.35301494877057)]\n",
      "User 206: [(1204, 4.785667049553576), (318, 4.783642935637206), (1223, 4.766584814040562), (1089, 4.753986787470988)]\n",
      "User 207: [(1217, 3.9578495423994893), (904, 3.9497770187164547), (1204, 3.9330041554776596), (48516, 3.929644758946791)]\n",
      "User 208: [(1204, 4.247470867634049), (750, 4.169670837096727), (1178, 4.150306427990868), (318, 4.149839439264072)]\n",
      "User 209: [(858, 4.7079399744337795), (750, 4.645791247761811), (1136, 4.62983920330479), (48516, 4.6208139072133)]\n",
      "User 210: [(318, 4.889635288608409), (912, 4.80635162841566), (1262, 4.801792658680728), (1204, 4.791814843415644)]\n",
      "User 211: [(1204, 4.397669731646423), (1213, 4.38552576302896), (48516, 4.3823569459854275), (3275, 4.36961266653202)]\n",
      "User 212: [(1204, 4.263816102525413), (898, 4.205221657726638), (1089, 4.159672998185328), (1193, 4.158069895684509)]\n",
      "User 213: [(750, 4.702288008586362), (296, 4.62017681058997), (5618, 4.601205056058097), (1104, 4.597127114783651)]\n",
      "User 214: [(318, 3.9651674563975337), (858, 3.9112136166814504), (1196, 3.896008816973734), (260, 3.8796951480087767)]\n",
      "User 215: [(112552, 4.453618336214934), (750, 4.451602648977018), (1204, 4.433581305321036), (933, 4.400958468938814)]\n",
      "User 216: [(904, 4.397550009330456), (750, 4.339312055250729), (858, 4.334475952442443), (296, 4.32874403492543)]\n",
      "User 217: [(318, 3.6949091749837746), (904, 3.6669052327782254), (898, 3.666212623743404), (912, 3.6614649687778464)]\n",
      "User 218: [(318, 4.07556985100197), (1204, 4.061643268406551), (1945, 4.054294309636919), (58559, 4.053250944722622)]\n",
      "User 219: [(1204, 4.092560058617577), (1199, 4.0607127463237), (750, 4.0129080878703824), (1201, 4.009988765364306)]\n",
      "User 220: [(898, 4.672503528540644), (1104, 4.616525831643955), (1136, 4.5954364009158235), (1204, 4.5669871803678195)]\n",
      "User 221: [(3275, 4.594008298898781), (3451, 4.5772905399278745), (56782, 4.5752661071980825), (5618, 4.566490493847159)]\n",
      "User 222: [(318, 3.9791810242227488), (741, 3.9427159553248092), (1136, 3.9315089345065273), (904, 3.8912387512499524)]\n",
      "User 223: [(1945, 4.018198434046243), (750, 3.94481055880185), (1204, 3.9146910777248554), (1148, 3.866992436579536)]\n",
      "User 224: [(1041, 4.877642824793257), (48516, 4.872517020172248), (1204, 4.870954706201858), (1272, 4.858855633761728)]\n",
      "User 225: [(1204, 4.538957774684366), (318, 4.402695857246082), (56782, 4.389925140582443), (2324, 4.373901598195126)]\n",
      "User 226: [(318, 4.396168132692239), (858, 4.394078324045778), (56782, 4.370018547551657), (1223, 4.363870834189902)]\n",
      "User 227: [(1213, 4.693135216036478), (1089, 4.639173378547345), (2019, 4.5989287712311215), (1178, 4.598796231281381)]\n",
      "User 228: [(1266, 4.574794432640424), (1204, 4.550216250165125), (750, 4.537987207608578), (2959, 4.514662777188583)]\n",
      "User 229: [(750, 4.508092389535146), (246, 4.5000274423659725), (898, 4.493894266601793), (1199, 4.4719377918546215)]\n",
      "User 230: [(168252, 3.783556527671301), (5690, 3.7469102392002327), (1104, 3.74008259514825), (3030, 3.6992586521933895)]\n",
      "User 231: [(750, 4.391754600873473), (1252, 4.328663101430971), (904, 4.291401024455996), (2959, 4.277696193028644)]\n",
      "User 232: [(1204, 4.171761212338879), (1089, 4.161522076974319), (741, 4.14606774632261), (750, 4.143014826360516)]\n",
      "User 233: [(750, 3.875694527228409), (904, 3.871859983922951), (1204, 3.8409259951983947), (1104, 3.8081805563226787)]\n",
      "User 234: [(1204, 4.583933533663979), (246, 4.572980486262427), (750, 4.557985224787356), (1104, 4.549711539470251)]\n",
      "User 235: [(750, 4.448787219185142), (50, 4.410114436450526), (1198, 4.401122473592739), (260, 4.389954152927948)]\n",
      "User 236: [(898, 4.821913267450319), (912, 4.790911204356622), (4226, 4.788796510741367), (318, 4.779521569245171)]\n",
      "User 237: [(1204, 4.0788042311991175), (750, 4.073574300026061), (1233, 4.0654328796964805), (2959, 4.026396568503399)]\n",
      "User 238: [(750, 4.5257972632745025), (904, 4.5218542338019), (912, 4.505333854320448), (318, 4.498856818288601)]\n",
      "User 239: [(4973, 4.563374796145302), (922, 4.5491626014696775), (1217, 4.534497984213598), (750, 4.527982962574435)]\n",
      "User 240: [(1283, 4.9594191152054625), (904, 4.9553526134555685), (750, 4.945777091184335), (56782, 4.942883902961988)]\n",
      "User 241: [(750, 4.498593294027488), (1204, 4.479523247135692), (1199, 4.432519203360961), (912, 4.408364999809927)]\n",
      "User 242: [(1208, 4.515703405624003), (750, 4.452976173110403), (50, 4.423761537744202), (1204, 4.412111643667939)]\n",
      "User 243: [(296, 5), (608, 5), (1197, 5), (1208, 5)]\n",
      "User 244: [(1250, 4.584109491326397), (318, 4.534731775804988), (1262, 4.524505905279104), (5690, 4.522671388827092)]\n",
      "User 245: [(318, 3.5937626326425463), (750, 3.5747585179018557), (930, 3.5443852007046917), (1104, 3.5331494820669502)]\n",
      "User 246: [(318, 4.971352807896058), (1204, 4.9605901529005845), (1208, 4.870426848599623), (904, 4.8694327066496355)]\n",
      "User 247: [(1262, 4.15658139665624), (1204, 4.143854422343053), (56782, 4.142694517047013), (898, 4.127518474479031)]\n",
      "User 248: [(1104, 4.436838595861), (318, 4.421698243875444), (750, 4.405180549563209), (2959, 4.382721019110404)]\n",
      "User 249: [(1204, 4.595855152626182), (1208, 4.560640710184709), (741, 4.5533378588169375), (3451, 4.545637444640813)]\n",
      "User 250: [(1204, 5), (1208, 4.994208075905319), (2959, 4.985198822230063), (720, 4.945977407749205)]\n",
      "User 251: [(50, 5), (1272, 5), (750, 5), (858, 5)]\n",
      "User 252: [(1104, 4.829779561362847), (318, 4.828927212458585), (50, 4.752411156037456), (3275, 4.722463929278658)]\n",
      "User 253: [(318, 4.957033150070839), (1204, 4.924133142824968), (5618, 4.899814088820775), (912, 4.8922126122568566)]\n",
      "User 254: [(1221, 4.503050246816921), (1204, 4.497940984338462), (1197, 4.459990577883359), (750, 4.445139158432602)]\n",
      "User 255: [(1041, 3.5327878232549064), (720, 3.516492428342118), (1242, 3.5073954418575024), (246, 3.5072300894757675)]\n",
      "User 256: [(904, 4.7456891611696825), (898, 4.666198325375773), (1197, 4.655746477178673), (1204, 4.6430639587090505)]\n",
      "User 257: [(904, 4.186689645348314), (750, 4.128536733017895), (912, 4.1256325750864855), (318, 4.123968451990962)]\n",
      "User 258: [(1204, 4.6570232336213575), (1104, 4.642383936697845), (5690, 4.6396741838756785), (1221, 4.600360347264331)]\n",
      "User 259: [(78499, 4.062971670048944), (318, 4.044425996254325), (356, 4.001917663357432), (912, 3.9925034263588364)]\n",
      "User 260: [(858, 4.369954270886321), (1208, 4.354968170208932), (1204, 4.31679590592979), (898, 4.293146702998325)]\n",
      "User 261: [(1204, 4.497008028472751), (4973, 4.483215496575308), (1208, 4.450554335189415), (2959, 4.446856787496788)]\n",
      "User 262: [(750, 3.9463286262135764), (720, 3.942547059576275), (1242, 3.9330733186095364), (1204, 3.9065403147046194)]\n",
      "User 263: [(1204, 4.431008020585759), (750, 4.383044915561083), (1208, 4.309937065940395), (1104, 4.308384843912071)]\n",
      "User 264: [(898, 4.325098449458241), (1136, 4.282540213361901), (50, 4.266742592690327), (3508, 4.250971233734456)]\n",
      "User 265: [(1262, 4.180395208754106), (858, 4.167373863686749), (1221, 4.136418378300323), (1223, 4.1295063922012005)]\n",
      "User 266: [(858, 4.619520397396046), (27773, 4.419392473234312), (246, 4.400945445647327), (3451, 4.37819417049512)]\n",
      "User 267: [(318, 4.783764295084818), (1262, 4.758854280044181), (177593, 4.750986255649083), (1204, 4.7493308067782705)]\n",
      "User 268: [(318, 4.0513429209171425), (1204, 3.986645168113367), (48516, 3.985284560356012), (296, 3.9646885521288513)]\n",
      "User 269: [(318, 4.618730618037874), (750, 4.5987181706978895), (2571, 4.594318078962368), (2959, 4.579288225300879)]\n",
      "User 270: [(750, 4.217455115406268), (318, 4.211630764550316), (1104, 4.17995127792884), (1221, 4.111209642919893)]\n",
      "User 271: [(3451, 4.0137509923100945), (858, 3.9988711938209276), (1204, 3.9808948986280717), (318, 3.9273587723298746)]\n",
      "User 272: [(1089, 4.208121628785259), (1193, 4.177744112073793), (1242, 4.171126986495752), (246, 4.166729294950001)]\n",
      "User 273: [(1204, 4.819706165731727), (1283, 4.784602493684172), (4973, 4.745412148030524), (750, 4.742221844529024)]\n",
      "User 274: [(1204, 4.056861612485188), (246, 4.0236076189517105), (741, 4.010560208525412), (1104, 4.008393127544922)]\n",
      "User 275: [(1178, 4.72321121336999), (1276, 4.697000728248934), (1262, 4.681874942727794), (3037, 4.66509583246908)]\n",
      "User 276: [(50, 5), (296, 5), (527, 5), (593, 5)]\n",
      "User 277: [(1235, 4.608033810236806), (1197, 4.6004512319669395), (475, 4.585274757280535), (858, 4.562015881523351)]\n",
      "User 278: [(904, 4.606175502154208), (2324, 4.595846004588012), (1172, 4.591275471519248), (1248, 4.550695069480799)]\n",
      "User 279: [(750, 4.268185396959101), (904, 4.2362429748581345), (1204, 4.181365611769789), (7361, 4.180790671340314)]\n",
      "User 280: [(1204, 4.687754661548507), (1199, 4.665879402834109), (750, 4.662426606100094), (930, 4.619675868660808)]\n",
      "User 281: [(750, 4.229020031928661), (318, 4.209358991885261), (1104, 4.164516260730663), (1204, 4.125923515305377)]\n",
      "User 282: [(1204, 4.65420891435285), (904, 4.606784306615841), (1197, 4.596431954398478), (1198, 4.58006270845507)]\n",
      "User 283: [(1262, 4.15111960890848), (858, 4.142014068801421), (1204, 4.114194661422388), (899, 4.070878548968312)]\n",
      "User 284: [(899, 4.819618579959955), (2571, 4.7445041879646075), (246, 4.743883023395762), (3275, 4.725925405268507)]\n",
      "User 285: [(750, 4.489661538938771), (318, 4.457515458909422), (1204, 4.452782631202082), (1233, 4.3743496507001325)]\n",
      "User 286: [(750, 4.5466473848272315), (1104, 4.532635846293043), (5618, 4.514732042889345), (1204, 4.473214905215906)]\n",
      "User 287: [(7153, 3.7446441676933286), (296, 3.7350140561172824), (1235, 3.6892363597393354), (858, 3.6859848853765818)]\n",
      "User 288: [(858, 4.30073989451229), (1221, 4.128681851242937), (1104, 4.121564208108609), (56782, 4.110012846002397)]\n",
      "User 289: [(296, 4.424427374968926), (1178, 4.408194160861085), (1136, 4.406904662793535), (2959, 4.406080283309985)]\n",
      "User 290: [(922, 4.595766141436062), (2324, 4.580035974079806), (4226, 4.570443757017746), (1104, 4.56507542236171)]\n",
      "User 291: [(318, 4.879943231880643), (260, 4.826336123526682), (2571, 4.82610407680572), (1291, 4.798855731742386)]\n",
      "User 292: [(1197, 4.125956362567685), (3451, 4.0329641072466025), (898, 4.016426790175625), (1283, 4.01040653216176)]\n",
      "User 293: [(177593, 3.811786618419406), (1204, 3.7875222607281493), (750, 3.7417417925021694), (1276, 3.7102158628331976)]\n",
      "User 294: [(898, 3.8391684027181583), (78499, 3.737715353732044), (1201, 3.728405563635927), (2571, 3.719664027751127)]\n",
      "User 295: [(1272, 4.351071742297122), (1262, 4.302519086316764), (1208, 4.291470802047795), (2019, 4.279853850798665)]\n",
      "User 296: [(1198, 4.671538575581474), (1196, 4.663287935031832), (904, 4.636454580269546), (858, 4.62382554710324)]\n",
      "User 297: [(858, 3.7582346925628167), (475, 3.641403163622568), (1221, 3.5993573333003828), (1196, 3.5990363653314614)]\n",
      "User 298: [(720, 3.189610624299044), (1242, 3.1609999742643398), (1204, 3.146095050073385), (1223, 3.1407554154665833)]\n",
      "User 299: [(750, 4.503978024115704), (1204, 4.472096848470767), (318, 4.4233311123154975), (1252, 4.404456024768518)]\n",
      "User 300: [(750, 4.746614159696063), (57669, 4.676821185331999), (904, 4.669586887352018), (741, 4.655763060616864)]\n",
      "User 301: [(6016, 4.0249178675263355), (1199, 4.023821253338891), (318, 3.996276036475792), (912, 3.9738942520895417)]\n",
      "User 302: [(3275, 4.699710043668448), (750, 4.694504576490464), (3468, 4.633410974088277), (1267, 4.628858845605923)]\n",
      "User 303: [(3451, 4.637964535164713), (1199, 4.6110227837653195), (6711, 4.598408942873795), (318, 4.595221172897141)]\n",
      "User 304: [(1204, 4.612065960129071), (1262, 4.610119923764376), (922, 4.5939471955638185), (904, 4.573686150140823)]\n",
      "User 305: [(1217, 4.49782032461718), (1204, 4.489539062757649), (741, 4.4618951058419505), (1104, 4.425919404274337)]\n",
      "User 306: [(750, 4.18345786464307), (1104, 4.158513269439675), (3468, 4.136776310565181), (1204, 4.135387290113612)]\n",
      "User 307: [(1223, 3.863799849129784), (750, 3.8435701698804516), (2019, 3.8360302495387764), (4973, 3.807208222596089)]\n",
      "User 308: [(1237, 3.1977426890532654), (1233, 3.1889187895941586), (80906, 3.1795901658234755), (171763, 3.173177389387439)]\n",
      "User 309: [(1223, 4.352923930274848), (1208, 4.3175790671485945), (56782, 4.308592016588198), (1228, 4.2983458353531585)]\n",
      "User 310: [(296, 4.322071791166003), (720, 4.30167142272638), (5690, 4.264038550755121), (318, 4.261210141726282)]\n",
      "User 311: [(858, 3.3659444043443187), (1221, 3.3076669799261387), (58559, 3.287037753109354), (1233, 3.245612349121741)]\n",
      "User 312: [(858, 4.545672480865515), (318, 4.529615678044923), (1221, 4.433178350368076), (2959, 4.412298463817272)]\n",
      "User 313: [(3435, 4.490312193809622), (7361, 4.289197646007078), (246, 4.283719798538736), (2019, 4.277722404874493)]\n",
      "User 314: [(912, 4.002738182336816), (858, 4.001268503784377), (720, 3.9993197570470524), (1199, 3.9735836121922996)]\n",
      "User 315: [(7361, 3.967144650834716), (2959, 3.925517818106936), (750, 3.922002745126755), (318, 3.920552922394505)]\n",
      "User 316: [(318, 4.034565042832576), (904, 3.9899369506759057), (1204, 3.9542302356908317), (296, 3.9367012644394985)]\n",
      "User 317: [(1283, 4.245404415275572), (246, 4.2141540724612465), (1178, 4.201669559697269), (1136, 4.196252398641399)]\n",
      "User 318: [(1204, 4.519296984085839), (1178, 4.472935978859482), (1104, 4.470409342597678), (56782, 4.433180103617291)]\n",
      "User 319: [(741, 4.899463959985455), (1204, 4.847299532319862), (750, 4.843915139434626), (904, 4.818560358504801)]\n",
      "User 320: [(750, 4.333028539335983), (741, 4.303499103378796), (930, 4.282168003999545), (922, 4.2500170080184425)]\n",
      "User 321: [(3451, 4.467950602763293), (858, 4.426405941850713), (951, 4.410873449037825), (1104, 4.410450998669869)]\n",
      "User 322: [(1208, 4.0265283052854475), (2019, 3.990871929298676), (1250, 3.9569095326794463), (1204, 3.9516149921986696)]\n",
      "User 323: [(2160, 3.96751917110532), (912, 3.9621534532422036), (904, 3.9432973825306346), (1204, 3.938405426862038)]\n",
      "User 324: [(1262, 4.048088837744995), (1204, 4.045362715614254), (318, 4.040958541070448), (904, 4.022176264301008)]\n",
      "User 325: [(2959, 4.31198697225405), (1089, 4.300981874649034), (750, 4.300291118134913), (3275, 4.290991318423247)]\n",
      "User 326: [(750, 4.799382614388574), (720, 4.574623432907461), (5690, 4.558928542749334), (3451, 4.557061799365514)]\n",
      "User 327: [(8132, 4.834072322060661), (105504, 4.802259080711913), (1208, 4.786810317944118), (904, 4.780148143603842)]\n",
      "User 328: [(1104, 3.827755968266924), (5291, 3.7957001032918134), (898, 3.7936833469298503), (1228, 3.7549821715139604)]\n",
      "User 329: [(3147, 3.482279362139218), (105504, 3.4699429567006526), (741, 3.465553736510671), (5690, 3.460083268868738)]\n",
      "User 330: [(1204, 4.439085628724699), (527, 4.426413030923757), (177593, 4.375813601869343), (933, 4.322648398617969)]\n",
      "User 331: [(5618, 4.3772545374344975), (1208, 4.358287242528508), (4226, 4.343785826004131), (912, 4.343390770822412)]\n",
      "User 332: [(260, 4.196923607525811), (1104, 4.196430781249303), (858, 4.130105619983934), (1198, 4.122101119933723)]\n",
      "User 333: [(898, 3.9307884956588395), (3275, 3.7736222777446216), (1223, 3.7481380644845803), (1204, 3.73787614343889)]\n",
      "User 334: [(3451, 3.9433938383140403), (1204, 3.927415358931357), (1104, 3.9146414210032665), (1197, 3.8999195091589325)]\n",
      "User 335: [(1250, 4.517409979925484), (1217, 4.450278371384827), (4973, 4.449417037974443), (750, 4.443682040614768)]\n",
      "User 336: [(1204, 4.877297033501903), (1213, 4.855320559385957), (741, 4.829226298620738), (1208, 4.787077649933285)]\n",
      "User 337: [(1136, 5), (58559, 5), (898, 5), (904, 5)]\n",
      "User 338: [(2324, 3.644039472811299), (1035, 3.634173233377814), (1198, 3.6166150235724044), (4973, 3.6121906422095305)]\n",
      "User 339: [(3468, 4.596207522817188), (1089, 4.586191023964591), (898, 4.573570317271234), (1104, 4.564902712846466)]\n",
      "User 340: [(951, 4.957203815407046), (922, 4.938997693348473), (858, 4.937089131436611), (3451, 4.922816241791842)]\n",
      "User 341: [(1199, 4.705717176686107), (318, 4.650073910657949), (898, 4.6265788681182345), (2959, 4.6075275223352055)]\n",
      "User 342: [(1204, 4.04971975449275), (318, 4.0352042406366735), (50, 4.004236954563627), (904, 3.9820374182204707)]\n",
      "User 343: [(27773, 4.4966950722200965), (904, 4.483655952369167), (778, 4.435153920493696), (1178, 4.432514874469351)]\n",
      "User 344: [(3451, 4.5598832173645105), (2329, 4.385716679846964), (1148, 4.3754853427592675), (1196, 4.362899904410508)]\n",
      "User 345: [(3030, 4.6605262366674065), (318, 4.653921960441153), (48516, 4.641161188407787), (750, 4.62883581141567)]\n",
      "User 346: [(1104, 4.265485182029404), (318, 4.26203852146754), (741, 4.249593229407098), (1204, 4.243167228050639)]\n",
      "User 347: [(318, 4.43270284855), (750, 4.430528998895976), (741, 4.390364621235602), (48516, 4.366761022404949)]\n",
      "User 348: [(898, 5), (904, 5), (1228, 5), (56782, 5)]\n",
      "User 349: [(318, 4.560648413575078), (1213, 4.489626327049908), (750, 4.467600084264055), (2959, 4.457173998513548)]\n",
      "User 350: [(904, 4.252995198890449), (1204, 4.216412894419544), (318, 4.214287477044346), (246, 4.179508363975818)]\n",
      "User 351: [(2019, 4.383909438570932), (750, 4.3712966139748), (720, 4.318461201507917), (3275, 4.317655495033627)]\n",
      "User 352: [(741, 4.552918056289044), (1104, 4.508073541540499), (1248, 4.47399630156281), (1204, 4.464713118146789)]\n",
      "User 353: [(1178, 4.473646952995203), (168252, 4.439941547799631), (527, 4.390754265374868), (1272, 4.385914433598382)]\n",
      "User 354: [(1250, 4.340008730646148), (1178, 4.337328747992881), (246, 4.32842790382818), (912, 4.321993464206624)]\n",
      "User 355: [(1148, 4.7215776956334246), (750, 4.7032841196297115), (318, 4.6765430267916885), (3451, 4.672156783733401)]\n",
      "User 356: [(750, 4.65901286790131), (1204, 4.601913447579391), (904, 4.583197226599041), (1276, 4.556623188017252)]\n",
      "User 357: [(750, 4.659089544295149), (4973, 4.641078330935891), (1204, 4.597408260866544), (904, 4.586872923637802)]\n",
      "User 358: [(951, 4.225922331453109), (898, 4.214528686650457), (912, 4.096765552921418), (1252, 4.083820643123143)]\n",
      "User 359: [(750, 4.1884545520825), (1204, 4.1881821400741), (318, 4.148302772402714), (933, 4.106978615143813)]\n",
      "User 360: [(1283, 4.388482503070153), (57669, 4.373881731758774), (3451, 4.37075645415669), (168252, 4.362873552998797)]\n",
      "User 361: [(1283, 3.9897096170637565), (1213, 3.945779147939797), (1217, 3.9320838441435852), (2019, 3.924355117299344)]\n",
      "User 362: [(1204, 4.815767346563283), (750, 4.735386371243691), (1104, 4.707642362390459), (912, 4.704900590842409)]\n",
      "User 363: [(750, 3.9975078631634595), (1178, 3.9386620892023054), (5690, 3.9374803998520504), (142488, 3.9318046676644274)]\n",
      "User 364: [(898, 4.8834463318626975), (3275, 4.863163832035449), (750, 4.850133148921546), (1104, 4.811444622954598)]\n",
      "User 365: [(5690, 3.6984817480203374), (1250, 3.649688204948159), (1217, 3.6139681101226486), (6350, 3.609163671680803)]\n",
      "User 366: [(1104, 4.409869994222992), (750, 4.392093263671283), (318, 4.378991980594562), (858, 4.361551000324182)]\n",
      "User 367: [(5690, 4.745490479298014), (1267, 4.668663590860796), (1945, 4.635956805354702), (1197, 4.583515022715717)]\n",
      "User 368: [(318, 3.776993835966482), (1204, 3.698429222308858), (750, 3.685970378300602), (2959, 3.6751805008235263)]\n",
      "User 369: [(1204, 4.238515862503577), (898, 4.142683082880243), (318, 4.135375683221239), (296, 4.090689048600031)]\n",
      "User 370: [(1217, 4.1552117487255895), (1213, 4.144834050022906), (750, 4.087631930180339), (1252, 4.083978819570117)]\n",
      "User 371: [(50, 5), (260, 5), (296, 5), (527, 5)]\n",
      "User 372: [(58559, 4.063601384713672), (2571, 4.0101287069476514), (912, 4.003650019909827), (741, 4.003356891698703)]\n",
      "User 373: [(1178, 4.2340882247735365), (750, 4.220529294537496), (2959, 4.212822663275429), (1258, 4.206468421435785)]\n",
      "User 374: [(2959, 4.445018396551273), (4226, 4.404907392699712), (106642, 4.391204493066182), (922, 4.3904674516238025)]\n",
      "User 375: [(750, 4.872214867391679), (2959, 4.851613529434764), (858, 4.832243788204891), (296, 4.824850576729633)]\n",
      "User 376: [(318, 4.668838094664056), (720, 4.61362506914669), (2329, 4.5963656833587425), (6350, 4.594219042430383)]\n",
      "User 377: [(858, 4.773522745389406), (1136, 4.737278363009804), (1198, 4.717637432928152), (1237, 4.7069683986010356)]\n",
      "User 378: [(750, 4.46343021534737), (904, 4.4267231728400915), (898, 4.404004290414148), (1197, 4.3986869339675545)]\n",
      "User 379: [(2329, 4.2580286574666), (912, 4.18561551201329), (858, 4.184500552633344), (3451, 4.182241991099134)]\n",
      "User 380: [(1204, 4.451544450288557), (1104, 4.449933827323839), (56782, 4.444952022840137), (2019, 4.4342825200189555)]\n",
      "User 381: [(1233, 4.3628709058961865), (3030, 4.331420956942063), (750, 4.318266825093904), (904, 4.306597153637487)]\n",
      "User 382: [(6874, 4.434808520504912), (1199, 4.422102424079182), (904, 4.384382222413915), (951, 4.380950171286689)]\n",
      "User 383: [(750, 4.627833595146373), (1104, 4.537496533554916), (318, 4.523179193790038), (1204, 4.490892742083932)]\n",
      "User 384: [(318, 4.107574831589668), (858, 4.071988348193444), (260, 4.01261726438261), (50, 3.9790791260431138)]\n",
      "User 385: [(720, 4.169223665868003), (904, 4.147134852946247), (2959, 4.139446021966325), (7361, 4.139318968227841)]\n",
      "User 386: [(5618, 3.774883638122699), (1193, 3.7359239077442226), (1204, 3.725093834341226), (858, 3.703377991412609)]\n",
      "User 387: [(7361, 4.107192055163718), (898, 4.038720899536566), (58559, 3.9514523714418797), (3451, 3.9505337081065477)]\n",
      "User 388: [(1673, 4.513460021868843), (58559, 4.50059359485149), (246, 4.467702979850697), (1204, 4.452832154056868)]\n",
      "User 389: [(318, 5), (720, 5), (1198, 4.966509078884902), (858, 4.962132838571527)]\n",
      "User 390: [(56782, 4.5350876343653), (1204, 4.4715590971042465), (318, 4.454360471513498), (6787, 4.45268010572949)]\n",
      "User 391: [(1272, 4.396137031219291), (7361, 4.338862398957672), (5618, 4.305651025527338), (3424, 4.301572324121108)]\n",
      "User 392: [(318, 4.212319736539537), (858, 4.176964893895397), (260, 4.154114296596832), (246, 4.131342219141242)]\n",
      "User 393: [(318, 4.6293660331399265), (1148, 4.53654602642234), (904, 4.5356827651847595), (260, 4.5284593237137205)]\n",
      "User 394: [(750, 4.0913048876944735), (1204, 3.9177698175671023), (1242, 3.861016910926661), (2019, 3.824339547205083)]\n",
      "User 395: [(898, 4.138188497336746), (1204, 4.065299845941368), (3275, 4.061838699287816), (318, 4.037719483156634)]\n",
      "User 396: [(1197, 4.079155713884259), (898, 3.92222946371734), (1262, 3.888691620504715), (1249, 3.887541504811491)]\n",
      "User 397: [(318, 4.53539038930413), (1204, 4.520687760738869), (3275, 4.5154485770742125), (1199, 4.497445073812134)]\n",
      "User 398: [(750, 4.793368640636607), (1204, 4.791931760179902), (3468, 4.757078240948417), (741, 4.754307655102056)]\n",
      "User 399: [(318, 4.506605093394119), (1104, 4.39254769405248), (1204, 4.354452075611124), (1208, 4.308165005867106)]\n",
      "User 400: [(56782, 4.798427684600546), (1204, 4.7567085520151), (898, 4.736550538158225), (1104, 4.735256143090067)]\n",
      "User 401: [(318, 4.293406522682319), (904, 4.291700894483297), (750, 4.195515099889672), (1204, 4.150469426413954)]\n",
      "User 402: [(56782, 4.859944187039349), (904, 4.820256921891423), (260, 4.75365130098035), (912, 4.734368582840342)]\n",
      "User 403: [(904, 4.454388198575624), (750, 4.428735290719423), (858, 4.426355417263674), (318, 4.412065728986154)]\n",
      "User 404: [(858, 4.293366427732891), (1104, 4.271817033369331), (260, 4.247840943371963), (904, 4.21299711698228)]\n",
      "User 405: [(318, 4.587232072672504), (56782, 4.57695785724846), (1204, 4.556237735918721), (260, 4.55618108110291)]\n",
      "User 406: [(1199, 4.328891909107907), (1204, 4.276190891479508), (1178, 4.263333440351816), (318, 4.2607813763254)]\n",
      "User 407: [(750, 4.501635197783645), (318, 4.488181798732715), (296, 4.475766705174245), (904, 4.458385104359913)]\n",
      "User 408: [(904, 4.775442660182098), (1204, 4.760240923291106), (50, 4.74056887766271), (1203, 4.739995212715633)]\n",
      "User 409: [(750, 4.735174765168775), (57669, 4.641973357396115), (2959, 4.54442417812135), (3508, 4.542192393512467)]\n",
      "User 410: [(1250, 4.630279698886748), (6016, 4.615853469494027), (57669, 4.614005333650487), (2019, 4.604682558241991)]\n",
      "User 411: [(260, 4.15027308802601), (1204, 4.150184547157079), (912, 4.091309629116171), (58559, 4.0905419340476366)]\n",
      "User 412: [(260, 4.514570319333301), (1262, 4.4669586840722095), (318, 4.465068495131583), (1213, 4.464391678796527)]\n",
      "User 413: [(1208, 5), (3451, 5), (56782, 4.956292758081465), (1201, 4.943178270375755)]\n",
      "User 414: [(922, 4.4669789176430665), (246, 4.407965829667778), (3451, 4.394847664220616), (2324, 4.386364519405677)]\n",
      "User 415: [(1104, 4.646929505745099), (56782, 4.639211227385191), (4973, 4.613786374465574), (1136, 4.609316316823084)]\n",
      "User 416: [(5618, 3.7182598297794742), (7361, 3.697278757946559), (3468, 3.685772268292323), (912, 3.685408544739158)]\n",
      "User 417: [(1233, 4.905078759792387), (912, 4.84889061065807), (898, 4.812843852127518), (1104, 4.799650264976435)]\n",
      "User 418: [(260, 4.474768483722964), (858, 4.401650664203152), (1237, 4.397714658985182), (1204, 4.352578515385536)]\n",
      "User 419: [(3275, 4.608110393614411), (4973, 4.5731936913889175), (750, 4.545708812201529), (1204, 4.542425677668379)]\n",
      "User 420: [(904, 4.4759654280781005), (1204, 4.415264246231403), (3030, 4.399492345511484), (858, 4.384182481904968)]\n",
      "User 421: [(296, 4.657814805750286), (1242, 4.621545539446153), (1204, 4.612687493367966), (1198, 4.609759811265659)]\n",
      "User 422: [(3451, 4.112350346337145), (5618, 4.108994685523293), (2019, 4.104873056291929), (720, 4.1025204100700465)]\n",
      "User 423: [(4011, 4.418610618920189), (898, 4.416002630676551), (1203, 4.405398780003857), (4973, 4.404021258836565)]\n",
      "User 424: [(1204, 4.244601935395859), (4973, 4.224399779443871), (475, 4.219686610214413), (933, 4.205437209468842)]\n",
      "User 425: [(1204, 4.226832769802168), (904, 4.177217271286599), (3451, 4.16823564670292), (48516, 4.141006220334871)]\n",
      "User 426: [(1283, 4.401324448946923), (3451, 4.331152183877165), (105504, 4.328390667720599), (3030, 4.320125572244943)]\n",
      "User 427: [(318, 4.075712488634677), (858, 4.004873918974012), (541, 3.972868303301986), (1198, 3.9642971046013544)]\n",
      "User 428: [(1204, 3.7105959914622284), (318, 3.692888785614641), (750, 3.67501834712336), (50, 3.6412959788504757)]\n",
      "User 429: [(318, 4.981746616865204), (1208, 4.979330870083432), (898, 4.953245413965797), (475, 4.921952786883414)]\n",
      "User 430: [(1204, 4.684008746315845), (1199, 4.490775702630339), (7361, 4.486722283984811), (3468, 4.483287312067088)]\n",
      "User 431: [(1104, 3.866918800176274), (2019, 3.8129258165555977), (3451, 3.7819462583274963), (1208, 3.762150142461493)]\n",
      "User 432: [(750, 4.367342374294206), (933, 4.354534991965206), (1178, 4.3415575293485125), (1204, 4.314919077163939)]\n",
      "User 433: [(1204, 4.2951502753169795), (3030, 4.1794513425471), (1617, 4.178258651742804), (1199, 4.177371815170274)]\n",
      "User 434: [(1221, 4.441183340944935), (3508, 4.396161230633819), (1201, 4.379559284741907), (1198, 4.342886265194997)]\n",
      "User 435: [(741, 4.9078698910409075), (750, 4.892252918536756), (904, 4.872946952911891), (2571, 4.864870404756251)]\n",
      "User 436: [(1204, 4.2045714966996774), (750, 4.176763501170764), (260, 4.145345518676349), (858, 4.125918898130321)]\n",
      "User 437: [(858, 4.616638241929577), (2959, 4.566073836705485), (3451, 4.554531915787422), (1193, 4.541544971905966)]\n",
      "User 438: [(1104, 4.114698360653331), (750, 4.088320051034635), (922, 4.083099008569206), (898, 4.076110475709117)]\n",
      "User 439: [(750, 4.696094540182948), (1204, 4.650733386838178), (296, 4.609871345777282), (2959, 4.53145709894818)]\n",
      "User 440: [(318, 4.6257650825977015), (1204, 4.553239901925999), (527, 4.534619297685686), (904, 4.52000041054166)]\n",
      "User 441: [(1208, 5), (1213, 5), (898, 5), (858, 4.9700054688287665)]\n",
      "User 442: [(858, 2.6683325658468133), (750, 2.6525157659665632), (741, 2.581761178292297), (1237, 2.5651605664887853)]\n",
      "User 443: [(898, 4.60211001490006), (1204, 4.586044881479691), (1104, 4.570187655440147), (750, 4.53884974990698)]\n",
      "User 444: [(750, 4.6136398203396505), (858, 4.595133972296649), (2959, 4.588756705237673), (904, 4.5203320518342025)]\n",
      "User 445: [(858, 4.367882031061704), (318, 4.297506689845288), (1276, 4.2787763679866035), (1208, 4.278256575348057)]\n",
      "User 446: [(2959, 4.147906724322818), (750, 4.127753902229664), (318, 4.122148311133101), (1204, 4.120386605377703)]\n",
      "User 447: [(5618, 4.79344278124989), (922, 4.782066476713844), (858, 4.7775006091499455), (1217, 4.773871975524868)]\n",
      "User 448: [(904, 3.3041991800208086), (318, 3.3012715283132477), (56782, 3.295271274839947), (741, 3.280518057940506)]\n",
      "User 449: [(2571, 4.0560723897362525), (750, 4.015655976249575), (1204, 3.9965988983819565), (904, 3.9788783680108812)]\n",
      "User 450: [(904, 4.745705866155543), (1204, 4.709233162560217), (318, 4.696672788315179), (858, 4.658439455076799)]\n",
      "User 451: [(318, 4.739701009267643), (1197, 4.613564705475197), (2324, 4.602901890148042), (1204, 4.591617911323997)]\n",
      "User 452: [(50, 5), (296, 5), (593, 5), (1208, 5)]\n",
      "User 453: [(904, 4.82820490703903), (1199, 4.755005929970783), (1215, 4.743562948581419), (1204, 4.715689354138997)]\n",
      "User 454: [(898, 4.358242354865263), (858, 4.340674241325642), (1278, 4.312965475434127), (1283, 4.302864578979812)]\n",
      "User 455: [(1262, 4.32452572549111), (1196, 4.298532437411076), (1204, 4.27221591320341), (1104, 4.2376750076604655)]\n",
      "User 456: [(50, 4.837126925522712), (750, 4.81530850133975), (1217, 4.778227754074115), (318, 4.7698522164957)]\n",
      "User 457: [(750, 4.38500927543947), (1104, 4.369070910321552), (922, 4.335707368009222), (56782, 4.3126219973529905)]\n",
      "User 458: [(750, 4.918110826030451), (898, 4.863779220989811), (922, 4.861204730700327), (318, 4.854628679495508)]\n",
      "User 459: [(750, 4.762076007805774), (1217, 4.761759470473826), (922, 4.742659992959283), (1204, 4.740937247579445)]\n",
      "User 460: [(1204, 4.720886942025763), (306, 4.614832371981614), (750, 4.61475747563973), (7371, 4.609175126046203)]\n",
      "User 461: [(296, 3.687463543123448), (2324, 3.602884036082883), (5690, 3.566881408307618), (1251, 3.550056860856293)]\n",
      "User 462: [(1104, 4.40138632401267), (3030, 4.377888907255727), (1193, 4.330282928682974), (1217, 4.302414888902875)]\n",
      "User 463: [(318, 4.511141315718177), (1204, 4.484215281249068), (475, 4.438899134314956), (1208, 4.434511284815867)]\n",
      "User 464: [(1204, 4.510378607053277), (1217, 4.444829111248373), (1104, 4.442677063560742), (1172, 4.4287058234043135)]\n",
      "User 465: [(1204, 4.804207272901691), (318, 4.788464564699192), (7361, 4.768905282468402), (1104, 4.748125772600077)]\n",
      "User 466: [(750, 4.642863406374386), (5690, 4.5953157947732075), (1204, 4.5421201374813664), (2019, 4.517737742709993)]\n",
      "User 467: [(858, 4.286287035862728), (1204, 4.2357739282672835), (898, 4.206382797284781), (318, 4.199663044711037)]\n",
      "User 468: [(1136, 4.356062707765237), (750, 4.3147400299061776), (1197, 4.287807406295854), (3451, 4.27909710304884)]\n",
      "User 469: [(2959, 4.446348066479593), (246, 4.35319653951495), (4973, 4.336608693075626), (7361, 4.321362816267276)]\n",
      "User 470: [(904, 4.445568324069579), (750, 4.359459418515741), (246, 4.307219050099313), (2571, 4.305264348630163)]\n",
      "User 471: [(1204, 4.3416229390453625), (750, 4.318796603171803), (951, 4.2728263514967635), (1208, 4.249133055160712)]\n",
      "User 472: [(750, 4.6929758291002175), (1104, 4.682794581769461), (741, 4.678581085481943), (1197, 4.638182802640785)]\n",
      "User 473: [(750, 4.328573552873623), (1204, 4.238790622100761), (1276, 4.2237103028629175), (904, 4.210297004075808)]\n",
      "User 474: [(3275, 4.3402516358323995), (177593, 4.26733765304079), (741, 4.231518478413911), (58559, 4.231155550219793)]\n",
      "User 475: [(1208, 5), (318, 5), (750, 5), (858, 5)]\n",
      "User 476: [(3451, 4.540036325255271), (1204, 4.526995677459938), (858, 4.5096732647175255), (260, 4.496881588591774)]\n",
      "User 477: [(1197, 4.6725875106293495), (858, 4.618546097479441), (1250, 4.608563837623243), (6016, 4.595133385667812)]\n",
      "User 478: [(318, 3.9042809786599815), (750, 3.8540225217448114), (1104, 3.7906157288761837), (904, 3.7880009885387596)]\n",
      "User 479: [(318, 4.380058720143214), (1204, 4.275971706590862), (2571, 4.2507475046071), (527, 4.235213801497795)]\n",
      "User 480: [(750, 4.21891536398389), (1204, 4.179572751976586), (27773, 4.148993599798622), (720, 4.143566935646189)]\n",
      "User 481: [(898, 3.921817920717392), (1208, 3.8650354597957053), (741, 3.8374833906082304), (318, 3.8304714593594746)]\n",
      "User 482: [(1104, 4.306741489109607), (318, 4.281416356564442), (2398, 4.26902852017504), (904, 4.261884192879684)]\n",
      "User 483: [(1204, 4.555788684036854), (1104, 4.545343291482974), (750, 4.506822432315862), (56782, 4.505863622747949)]\n",
      "User 484: [(1262, 4.696900821034766), (1217, 4.639872414740633), (1276, 4.6268502500718425), (3275, 4.609056442003526)]\n",
      "User 485: [(1204, 4.7014742630612805), (898, 4.650853971405597), (318, 4.611433025963948), (858, 4.5964995180372545)]\n",
      "User 486: [(1104, 4.860614721715508), (1204, 4.847040228992222), (720, 4.842291088317553), (3275, 4.829212163984971)]\n",
      "User 487: [(1204, 3.782918615785526), (1104, 3.717539744015946), (741, 3.6379875946406943), (1245, 3.6199742698398585)]\n",
      "User 488: [(933, 4.467104617662458), (1248, 4.452282860360686), (1178, 4.408403259692855), (750, 4.396884418435449)]\n",
      "User 489: [(527, 4.18594447337043), (318, 4.038689464491204), (1283, 4.023693335765905), (6711, 3.964749285682432)]\n",
      "User 490: [(750, 3.908373122588351), (858, 3.8898478211969065), (318, 3.869172325201831), (50, 3.855527815100538)]\n",
      "User 491: [(750, 4.847612864424344), (3451, 4.832992664727954), (3275, 4.809081685491844), (3424, 4.799183461793941)]\n",
      "User 492: [(318, 4.996299249694177), (50, 4.933262958807869), (904, 4.905366381204373), (1204, 4.898948295312356)]\n",
      "User 493: [(1104, 4.511275458143295), (593, 4.351869085580051), (246, 4.301377621344023), (6787, 4.299030659919322)]\n",
      "User 494: [(318, 4.699214881728008), (741, 4.679457636204204), (1136, 4.591662802101916), (750, 4.582469336730867)]\n",
      "User 495: [(720, 4.8067055849066), (2019, 4.801970792165671), (4226, 4.783641203540504), (899, 4.7805307523365554)]\n",
      "User 496: [(318, 4.103157303851617), (1196, 4.092631285595511), (1104, 4.081146105386602), (1136, 4.074756073690419)]\n",
      "User 497: [(720, 4.128641080507699), (1242, 4.083579757593567), (1225, 4.081260835994586), (541, 4.047375745144488)]\n",
      "User 498: [(2329, 4.7496957085618465), (1197, 4.745648151404829), (50, 4.7127547637775535), (1104, 4.709246765205314)]\n",
      "User 499: [(858, 4.615123613516085), (260, 4.609026540420482), (1104, 4.60233293467904), (318, 4.582427405835534)]\n",
      "User 500: [(898, 4.126295913403798), (44195, 4.104082363140538), (1204, 4.0777556962545), (3468, 4.076142087998412)]\n",
      "User 501: [(3451, 4.180696539610984), (318, 4.1159102942282795), (1104, 4.097227929410378), (1213, 4.093322950463525)]\n",
      "User 502: [(1204, 4.373020686465562), (112552, 4.226407131576217), (1197, 4.219089817195907), (898, 4.205334829364213)]\n",
      "User 503: [(1217, 3.964065577505522), (50, 3.922823876962171), (1276, 3.9182531479621856), (1198, 3.9113991381800868)]\n",
      "User 504: [(904, 4.589548411667113), (318, 4.580035473399504), (912, 4.528446937517206), (1262, 4.511389881231213)]\n",
      "User 505: [(750, 4.925505368396629), (1136, 4.828075277154907), (318, 4.82374281424985), (4973, 4.798562498931317)]\n",
      "User 506: [(318, 4.083146544703537), (2160, 4.045882092381908), (1104, 4.0198541893092985), (898, 4.016407484515903)]\n",
      "User 507: [(1223, 4.096319125953229), (3275, 4.086537364177259), (1136, 4.057891564562886), (2788, 4.057473433910803)]\n",
      "User 508: [(318, 3.2955519569783682), (3451, 3.204116596019275), (475, 3.1350594260885702), (4226, 3.1137505728839656)]\n",
      "User 509: [(1204, 4.107124858538268), (318, 4.06698022111217), (858, 4.043303082867272), (1104, 4.0298270373981575)]\n",
      "User 510: [(1204, 3.7641464021408035), (318, 3.7201746190364116), (246, 3.6840436207180205), (904, 3.6476884522922237)]\n",
      "User 511: [(1204, 4.729710823992486), (858, 4.661453067754429), (1208, 4.658259564414466), (1213, 4.641751318701914)]\n",
      "User 512: [(750, 4.704535557945123), (1204, 4.609216067622967), (1233, 4.5382291460774224), (2019, 4.527772830993005)]\n",
      "User 513: [(1204, 4.486555028551197), (246, 4.395456566616461), (741, 4.385011036127945), (2959, 4.378170264041951)]\n",
      "User 514: [(858, 4.148971775331316), (904, 4.139084210158443), (1221, 4.005295821857601), (1252, 4.004010502976954)]\n",
      "User 515: [(296, 5), (1089, 5), (1278, 5), (2571, 5)]\n",
      "User 516: [(1204, 4.428850059168084), (318, 4.408195306994048), (858, 4.366323231316683), (1213, 4.34092577781609)]\n",
      "User 517: [(3451, 3.4915579976447693), (858, 3.300543357985185), (5878, 3.276953280318704), (866, 3.2242052080813317)]\n",
      "User 518: [(318, 4.4258953168049695), (1104, 4.405820680137376), (1204, 4.374556813694006), (51255, 4.353073664133127)]\n",
      "User 519: [(3451, 4.924554955615794), (1204, 4.889375029525558), (4226, 4.883986579241441), (2019, 4.853111427017085)]\n",
      "User 520: [(5690, 4.617784755205108), (177593, 4.5867820982591905), (904, 4.558066102053129), (246, 4.538759847649267)]\n",
      "User 521: [(750, 4.560783631944373), (1204, 4.514919397369958), (1104, 4.490946208009381), (1223, 4.488791176681902)]\n",
      "User 522: [(951, 4.591646571015087), (904, 4.5029692188554336), (750, 4.4920058041588), (4973, 4.440144649576688)]\n",
      "User 523: [(110, 5), (260, 5), (296, 5), (593, 5)]\n",
      "User 524: [(750, 4.313278926476238), (898, 4.313273256832356), (741, 4.29689484642088), (922, 4.286099033383444)]\n",
      "User 525: [(1204, 4.172631389486355), (898, 4.147072222999935), (56782, 4.132947141533444), (3451, 4.125331433673057)]\n",
      "User 526: [(5690, 4.691938394743243), (1204, 4.656447987102144), (898, 4.6257337957776485), (2788, 4.610578463632678)]\n",
      "User 527: [(1104, 4.860301559440697), (1283, 4.82605587712663), (858, 4.826019273015232), (3508, 4.821360785636173)]\n",
      "User 528: [(750, 4.0799585650400685), (1204, 4.0605545940544925), (318, 4.011274150753063), (3451, 4.0017161001364565)]\n",
      "User 529: [(1104, 4.401531457696512), (4973, 4.299258437054854), (750, 4.2858491288930045), (3275, 4.279362263972846)]\n",
      "User 530: [(318, 4.585095662136532), (1204, 4.50763955643334), (741, 4.4615262132434825), (930, 4.452277073099086)]\n",
      "User 531: [(858, 4.597956152523512), (1204, 4.526068941122912), (1221, 4.51335498315413), (1104, 4.467119285943079)]\n",
      "User 532: [(260, 4.754602832681717), (1196, 4.745093830337354), (912, 4.6919135380243855), (904, 4.691725648839316)]\n",
      "User 533: [(750, 4.897361309027256), (3451, 4.878283173295165), (1204, 4.822677628013707), (933, 4.79399780608535)]\n",
      "User 534: [(318, 4.530781368413485), (1204, 4.5172115691549815), (750, 4.440333978868926), (1262, 4.440313065461492)]\n",
      "User 535: [(296, 3.7910255772542616), (720, 3.7814456400990784), (904, 3.7270614669971263), (858, 3.71157323339433)]\n",
      "User 536: [(318, 4.411061000789193), (912, 4.308959282518741), (1204, 4.263089878503389), (914, 4.258184892737541)]\n",
      "User 537: [(3030, 4.88112804786337), (1104, 4.791615942936827), (750, 4.7080300101146255), (1204, 4.671406850156181)]\n",
      "User 538: [(2329, 5), (318, 5), (48516, 5), (904, 5)]\n",
      "User 539: [(260, 4.589213841736597), (858, 4.576877167191064), (898, 4.57518084114976), (904, 4.563381162590803)]\n",
      "User 540: [(750, 4.773422825989512), (858, 4.7407291751123335), (318, 4.680198998294935), (1250, 4.678804137589865)]\n",
      "User 541: [(904, 4.341058837213376), (750, 4.299470359889341), (1252, 4.253791342558903), (858, 4.253242568349449)]\n",
      "User 542: [(1262, 4.2949920722604915), (1221, 4.285447227168458), (899, 4.2426131925128905), (1197, 4.228703090094832)]\n",
      "User 543: [(260, 5), (593, 5), (1136, 5), (1196, 5)]\n",
      "User 544: [(720, 5), (1276, 5), (142488, 5), (969, 5)]\n",
      "User 545: [(57669, 4.5264562274799856), (318, 4.453218989141696), (106642, 4.444603866813685), (912, 4.431439052029073)]\n",
      "User 546: [(246, 4.521176510588144), (904, 4.3917171162873325), (1204, 4.350094159957812), (750, 4.346946196001896)]\n",
      "User 547: [(1266, 4.660361337315915), (2788, 4.6578737882442205), (318, 4.637907596247065), (48516, 4.635402943516995)]\n",
      "User 548: [(4973, 4.729342046744163), (1258, 4.715278510889857), (1278, 4.707591517189073), (1283, 4.702990523280735)]\n",
      "User 549: [(1089, 4.1607817949282415), (246, 4.083469490291761), (1213, 4.067383920078762), (1223, 4.060375409778249)]\n",
      "User 550: [(1204, 4.589364726500992), (858, 4.566949711600636), (1247, 4.551961014013064), (3275, 4.537648495863917)]\n",
      "User 551: [(904, 4.3909951889638155), (750, 4.339626962772609), (1217, 4.282391090727517), (898, 4.282125827389588)]\n",
      "User 552: [(858, 4.205526753667648), (260, 4.0629830497240915), (318, 4.062305340988808), (1204, 4.053880603934962)]\n",
      "User 553: [(1204, 4.8938589369611885), (318, 4.882620309485313), (3435, 4.866300315364115), (750, 4.849445612631096)]\n",
      "User 554: [(475, 4.783270415535524), (904, 4.706216086371259), (951, 4.677318203222746), (318, 4.667351898606287)]\n",
      "User 555: [(858, 4.403932063300569), (904, 4.376939727658691), (1221, 4.3748468735308315), (1250, 4.359048152953998)]\n",
      "User 556: [(318, 4.823221715727525), (1196, 4.795600518377535), (260, 4.767912969771519), (912, 4.760139224390045)]\n",
      "User 557: [(1223, 4.558186258023639), (1262, 4.399556637528708), (1228, 4.386867373087248), (1104, 4.365148421631667)]\n",
      "User 558: [(3030, 4.769975360852738), (318, 4.747737703589563), (750, 4.695131493739352), (1204, 4.694612607951212)]\n",
      "User 559: [(858, 4.322266384004547), (750, 4.289161307358191), (1136, 4.221632507443224), (898, 4.2177460828230835)]\n",
      "User 560: [(318, 4.235524728095472), (898, 4.233279473649849), (750, 4.229760406053008), (1204, 4.176375325910031)]\n",
      "User 561: [(1204, 3.961062306875704), (858, 3.9552335622176735), (1208, 3.951993764723495), (1136, 3.9192742709737005)]\n",
      "User 562: [(904, 4.771460874548694), (1204, 4.769863293828852), (4973, 4.699594398006409), (3030, 4.6789351916376525)]\n",
      "User 563: [(318, 4.215492163658286), (1204, 4.2131811383703), (750, 4.180759806448212), (1945, 4.157140547103091)]\n",
      "User 564: [(1276, 4.393007308957122), (246, 4.350472247503903), (908, 4.324619175277012), (1204, 4.3013616464750575)]\n",
      "User 565: [(7361, 4.402948790033164), (1104, 4.395625918521445), (1089, 4.393772335283218), (1208, 4.392362426727929)]\n",
      "User 566: [(1252, 4.415440882532419), (1204, 4.41059131762975), (750, 4.387265057046744), (1248, 4.346654731366201)]\n",
      "User 567: [(720, 3.2141946531715595), (951, 3.143627447418393), (318, 3.128206052064444), (104374, 3.1222654597154538)]\n",
      "User 568: [(318, 4.758712522291325), (1178, 4.6561774432576755), (750, 4.6536229736363355), (1204, 4.653605572286189)]\n",
      "User 569: [(56782, 4.730769180679726), (898, 4.724579007813082), (260, 4.703871652049097), (1203, 4.69545194799878)]\n",
      "User 570: [(1204, 4.089912189188433), (750, 4.084738806417241), (3275, 4.023081886987024), (1104, 4.0145323897352)]\n",
      "User 571: [(6787, 3.6340057322161567), (750, 3.620712021086118), (296, 3.6053269173111087), (1204, 3.601512747627719)]\n",
      "User 572: [(177593, 4.727896266367218), (78499, 4.716855085038949), (1217, 4.6915221118663455), (1089, 4.68871529521678)]\n",
      "User 573: [(1208, 4.9121119789723675), (866, 4.845838614974645), (1250, 4.842939896724104), (5690, 4.83367160510111)]\n",
      "User 574: [(1266, 4.703441127060788), (48516, 4.695605539335457), (2571, 4.667334836558489), (1136, 4.644057541597272)]\n",
      "User 575: [(2959, 4.208659463166606), (7361, 4.205887560117167), (720, 4.199192682295011), (541, 4.143374368793199)]\n",
      "User 576: [(1204, 4.158560535303134), (318, 4.099752814990956), (1283, 4.0453532755965185), (78499, 4.005426693393836)]\n",
      "User 577: [(5690, 4.232911919527708), (904, 4.19204470141381), (913, 4.190351088512729), (246, 4.167367625077012)]\n",
      "User 578: [(720, 4.853140583029085), (750, 4.829795811749137), (56782, 4.753739787216001), (318, 4.719344076115901)]\n",
      "User 579: [(750, 4.829063718613045), (105504, 4.771050383312012), (1204, 4.724233894278247), (1252, 4.72147278510823)]\n",
      "User 580: [(3451, 4.281426173798455), (750, 4.277552033614836), (741, 4.275736097510142), (1258, 4.264548222313005)]\n",
      "User 581: [(1204, 4.689142858640316), (3451, 4.654972163325095), (260, 4.63861126052565), (898, 4.63570265794037)]\n",
      "User 582: [(318, 4.55782860488867), (904, 4.532664696663056), (6016, 4.497177551979569), (246, 4.482117737358963)]\n",
      "User 583: [(898, 4.116401801561029), (750, 4.105845879224472), (318, 4.077764294660815), (50, 4.057646194294247)]\n",
      "User 584: [(260, 5), (318, 5), (912, 5), (750, 5)]\n",
      "User 585: [(898, 4.854562435661354), (750, 4.767810894792901), (3451, 4.753411537856669), (318, 4.750694713725335)]\n",
      "User 586: [(898, 5), (750, 5), (1204, 5), (1945, 4.9892979619619355)]\n",
      "User 587: [(318, 4.727027594562624), (904, 4.678126588777394), (2959, 4.644454607995082), (951, 4.610531698314976)]\n",
      "User 588: [(750, 4.127961092238881), (1272, 4.074216184119101), (246, 4.029836139497086), (48516, 4.02132984127587)]\n",
      "User 589: [(904, 4.933317490774309), (750, 4.825986675923017), (2959, 4.785351019307737), (1136, 4.77058886842639)]\n",
      "User 590: [(1104, 4.071891954733153), (4973, 4.035269311083213), (5618, 3.9651257989037534), (475, 3.9418497774786867)]\n",
      "User 591: [(1204, 4.273538265750055), (318, 4.252182954176839), (1193, 4.16224319704659), (7371, 4.153325265034235)]\n",
      "User 592: [(858, 4.660437912725224), (50, 4.63370691477747), (1204, 4.578538826959028), (1197, 4.562643740471192)]\n",
      "User 593: [(750, 3.950135541350645), (475, 3.876955577237964), (741, 3.8749690008512037), (2324, 3.8738477897438806)]\n",
      "User 594: [(58559, 4.918754918646054), (1198, 4.8807734222589305), (3347, 4.872436044342186), (904, 4.835464593542758)]\n",
      "User 595: [(318, 4.941153453980102), (1204, 4.925620342336893), (858, 4.852194398381054), (260, 4.831886200932496)]\n",
      "User 596: [(750, 4.336112820161022), (318, 4.323147719409844), (1104, 4.30159640435047), (1199, 4.26817504854423)]\n",
      "User 597: [(750, 4.884488970745129), (296, 4.827507957274055), (318, 4.818321221134428), (2959, 4.787653140315094)]\n",
      "User 598: [(1283, 4.484353354991987), (5690, 4.442212235559317), (1204, 4.43536374374809), (922, 4.385033969435185)]\n",
      "User 599: [(1276, 3.429160440770324), (527, 3.4212384378936336), (1217, 3.418388263544914), (3451, 3.4115149084582272)]\n",
      "User 600: [(1104, 4.154356090943698), (1204, 3.9521640235097535), (3275, 3.9221371135297907), (720, 3.9097956754544416)]\n",
      "User 601: [(741, 4.851400236833938), (296, 4.7959175656353725), (1204, 4.76742917532244), (1104, 4.746354512613198)]\n",
      "User 602: [(858, 4.314943510176434), (1276, 4.289472722381474), (3275, 4.2598690647662965), (898, 4.2527171095932275)]\n",
      "User 603: [(750, 4.474756316240804), (5618, 4.389421002729518), (1178, 4.305273215210607), (4973, 4.264730725355529)]\n",
      "User 604: [(720, 4.468851461488186), (1208, 4.453455157560175), (750, 4.451497830656381), (318, 4.4157046869914724)]\n",
      "User 605: [(318, 4.186316361156027), (1204, 4.077983314536783), (1283, 4.077338901445664), (858, 4.0668797229323035)]\n",
      "User 606: [(1104, 4.293589325467797), (3275, 4.284968706478439), (922, 4.276228725233821), (1276, 4.264554325218908)]\n",
      "User 607: [(741, 4.581307193131451), (106642, 4.576342736440598), (904, 4.557634568426483), (3435, 4.507997030190469)]\n",
      "User 608: [(1204, 4.443260570809922), (904, 4.32422589653495), (1235, 4.314838427593073), (922, 4.307474709362985)]\n",
      "User 609: [(904, 4.170710083863659), (2959, 4.110503997000323), (1204, 4.109215802422198), (750, 4.102226573801427)]\n",
      "User 610: [(1204, 4.512530620754492), (2019, 4.42885357083836), (475, 4.405789191709347), (1104, 4.4043850053682805)]\n"
     ]
    }
   ],
   "source": [
    "from collections import defaultdict\n",
    "def get_all_predictions(predictions):\n",
    "    # First map the predictions to each user.\n",
    "    top_n = defaultdict(list)    \n",
    "    for uid, iid, true_r, est, _ in predictions:\n",
    "        top_n[uid].append((iid, est))\n",
    "\n",
    "    # Then sort the predictions for each user\n",
    "    for uid, user_ratings in top_n.items():\n",
    "        user_ratings.sort(key=lambda x: x[1], reverse=True)\n",
    "\n",
    "    return top_n\n",
    "\n",
    "# Assuming predictions is already generated from algo.test(testset)\n",
    "predictions = algo.test(testset)  # Ensure this is executed first\n",
    "all_pred = get_all_predictions(predictions)  # Get all predictions\n",
    "\n",
    "# To get top N recommendations\n",
    "n = 4\n",
    "\n",
    "# Limit each user's recommendations to the top N\n",
    "for uid in all_pred.keys():\n",
    "    all_pred[uid] = all_pred[uid][:n]  # Keep only the top N recommendations\n",
    "\n",
    "# Optional: Print top recommendations for each user\n",
    "for uid, user_ratings in all_pred.items():\n",
    "    print(f'User {uid}: {user_ratings}')"
   ]
  },
  {
   "cell_type": "markdown",
   "metadata": {},
   "source": [
    "### Evaluating User Movie Recommendation"
   ]
  },
  {
   "cell_type": "code",
   "execution_count": 40,
   "metadata": {},
   "outputs": [
    {
     "name": "stdout",
     "output_type": "stream",
     "text": [
      "Top 4 recommendations for User 10:\n"
     ]
    },
    {
     "name": "stdout",
     "output_type": "stream",
     "text": [
      "Movie Title: Do the Right Thing (1989), Estimated Rating: 4.19\n",
      "Movie Title: Miracle on 34th Street (1947), Estimated Rating: 4.04\n",
      "Movie Title: On the Waterfront (1954), Estimated Rating: 4.04\n",
      "Movie Title: Grave of the Fireflies (Hotaru no haka) (1988), Estimated Rating: 3.97\n"
     ]
    }
   ],
   "source": [
    "def get_user_recommendations(user_id):\n",
    "    if user_id in all_pred:\n",
    "        recommended_movies = all_pred[user_id]\n",
    "        print(f\"Top {n} recommendations for User {user_id}:\")\n",
    "        \n",
    "        # Create a DataFrame for the recommendations\n",
    "        recommendations_df = pd.DataFrame(recommended_movies, columns=['movieId', 'estimated_rating'])\n",
    "        \n",
    "        # Merge with the movies DataFrame to get titles\n",
    "        recommended_with_titles = recommendations_df.merge(movies, on='movieId', how='left')\n",
    "        \n",
    "        # Display movie titles and estimated ratings\n",
    "        for _, row in recommended_with_titles.iterrows():\n",
    "            print(f\"Movie Title: {row['title']}, Estimated Rating: {row['estimated_rating']:.2f}\")\n",
    "    else:\n",
    "        print(f\"No recommendations available for User {user_id}.\")\n",
    "\n",
    "# Get recommendations for user 10\n",
    "get_user_recommendations(user_id=10)"
   ]
  },
  {
   "cell_type": "markdown",
   "metadata": {},
   "source": [
    "# Recommendations"
   ]
  },
  {
   "cell_type": "markdown",
   "metadata": {},
   "source": [
    "1. Use hybrid recommendation approach that combines collaborative filtering (e.g., KNN, SVD) with content-based filtering. This will leverage both user ratings and metadata (tags, genres) for improved accuracy. This can be attained by assessing the performance of each method and adjusting weights in the hybrid model based on empirical results.\n",
    "\n",
    "2. Incorporate user-generated tags to enrich the content-based filtering component. Analyze tag frequencies and their relationships with genres to create more nuanced features. Consider multi-label approaches for genres, as movies can belong to multiple categories. This can enhance the recommendations for users with diverse tastes.\n",
    "\n",
    "3. Incorporate User Feedback\n",
    "Implement a system to gather user feedback on recommendations (e.g., thumbs up/down, ratings). Use this data to refine models and adapt to changing user preferences.\n",
    "Build dynamic user profiles that evolve based on user interactions over time.\n"
   ]
  }
 ],
 "metadata": {
  "kernelspec": {
   "display_name": "learn-env",
   "language": "python",
   "name": "python3"
  },
  "language_info": {
   "codemirror_mode": {
    "name": "ipython",
    "version": 3
   },
   "file_extension": ".py",
   "mimetype": "text/x-python",
   "name": "python",
   "nbconvert_exporter": "python",
   "pygments_lexer": "ipython3",
   "version": "3.8.5"
  }
 },
 "nbformat": 4,
 "nbformat_minor": 2
}
