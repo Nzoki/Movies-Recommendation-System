{
 "cells": [
  {
   "cell_type": "markdown",
   "metadata": {},
   "source": [
    "# **Movies Recommendation System**"
   ]
  },
  {
   "cell_type": "markdown",
   "metadata": {},
   "source": [
    "## Business Understanding"
   ]
  },
  {
   "cell_type": "markdown",
   "metadata": {},
   "source": [
    "In today's streaming industry, companies like Netflix, Hulu, and Amazon Prime Video face the challenge of providing users with relevant content that matches their preferences. With vast movie catalogs, it can be overwhelming for users to find films they enjoy, leading to lower engagement and subscription cancellations. \n",
    "\n",
    " An intelligent movie recommendation system can help users discover films that match their tastes, enhancing user satisfaction and platform engagement. This system can boost user retention, increase viewing time, and create personalized experiences, benefiting both users and the platform."
   ]
  },
  {
   "cell_type": "markdown",
   "metadata": {},
   "source": [
    "# Problem statement"
   ]
  },
  {
   "cell_type": "markdown",
   "metadata": {},
   "source": [
    "With the rise of movie streaming platforms  navigating through  collections  of movies and TV shows, users have been overwhelmed in choosing what they want to watch.\n",
    "The goal is to predict user preferences based on past interactions (such as ratings) and recommend movies they are likely to enjoy. This involves building a collaborative filtering system that leverages user-item interactions, ratings, and predictions to improve user satisfaction by providing accurate and relevant movie suggestions."
   ]
  },
  {
   "cell_type": "markdown",
   "metadata": {},
   "source": [
    "# Stakeholders\n",
    "\n",
    "The primary stakeholders are:\n",
    "\n",
    "- **Streaming platforms**: They benefit from increased user engagement and retention by offering personalized recommendations.\n",
    "\n",
    "- **Users**: They receive tailored suggestions, improving their movie-watching experience."
   ]
  },
  {
   "cell_type": "markdown",
   "metadata": {},
   "source": [
    "# Objectives\n",
    "\n",
    "## General Objective\n",
    "\n",
    "- Build a recommendation system that improves user engagement by providing relevant movie suggestions.\n",
    "\n",
    "\n",
    "## Specific Objectives\n",
    "\n",
    "1. To build  a collaborative filtering model  that recommends movies to users based on their previous ratings and the behavior of similar users.\n",
    "\n",
    "2. To use past user ratings to predict ratings for unrated movies. \n",
    "\n",
    "3.  To provide personalized movies recommendations"
   ]
  },
  {
   "cell_type": "markdown",
   "metadata": {},
   "source": [
    "## Data Understanding\n",
    "\n",
    "### Data Source\n",
    "The data for this project comes from the **MovieLens dataset** https://grouplens.org/datasets/movielens/latest/, a widely-used benchmark dataset provided by the GroupLens research group at the University of Minnesota. This dataset is designed specifically for building and testing recommendation systems, making it highly relevant for our project.\n",
    "\n",
    "We are using the **MovieLens small dataset** (ml-latest-small), which contains:\n",
    "\n",
    "- **Ratings**: User ratings for different movies.\n",
    "- **Movies**: Information about movie titles and genres.\n",
    "- **Tags**: User-generated tags for movies.\n",
    "- **Links**: Metadata connecting movies to external resources like IMDb."
   ]
  },
  {
   "cell_type": "markdown",
   "metadata": {},
   "source": [
    "### Import Libraries"
   ]
  },
  {
   "cell_type": "code",
   "execution_count": 41,
   "metadata": {},
   "outputs": [],
   "source": [
    "import pandas as pd\n",
    "import numpy as np\n",
    "import matplotlib.pyplot as plt\n",
    "import seaborn as sns\n",
    "from sklearn.pipeline import Pipeline\n",
    "from sklearn.impute import SimpleImputer\n",
    "from sklearn.decomposition import TruncatedSVD\n",
    "from sklearn.model_selection import GridSearchCV, train_test_split\n",
    "from sklearn.metrics import mean_squared_error, make_scorer"
   ]
  },
  {
   "cell_type": "code",
   "execution_count": 42,
   "metadata": {},
   "outputs": [
    {
     "name": "stdout",
     "output_type": "stream",
     "text": [
      "Requirement already satisfied: surprise in c:\\users\\vero\\anaconda3\\envs\\learn-env\\lib\\site-packages (0.1)\n",
      "Requirement already satisfied: scikit-surprise in c:\\users\\vero\\anaconda3\\envs\\learn-env\\lib\\site-packages (from surprise) (1.1.1)\n",
      "Requirement already satisfied: joblib>=0.11 in c:\\users\\vero\\anaconda3\\envs\\learn-env\\lib\\site-packages (from scikit-surprise->surprise) (1.4.2)\n",
      "Requirement already satisfied: numpy>=1.11.2 in c:\\users\\vero\\anaconda3\\envs\\learn-env\\lib\\site-packages (from scikit-surprise->surprise) (1.22.0)\n",
      "Requirement already satisfied: scipy>=1.0.0 in c:\\users\\vero\\anaconda3\\envs\\learn-env\\lib\\site-packages (from scikit-surprise->surprise) (1.5.0)\n",
      "Requirement already satisfied: six>=1.10.0 in c:\\users\\vero\\anaconda3\\envs\\learn-env\\lib\\site-packages (from scikit-surprise->surprise) (1.15.0)\n",
      "Note: you may need to restart the kernel to use updated packages.\n"
     ]
    }
   ],
   "source": [
    "pip install surprise"
   ]
  },
  {
   "cell_type": "code",
   "execution_count": 43,
   "metadata": {},
   "outputs": [],
   "source": [
    "from surprise.model_selection import cross_validate\n",
    "from surprise.prediction_algorithms import SVD\n",
    "from surprise.prediction_algorithms import KNNWithMeans, KNNBasic, KNNBaseline\n",
    "from surprise.model_selection import GridSearchCV\n",
    "import numpy as np"
   ]
  },
  {
   "cell_type": "markdown",
   "metadata": {},
   "source": [
    "### Loading Dataset"
   ]
  },
  {
   "cell_type": "code",
   "execution_count": 3,
   "metadata": {},
   "outputs": [],
   "source": [
    "# Load the datasets\n",
    "ratings = pd.read_csv('ml-latest-small/ratings.csv')\n",
    "tags = pd.read_csv('ml-latest-small/tags.csv')\n",
    "movies = pd.read_csv('ml-latest-small/movies.csv')\n",
    "links = pd.read_csv('ml-latest-small/links.csv')\n"
   ]
  },
  {
   "cell_type": "code",
   "execution_count": 5,
   "metadata": {},
   "outputs": [
    {
     "name": "stdout",
     "output_type": "stream",
     "text": [
      "   userId  movieId  rating  timestamp\n",
      "0       1        1     4.0  964982703\n",
      "1       1        3     4.0  964981247\n",
      "2       1        6     4.0  964982224\n",
      "3       1       47     5.0  964983815\n",
      "4       1       50     5.0  964982931\n",
      "<class 'pandas.core.frame.DataFrame'>\n",
      "RangeIndex: 100836 entries, 0 to 100835\n",
      "Data columns (total 4 columns):\n",
      " #   Column     Non-Null Count   Dtype  \n",
      "---  ------     --------------   -----  \n",
      " 0   userId     100836 non-null  int64  \n",
      " 1   movieId    100836 non-null  int64  \n",
      " 2   rating     100836 non-null  float64\n",
      " 3   timestamp  100836 non-null  int64  \n",
      "dtypes: float64(1), int64(3)\n",
      "memory usage: 3.1 MB\n"
     ]
    }
   ],
   "source": [
    "print(ratings.head())\n",
    "ratings.info()\n"
   ]
  },
  {
   "cell_type": "code",
   "execution_count": 6,
   "metadata": {},
   "outputs": [
    {
     "name": "stdout",
     "output_type": "stream",
     "text": [
      "   userId  movieId              tag   timestamp\n",
      "0       2    60756            funny  1445714994\n",
      "1       2    60756  Highly quotable  1445714996\n",
      "2       2    60756     will ferrell  1445714992\n",
      "3       2    89774     Boxing story  1445715207\n",
      "4       2    89774              MMA  1445715200\n",
      "<class 'pandas.core.frame.DataFrame'>\n",
      "RangeIndex: 3683 entries, 0 to 3682\n",
      "Data columns (total 4 columns):\n",
      " #   Column     Non-Null Count  Dtype \n",
      "---  ------     --------------  ----- \n",
      " 0   userId     3683 non-null   int64 \n",
      " 1   movieId    3683 non-null   int64 \n",
      " 2   tag        3683 non-null   object\n",
      " 3   timestamp  3683 non-null   int64 \n",
      "dtypes: int64(3), object(1)\n",
      "memory usage: 115.2+ KB\n"
     ]
    }
   ],
   "source": [
    "print(tags.head())\n",
    "tags.info()"
   ]
  },
  {
   "cell_type": "code",
   "execution_count": 7,
   "metadata": {},
   "outputs": [
    {
     "name": "stdout",
     "output_type": "stream",
     "text": [
      "   movieId                               title  \\\n",
      "0        1                    Toy Story (1995)   \n",
      "1        2                      Jumanji (1995)   \n",
      "2        3             Grumpier Old Men (1995)   \n",
      "3        4            Waiting to Exhale (1995)   \n",
      "4        5  Father of the Bride Part II (1995)   \n",
      "\n",
      "                                        genres  \n",
      "0  Adventure|Animation|Children|Comedy|Fantasy  \n",
      "1                   Adventure|Children|Fantasy  \n",
      "2                               Comedy|Romance  \n",
      "3                         Comedy|Drama|Romance  \n",
      "4                                       Comedy  \n",
      "<class 'pandas.core.frame.DataFrame'>\n",
      "RangeIndex: 9742 entries, 0 to 9741\n",
      "Data columns (total 3 columns):\n",
      " #   Column   Non-Null Count  Dtype \n",
      "---  ------   --------------  ----- \n",
      " 0   movieId  9742 non-null   int64 \n",
      " 1   title    9742 non-null   object\n",
      " 2   genres   9742 non-null   object\n",
      "dtypes: int64(1), object(2)\n",
      "memory usage: 228.5+ KB\n"
     ]
    }
   ],
   "source": [
    "print(movies.head())\n",
    "movies.info()"
   ]
  },
  {
   "cell_type": "code",
   "execution_count": 8,
   "metadata": {},
   "outputs": [
    {
     "name": "stdout",
     "output_type": "stream",
     "text": [
      "   movieId  imdbId   tmdbId\n",
      "0        1  114709    862.0\n",
      "1        2  113497   8844.0\n",
      "2        3  113228  15602.0\n",
      "3        4  114885  31357.0\n",
      "4        5  113041  11862.0\n",
      "<class 'pandas.core.frame.DataFrame'>\n",
      "RangeIndex: 9742 entries, 0 to 9741\n",
      "Data columns (total 3 columns):\n",
      " #   Column   Non-Null Count  Dtype  \n",
      "---  ------   --------------  -----  \n",
      " 0   movieId  9742 non-null   int64  \n",
      " 1   imdbId   9742 non-null   int64  \n",
      " 2   tmdbId   9734 non-null   float64\n",
      "dtypes: float64(1), int64(2)\n",
      "memory usage: 228.5 KB\n"
     ]
    }
   ],
   "source": [
    "print(links.head())\n",
    "links.info()"
   ]
  },
  {
   "cell_type": "code",
   "execution_count": 9,
   "metadata": {},
   "outputs": [
    {
     "data": {
      "text/html": [
       "<div>\n",
       "<style scoped>\n",
       "    .dataframe tbody tr th:only-of-type {\n",
       "        vertical-align: middle;\n",
       "    }\n",
       "\n",
       "    .dataframe tbody tr th {\n",
       "        vertical-align: top;\n",
       "    }\n",
       "\n",
       "    .dataframe thead th {\n",
       "        text-align: right;\n",
       "    }\n",
       "</style>\n",
       "<table border=\"1\" class=\"dataframe\">\n",
       "  <thead>\n",
       "    <tr style=\"text-align: right;\">\n",
       "      <th></th>\n",
       "      <th>userId</th>\n",
       "      <th>movieId</th>\n",
       "      <th>rating</th>\n",
       "      <th>timestamp</th>\n",
       "      <th>title</th>\n",
       "      <th>genres</th>\n",
       "    </tr>\n",
       "  </thead>\n",
       "  <tbody>\n",
       "    <tr>\n",
       "      <th>0</th>\n",
       "      <td>1</td>\n",
       "      <td>1</td>\n",
       "      <td>4.0</td>\n",
       "      <td>964982703</td>\n",
       "      <td>Toy Story (1995)</td>\n",
       "      <td>Adventure|Animation|Children|Comedy|Fantasy</td>\n",
       "    </tr>\n",
       "    <tr>\n",
       "      <th>1</th>\n",
       "      <td>1</td>\n",
       "      <td>3</td>\n",
       "      <td>4.0</td>\n",
       "      <td>964981247</td>\n",
       "      <td>Grumpier Old Men (1995)</td>\n",
       "      <td>Comedy|Romance</td>\n",
       "    </tr>\n",
       "    <tr>\n",
       "      <th>2</th>\n",
       "      <td>1</td>\n",
       "      <td>6</td>\n",
       "      <td>4.0</td>\n",
       "      <td>964982224</td>\n",
       "      <td>Heat (1995)</td>\n",
       "      <td>Action|Crime|Thriller</td>\n",
       "    </tr>\n",
       "    <tr>\n",
       "      <th>3</th>\n",
       "      <td>1</td>\n",
       "      <td>47</td>\n",
       "      <td>5.0</td>\n",
       "      <td>964983815</td>\n",
       "      <td>Seven (a.k.a. Se7en) (1995)</td>\n",
       "      <td>Mystery|Thriller</td>\n",
       "    </tr>\n",
       "    <tr>\n",
       "      <th>4</th>\n",
       "      <td>1</td>\n",
       "      <td>50</td>\n",
       "      <td>5.0</td>\n",
       "      <td>964982931</td>\n",
       "      <td>Usual Suspects, The (1995)</td>\n",
       "      <td>Crime|Mystery|Thriller</td>\n",
       "    </tr>\n",
       "  </tbody>\n",
       "</table>\n",
       "</div>"
      ],
      "text/plain": [
       "   userId  movieId  rating  timestamp                        title  \\\n",
       "0       1        1     4.0  964982703             Toy Story (1995)   \n",
       "1       1        3     4.0  964981247      Grumpier Old Men (1995)   \n",
       "2       1        6     4.0  964982224                  Heat (1995)   \n",
       "3       1       47     5.0  964983815  Seven (a.k.a. Se7en) (1995)   \n",
       "4       1       50     5.0  964982931   Usual Suspects, The (1995)   \n",
       "\n",
       "                                        genres  \n",
       "0  Adventure|Animation|Children|Comedy|Fantasy  \n",
       "1                               Comedy|Romance  \n",
       "2                        Action|Crime|Thriller  \n",
       "3                             Mystery|Thriller  \n",
       "4                       Crime|Mystery|Thriller  "
      ]
     },
     "execution_count": 9,
     "metadata": {},
     "output_type": "execute_result"
    }
   ],
   "source": [
    "#merging movies and ratings\n",
    "merged_df = pd.merge(ratings, movies, on='movieId', how='left')\n",
    "merged_df.head()"
   ]
  },
  {
   "cell_type": "code",
   "execution_count": 10,
   "metadata": {},
   "outputs": [
    {
     "name": "stdout",
     "output_type": "stream",
     "text": [
      "<class 'pandas.core.frame.DataFrame'>\n",
      "Int64Index: 100836 entries, 0 to 100835\n",
      "Data columns (total 6 columns):\n",
      " #   Column     Non-Null Count   Dtype  \n",
      "---  ------     --------------   -----  \n",
      " 0   userId     100836 non-null  int64  \n",
      " 1   movieId    100836 non-null  int64  \n",
      " 2   rating     100836 non-null  float64\n",
      " 3   timestamp  100836 non-null  int64  \n",
      " 4   title      100836 non-null  object \n",
      " 5   genres     100836 non-null  object \n",
      "dtypes: float64(1), int64(3), object(2)\n",
      "memory usage: 5.4+ MB\n"
     ]
    }
   ],
   "source": [
    "merged_df.info()"
   ]
  },
  {
   "cell_type": "markdown",
   "metadata": {},
   "source": [
    " ### Split Genres\n",
    "In the original movies.csv file, the genres are provided as a single string with genres separated by the | symbol. This format is not ideal for machine learning models, which work better with categorical variables or separate features.\n",
    "\n",
    "By converting genres into a list, it becomes easier to:\n",
    "\n",
    "Use genres for content-based filtering: We can now treat each genre as a separate feature for movies.\n",
    "\n",
    "Perform analysis on genre popularity: We can count how many times each genre appears across the dataset."
   ]
  },
  {
   "cell_type": "code",
   "execution_count": 12,
   "metadata": {},
   "outputs": [],
   "source": [
    "# Split genres into a list of genres for each movie\n",
    "movies['genres'] = movies['genres'].apply(lambda x: x.split('|'))"
   ]
  },
  {
   "cell_type": "code",
   "execution_count": 15,
   "metadata": {},
   "outputs": [],
   "source": [
    "# Merge tags into the merged_data\n",
    "tags_agg = tags.groupby('movieId')['tag'].apply(lambda x: '|'.join(x)).reset_index()\n",
    "df = pd.merge(merged_df, tags_agg, on='movieId', how='left')"
   ]
  },
  {
   "cell_type": "code",
   "execution_count": 16,
   "metadata": {},
   "outputs": [
    {
     "data": {
      "text/html": [
       "<div>\n",
       "<style scoped>\n",
       "    .dataframe tbody tr th:only-of-type {\n",
       "        vertical-align: middle;\n",
       "    }\n",
       "\n",
       "    .dataframe tbody tr th {\n",
       "        vertical-align: top;\n",
       "    }\n",
       "\n",
       "    .dataframe thead th {\n",
       "        text-align: right;\n",
       "    }\n",
       "</style>\n",
       "<table border=\"1\" class=\"dataframe\">\n",
       "  <thead>\n",
       "    <tr style=\"text-align: right;\">\n",
       "      <th></th>\n",
       "      <th>userId</th>\n",
       "      <th>movieId</th>\n",
       "      <th>rating</th>\n",
       "      <th>timestamp</th>\n",
       "      <th>title</th>\n",
       "      <th>genres</th>\n",
       "      <th>tag_x</th>\n",
       "      <th>tag_y</th>\n",
       "    </tr>\n",
       "  </thead>\n",
       "  <tbody>\n",
       "    <tr>\n",
       "      <th>0</th>\n",
       "      <td>1</td>\n",
       "      <td>1</td>\n",
       "      <td>4.0</td>\n",
       "      <td>964982703</td>\n",
       "      <td>Toy Story (1995)</td>\n",
       "      <td>Adventure|Animation|Children|Comedy|Fantasy</td>\n",
       "      <td>pixar|pixar|fun</td>\n",
       "      <td>pixar|pixar|fun</td>\n",
       "    </tr>\n",
       "    <tr>\n",
       "      <th>1</th>\n",
       "      <td>1</td>\n",
       "      <td>3</td>\n",
       "      <td>4.0</td>\n",
       "      <td>964981247</td>\n",
       "      <td>Grumpier Old Men (1995)</td>\n",
       "      <td>Comedy|Romance</td>\n",
       "      <td>moldy|old</td>\n",
       "      <td>moldy|old</td>\n",
       "    </tr>\n",
       "    <tr>\n",
       "      <th>2</th>\n",
       "      <td>1</td>\n",
       "      <td>6</td>\n",
       "      <td>4.0</td>\n",
       "      <td>964982224</td>\n",
       "      <td>Heat (1995)</td>\n",
       "      <td>Action|Crime|Thriller</td>\n",
       "      <td>NaN</td>\n",
       "      <td>NaN</td>\n",
       "    </tr>\n",
       "    <tr>\n",
       "      <th>3</th>\n",
       "      <td>1</td>\n",
       "      <td>47</td>\n",
       "      <td>5.0</td>\n",
       "      <td>964983815</td>\n",
       "      <td>Seven (a.k.a. Se7en) (1995)</td>\n",
       "      <td>Mystery|Thriller</td>\n",
       "      <td>mystery|twist ending|serial killer</td>\n",
       "      <td>mystery|twist ending|serial killer</td>\n",
       "    </tr>\n",
       "    <tr>\n",
       "      <th>4</th>\n",
       "      <td>1</td>\n",
       "      <td>50</td>\n",
       "      <td>5.0</td>\n",
       "      <td>964982931</td>\n",
       "      <td>Usual Suspects, The (1995)</td>\n",
       "      <td>Crime|Mystery|Thriller</td>\n",
       "      <td>mindfuck|suspense|thriller|tricky|twist ending...</td>\n",
       "      <td>mindfuck|suspense|thriller|tricky|twist ending...</td>\n",
       "    </tr>\n",
       "  </tbody>\n",
       "</table>\n",
       "</div>"
      ],
      "text/plain": [
       "   userId  movieId  rating  timestamp                        title  \\\n",
       "0       1        1     4.0  964982703             Toy Story (1995)   \n",
       "1       1        3     4.0  964981247      Grumpier Old Men (1995)   \n",
       "2       1        6     4.0  964982224                  Heat (1995)   \n",
       "3       1       47     5.0  964983815  Seven (a.k.a. Se7en) (1995)   \n",
       "4       1       50     5.0  964982931   Usual Suspects, The (1995)   \n",
       "\n",
       "                                        genres  \\\n",
       "0  Adventure|Animation|Children|Comedy|Fantasy   \n",
       "1                               Comedy|Romance   \n",
       "2                        Action|Crime|Thriller   \n",
       "3                             Mystery|Thriller   \n",
       "4                       Crime|Mystery|Thriller   \n",
       "\n",
       "                                               tag_x  \\\n",
       "0                                    pixar|pixar|fun   \n",
       "1                                          moldy|old   \n",
       "2                                                NaN   \n",
       "3                 mystery|twist ending|serial killer   \n",
       "4  mindfuck|suspense|thriller|tricky|twist ending...   \n",
       "\n",
       "                                               tag_y  \n",
       "0                                    pixar|pixar|fun  \n",
       "1                                          moldy|old  \n",
       "2                                                NaN  \n",
       "3                 mystery|twist ending|serial killer  \n",
       "4  mindfuck|suspense|thriller|tricky|twist ending...  "
      ]
     },
     "execution_count": 16,
     "metadata": {},
     "output_type": "execute_result"
    }
   ],
   "source": [
    "df.head()"
   ]
  },
  {
   "cell_type": "code",
   "execution_count": 20,
   "metadata": {},
   "outputs": [
    {
     "name": "stdout",
     "output_type": "stream",
     "text": [
      "Movies Shape: (9742, 3)\n",
      "Ratings Shape: (100836, 4)\n",
      "Tags Shape: (3683, 4)\n",
      "Links Shape: (9742, 3)\n",
      "\n",
      "-----------------------------------------------\n",
      "\n",
      "<class 'pandas.core.frame.DataFrame'>\n",
      "Int64Index: 100836 entries, 0 to 100835\n",
      "Data columns (total 8 columns):\n",
      " #   Column     Non-Null Count   Dtype  \n",
      "---  ------     --------------   -----  \n",
      " 0   userId     100836 non-null  int64  \n",
      " 1   movieId    100836 non-null  int64  \n",
      " 2   rating     100836 non-null  float64\n",
      " 3   timestamp  100836 non-null  int64  \n",
      " 4   title      100836 non-null  object \n",
      " 5   genres     100836 non-null  object \n",
      " 6   tag_x      48287 non-null   object \n",
      " 7   tag_y      48287 non-null   object \n",
      "dtypes: float64(1), int64(3), object(4)\n",
      "memory usage: 6.9+ MB\n",
      "\n",
      "Movies Info:\n",
      " None\n"
     ]
    }
   ],
   "source": [
    "# Data shapes\n",
    "print(\"Movies Shape:\", movies.shape)\n",
    "print(\"Ratings Shape:\", ratings.shape)\n",
    "print(\"Tags Shape:\", tags.shape)\n",
    "print(\"Links Shape:\", links.shape)\n",
    "print(\"\\n-----------------------------------------------\\n\")\n",
    "\n",
    "# Get info on datasets\n",
    "print(\"\\nMovies Info:\\n\", df.info())\n"
   ]
  },
  {
   "cell_type": "markdown",
   "metadata": {},
   "source": [
    "### Observation\n",
    "- There are 100K+ records in the data. \n",
    "- There seven features which are ; userId, movieId, rating,  timestamp, title, genres, tag_x  and tag_y."
   ]
  },
  {
   "cell_type": "markdown",
   "metadata": {},
   "source": [
    "## Exploratory Data Analysis"
   ]
  },
  {
   "cell_type": "code",
   "execution_count": 21,
   "metadata": {},
   "outputs": [],
   "source": [
    "# Convert timestamp to datetime\n",
    "df['timestamp'] = pd.to_datetime(df['timestamp'], unit='s')"
   ]
  },
  {
   "cell_type": "code",
   "execution_count": 27,
   "metadata": {},
   "outputs": [
    {
     "data": {
      "text/plain": [
       "userId           0\n",
       "movieId          0\n",
       "rating           0\n",
       "timestamp        0\n",
       "title            0\n",
       "genres           0\n",
       "tag_x        52549\n",
       "tag_y        52549\n",
       "dtype: int64"
      ]
     },
     "execution_count": 27,
     "metadata": {},
     "output_type": "execute_result"
    }
   ],
   "source": [
    "df.isna().sum()"
   ]
  },
  {
   "cell_type": "markdown",
   "metadata": {},
   "source": [
    "This dataset has missing values in the dataframe that could be dropped, filled with other values or ignored altogether based on their importance in our research."
   ]
  },
  {
   "cell_type": "code",
   "execution_count": 28,
   "metadata": {},
   "outputs": [
    {
     "data": {
      "text/plain": [
       "0"
      ]
     },
     "execution_count": 28,
     "metadata": {},
     "output_type": "execute_result"
    }
   ],
   "source": [
    "df.duplicated().sum()"
   ]
  },
  {
   "cell_type": "markdown",
   "metadata": {},
   "source": [
    "This dataset has no duplicates."
   ]
  },
  {
   "cell_type": "code",
   "execution_count": 29,
   "metadata": {},
   "outputs": [
    {
     "data": {
      "text/html": [
       "<div>\n",
       "<style scoped>\n",
       "    .dataframe tbody tr th:only-of-type {\n",
       "        vertical-align: middle;\n",
       "    }\n",
       "\n",
       "    .dataframe tbody tr th {\n",
       "        vertical-align: top;\n",
       "    }\n",
       "\n",
       "    .dataframe thead th {\n",
       "        text-align: right;\n",
       "    }\n",
       "</style>\n",
       "<table border=\"1\" class=\"dataframe\">\n",
       "  <thead>\n",
       "    <tr style=\"text-align: right;\">\n",
       "      <th></th>\n",
       "      <th>userId</th>\n",
       "      <th>movieId</th>\n",
       "      <th>rating</th>\n",
       "    </tr>\n",
       "  </thead>\n",
       "  <tbody>\n",
       "    <tr>\n",
       "      <th>count</th>\n",
       "      <td>100836.000000</td>\n",
       "      <td>100836.000000</td>\n",
       "      <td>100836.000000</td>\n",
       "    </tr>\n",
       "    <tr>\n",
       "      <th>mean</th>\n",
       "      <td>326.127564</td>\n",
       "      <td>19435.295718</td>\n",
       "      <td>3.501557</td>\n",
       "    </tr>\n",
       "    <tr>\n",
       "      <th>std</th>\n",
       "      <td>182.618491</td>\n",
       "      <td>35530.987199</td>\n",
       "      <td>1.042529</td>\n",
       "    </tr>\n",
       "    <tr>\n",
       "      <th>min</th>\n",
       "      <td>1.000000</td>\n",
       "      <td>1.000000</td>\n",
       "      <td>0.500000</td>\n",
       "    </tr>\n",
       "    <tr>\n",
       "      <th>25%</th>\n",
       "      <td>177.000000</td>\n",
       "      <td>1199.000000</td>\n",
       "      <td>3.000000</td>\n",
       "    </tr>\n",
       "    <tr>\n",
       "      <th>50%</th>\n",
       "      <td>325.000000</td>\n",
       "      <td>2991.000000</td>\n",
       "      <td>3.500000</td>\n",
       "    </tr>\n",
       "    <tr>\n",
       "      <th>75%</th>\n",
       "      <td>477.000000</td>\n",
       "      <td>8122.000000</td>\n",
       "      <td>4.000000</td>\n",
       "    </tr>\n",
       "    <tr>\n",
       "      <th>max</th>\n",
       "      <td>610.000000</td>\n",
       "      <td>193609.000000</td>\n",
       "      <td>5.000000</td>\n",
       "    </tr>\n",
       "  </tbody>\n",
       "</table>\n",
       "</div>"
      ],
      "text/plain": [
       "              userId        movieId         rating\n",
       "count  100836.000000  100836.000000  100836.000000\n",
       "mean      326.127564   19435.295718       3.501557\n",
       "std       182.618491   35530.987199       1.042529\n",
       "min         1.000000       1.000000       0.500000\n",
       "25%       177.000000    1199.000000       3.000000\n",
       "50%       325.000000    2991.000000       3.500000\n",
       "75%       477.000000    8122.000000       4.000000\n",
       "max       610.000000  193609.000000       5.000000"
      ]
     },
     "execution_count": 29,
     "metadata": {},
     "output_type": "execute_result"
    }
   ],
   "source": [
    "df.describe()"
   ]
  },
  {
   "cell_type": "markdown",
   "metadata": {},
   "source": [
    "# Rating Distribution\n",
    "\n",
    "\n",
    "Examining how movie ratings are distributed using a histogram."
   ]
  },
  {
   "cell_type": "code",
   "execution_count": 33,
   "metadata": {},
   "outputs": [
    {
     "data": {
      "image/png": "[encoded data removed]",
      "text/plain": [
       "<Figure size 864x432 with 1 Axes>"
      ]
     },
     "metadata": {
      "needs_background": "light"
     },
     "output_type": "display_data"
    }
   ],
   "source": [
    "# Plot the distribution of movie ratings\n",
    "plt.figure(figsize=(12, 6))\n",
    "sns.histplot(df['rating'], bins=10, kde=True, color='blue')\n",
    "plt.title('Distribution of Movie Ratings', fontsize=16)\n",
    "plt.xlabel('Rating', fontsize=12)\n",
    "plt.ylabel('Frequency', fontsize=12)\n",
    "plt.show()"
   ]
  },
  {
   "cell_type": "markdown",
   "metadata": {},
   "source": [
    "# Rating Distribution by Genre\n",
    "\n",
    "Analyzing the distribution of ratings for each genre."
   ]
  },
  {
   "cell_type": "code",
   "execution_count": 35,
   "metadata": {},
   "outputs": [
    {
     "data": {
      "image/png": "[encoded data removed]",
      "text/plain": [
       "<Figure size 864x576 with 1 Axes>"
      ]
     },
     "metadata": {
      "needs_background": "light"
     },
     "output_type": "display_data"
    }
   ],
   "source": [
    "# Explode the genres and assign ratings to each genre\n",
    "exploded_genres = df[['rating', 'genres']].copy()\n",
    "exploded_genres = exploded_genres.assign(genres=exploded_genres['genres'].str.split('|')).explode('genres')\n",
    "\n",
    "# Plot rating distribution for each genre\n",
    "plt.figure(figsize=(12, 8))\n",
    "sns.boxplot(x='rating', y='genres', data=exploded_genres, palette='Set2')\n",
    "plt.title('Rating Distribution by Genre', fontsize=16)\n",
    "plt.xlabel('Rating', fontsize=12)\n",
    "plt.ylabel('Genres', fontsize=12)\n",
    "plt.show()"
   ]
  },
  {
   "cell_type": "markdown",
   "metadata": {},
   "source": [
    "# Top 10 Active Users\n",
    "\n",
    "Identifing users who have rated the most movies."
   ]
  },
  {
   "cell_type": "code",
   "execution_count": 36,
   "metadata": {},
   "outputs": [
    {
     "data": {
      "image/png": "[encoded data removed]",
      "text/plain": [
       "<Figure size 720x432 with 1 Axes>"
      ]
     },
     "metadata": {
      "needs_background": "light"
     },
     "output_type": "display_data"
    }
   ],
   "source": [
    "# Count the number of ratings per user\n",
    "top_users = df['userId'].value_counts().head(10)\n",
    "\n",
    "# Plot the top 10 active users\n",
    "plt.figure(figsize=(10, 6))\n",
    "sns.barplot(x=top_users.values, y=top_users.index, palette='Blues_d')\n",
    "plt.title('Top 10 Most Active Users (Number of Ratings)', fontsize=16)\n",
    "plt.xlabel('Number of Ratings', fontsize=12)\n",
    "plt.ylabel('User IDs', fontsize=12)\n",
    "plt.show()"
   ]
  },
  {
   "cell_type": "markdown",
   "metadata": {},
   "source": [
    "# Most Rated Movies\n",
    "\n",
    "Identifing which movies have received the most ratings."
   ]
  },
  {
   "cell_type": "code",
   "execution_count": 37,
   "metadata": {},
   "outputs": [
    {
     "data": {
      "image/png": "[encoded data removed]",
      "text/plain": [
       "<Figure size 864x432 with 1 Axes>"
      ]
     },
     "metadata": {
      "needs_background": "light"
     },
     "output_type": "display_data"
    }
   ],
   "source": [
    "# Count the number of ratings per movie\n",
    "top_movies = df['title'].value_counts().head(10)\n",
    "\n",
    "# Plot the top 10 most rated movies\n",
    "plt.figure(figsize=(12, 6))\n",
    "sns.barplot(x=top_movies.values, y=top_movies.index, palette='RdYlBu')\n",
    "plt.title('Top 10 Most Rated Movies', fontsize=16)\n",
    "plt.xlabel('Number of Ratings', fontsize=12)\n",
    "plt.ylabel('Movie Titles', fontsize=12)\n",
    "plt.show()"
   ]
  },
  {
   "cell_type": "markdown",
   "metadata": {},
   "source": [
    "## Distribution of Ratings Over Time"
   ]
  },
  {
   "cell_type": "code",
   "execution_count": 39,
   "metadata": {},
   "outputs": [
    {
     "data": {
      "image/png": "[encoded data removed]",
      "text/plain": [
       "<Figure size 864x432 with 1 Axes>"
      ]
     },
     "metadata": {
      "needs_background": "light"
     },
     "output_type": "display_data"
    }
   ],
   "source": [
    "# Convert timestamp to datetime\n",
    "ratings['timestamp'] = pd.to_datetime(ratings['timestamp'], unit='s')\n",
    "plt.figure(figsize=(12, 6))\n",
    "ratings.set_index('timestamp').resample('M').size().plot()\n",
    "plt.title('Number of Ratings Over Time')\n",
    "plt.xlabel('Date')\n",
    "plt.ylabel('Number of Ratings')\n",
    "plt.show()"
   ]
  },
  {
   "cell_type": "code",
   "execution_count": 64,
   "metadata": {},
   "outputs": [
    {
     "data": {
      "image/png": "[encoded data removed]",
      "text/plain": [
       "<Figure size 720x432 with 1 Axes>"
      ]
     },
     "metadata": {
      "needs_background": "light"
     },
     "output_type": "display_data"
    }
   ],
   "source": [
    "# Count occurrences of each tag\n",
    "top_tags = tags['tag'].value_counts().head(10)\n",
    "\n",
    "plt.figure(figsize=(10, 6))\n",
    "sns.barplot(x=top_tags.values, y=top_tags.index, palette='plasma')\n",
    "plt.title('Top 10 Most Used Tags')\n",
    "plt.xlabel('Count')\n",
    "plt.ylabel('Tag')\n",
    "plt.show()"
   ]
  },
  {
   "cell_type": "markdown",
   "metadata": {},
   "source": [
    "# Creating a utility matrix\n",
    "A utility matrix is essential for collaborative filtering. Rows will represent users, columns will represent movies, and the values will be the ratings."
   ]
  },
  {
   "cell_type": "code",
   "execution_count": 40,
   "metadata": {},
   "outputs": [
    {
     "data": {
      "text/html": [
       "<div>\n",
       "<style scoped>\n",
       "    .dataframe tbody tr th:only-of-type {\n",
       "        vertical-align: middle;\n",
       "    }\n",
       "\n",
       "    .dataframe tbody tr th {\n",
       "        vertical-align: top;\n",
       "    }\n",
       "\n",
       "    .dataframe thead th {\n",
       "        text-align: right;\n",
       "    }\n",
       "</style>\n",
       "<table border=\"1\" class=\"dataframe\">\n",
       "  <thead>\n",
       "    <tr style=\"text-align: right;\">\n",
       "      <th>title</th>\n",
       "      <th>'71 (2014)</th>\n",
       "      <th>'Hellboy': The Seeds of Creation (2004)</th>\n",
       "      <th>'Round Midnight (1986)</th>\n",
       "      <th>'Salem's Lot (2004)</th>\n",
       "      <th>'Til There Was You (1997)</th>\n",
       "      <th>'Tis the Season for Love (2015)</th>\n",
       "      <th>'burbs, The (1989)</th>\n",
       "      <th>'night Mother (1986)</th>\n",
       "      <th>(500) Days of Summer (2009)</th>\n",
       "      <th>*batteries not included (1987)</th>\n",
       "      <th>...</th>\n",
       "      <th>Zulu (2013)</th>\n",
       "      <th>[REC] (2007)</th>\n",
       "      <th>[REC]² (2009)</th>\n",
       "      <th>[REC]³ 3 Génesis (2012)</th>\n",
       "      <th>anohana: The Flower We Saw That Day - The Movie (2013)</th>\n",
       "      <th>eXistenZ (1999)</th>\n",
       "      <th>xXx (2002)</th>\n",
       "      <th>xXx: State of the Union (2005)</th>\n",
       "      <th>¡Three Amigos! (1986)</th>\n",
       "      <th>À nous la liberté (Freedom for Us) (1931)</th>\n",
       "    </tr>\n",
       "    <tr>\n",
       "      <th>userId</th>\n",
       "      <th></th>\n",
       "      <th></th>\n",
       "      <th></th>\n",
       "      <th></th>\n",
       "      <th></th>\n",
       "      <th></th>\n",
       "      <th></th>\n",
       "      <th></th>\n",
       "      <th></th>\n",
       "      <th></th>\n",
       "      <th></th>\n",
       "      <th></th>\n",
       "      <th></th>\n",
       "      <th></th>\n",
       "      <th></th>\n",
       "      <th></th>\n",
       "      <th></th>\n",
       "      <th></th>\n",
       "      <th></th>\n",
       "      <th></th>\n",
       "      <th></th>\n",
       "    </tr>\n",
       "  </thead>\n",
       "  <tbody>\n",
       "    <tr>\n",
       "      <th>1</th>\n",
       "      <td>0.0</td>\n",
       "      <td>0.0</td>\n",
       "      <td>0.0</td>\n",
       "      <td>0.0</td>\n",
       "      <td>0.0</td>\n",
       "      <td>0.0</td>\n",
       "      <td>0.0</td>\n",
       "      <td>0.0</td>\n",
       "      <td>0.0</td>\n",
       "      <td>0.0</td>\n",
       "      <td>...</td>\n",
       "      <td>0.0</td>\n",
       "      <td>0.0</td>\n",
       "      <td>0.0</td>\n",
       "      <td>0.0</td>\n",
       "      <td>0.0</td>\n",
       "      <td>0.0</td>\n",
       "      <td>0.0</td>\n",
       "      <td>0.0</td>\n",
       "      <td>4.0</td>\n",
       "      <td>0.0</td>\n",
       "    </tr>\n",
       "    <tr>\n",
       "      <th>2</th>\n",
       "      <td>0.0</td>\n",
       "      <td>0.0</td>\n",
       "      <td>0.0</td>\n",
       "      <td>0.0</td>\n",
       "      <td>0.0</td>\n",
       "      <td>0.0</td>\n",
       "      <td>0.0</td>\n",
       "      <td>0.0</td>\n",
       "      <td>0.0</td>\n",
       "      <td>0.0</td>\n",
       "      <td>...</td>\n",
       "      <td>0.0</td>\n",
       "      <td>0.0</td>\n",
       "      <td>0.0</td>\n",
       "      <td>0.0</td>\n",
       "      <td>0.0</td>\n",
       "      <td>0.0</td>\n",
       "      <td>0.0</td>\n",
       "      <td>0.0</td>\n",
       "      <td>0.0</td>\n",
       "      <td>0.0</td>\n",
       "    </tr>\n",
       "    <tr>\n",
       "      <th>3</th>\n",
       "      <td>0.0</td>\n",
       "      <td>0.0</td>\n",
       "      <td>0.0</td>\n",
       "      <td>0.0</td>\n",
       "      <td>0.0</td>\n",
       "      <td>0.0</td>\n",
       "      <td>0.0</td>\n",
       "      <td>0.0</td>\n",
       "      <td>0.0</td>\n",
       "      <td>0.0</td>\n",
       "      <td>...</td>\n",
       "      <td>0.0</td>\n",
       "      <td>0.0</td>\n",
       "      <td>0.0</td>\n",
       "      <td>0.0</td>\n",
       "      <td>0.0</td>\n",
       "      <td>0.0</td>\n",
       "      <td>0.0</td>\n",
       "      <td>0.0</td>\n",
       "      <td>0.0</td>\n",
       "      <td>0.0</td>\n",
       "    </tr>\n",
       "    <tr>\n",
       "      <th>4</th>\n",
       "      <td>0.0</td>\n",
       "      <td>0.0</td>\n",
       "      <td>0.0</td>\n",
       "      <td>0.0</td>\n",
       "      <td>0.0</td>\n",
       "      <td>0.0</td>\n",
       "      <td>0.0</td>\n",
       "      <td>0.0</td>\n",
       "      <td>0.0</td>\n",
       "      <td>0.0</td>\n",
       "      <td>...</td>\n",
       "      <td>0.0</td>\n",
       "      <td>0.0</td>\n",
       "      <td>0.0</td>\n",
       "      <td>0.0</td>\n",
       "      <td>0.0</td>\n",
       "      <td>0.0</td>\n",
       "      <td>0.0</td>\n",
       "      <td>0.0</td>\n",
       "      <td>0.0</td>\n",
       "      <td>0.0</td>\n",
       "    </tr>\n",
       "    <tr>\n",
       "      <th>5</th>\n",
       "      <td>0.0</td>\n",
       "      <td>0.0</td>\n",
       "      <td>0.0</td>\n",
       "      <td>0.0</td>\n",
       "      <td>0.0</td>\n",
       "      <td>0.0</td>\n",
       "      <td>0.0</td>\n",
       "      <td>0.0</td>\n",
       "      <td>0.0</td>\n",
       "      <td>0.0</td>\n",
       "      <td>...</td>\n",
       "      <td>0.0</td>\n",
       "      <td>0.0</td>\n",
       "      <td>0.0</td>\n",
       "      <td>0.0</td>\n",
       "      <td>0.0</td>\n",
       "      <td>0.0</td>\n",
       "      <td>0.0</td>\n",
       "      <td>0.0</td>\n",
       "      <td>0.0</td>\n",
       "      <td>0.0</td>\n",
       "    </tr>\n",
       "  </tbody>\n",
       "</table>\n",
       "<p>5 rows × 9719 columns</p>\n",
       "</div>"
      ],
      "text/plain": [
       "title   '71 (2014)  'Hellboy': The Seeds of Creation (2004)  \\\n",
       "userId                                                        \n",
       "1              0.0                                      0.0   \n",
       "2              0.0                                      0.0   \n",
       "3              0.0                                      0.0   \n",
       "4              0.0                                      0.0   \n",
       "5              0.0                                      0.0   \n",
       "\n",
       "title   'Round Midnight (1986)  'Salem's Lot (2004)  \\\n",
       "userId                                                \n",
       "1                          0.0                  0.0   \n",
       "2                          0.0                  0.0   \n",
       "3                          0.0                  0.0   \n",
       "4                          0.0                  0.0   \n",
       "5                          0.0                  0.0   \n",
       "\n",
       "title   'Til There Was You (1997)  'Tis the Season for Love (2015)  \\\n",
       "userId                                                               \n",
       "1                             0.0                              0.0   \n",
       "2                             0.0                              0.0   \n",
       "3                             0.0                              0.0   \n",
       "4                             0.0                              0.0   \n",
       "5                             0.0                              0.0   \n",
       "\n",
       "title   'burbs, The (1989)  'night Mother (1986)  (500) Days of Summer (2009)  \\\n",
       "userId                                                                          \n",
       "1                      0.0                   0.0                          0.0   \n",
       "2                      0.0                   0.0                          0.0   \n",
       "3                      0.0                   0.0                          0.0   \n",
       "4                      0.0                   0.0                          0.0   \n",
       "5                      0.0                   0.0                          0.0   \n",
       "\n",
       "title   *batteries not included (1987)  ...  Zulu (2013)  [REC] (2007)  \\\n",
       "userId                                  ...                              \n",
       "1                                  0.0  ...          0.0           0.0   \n",
       "2                                  0.0  ...          0.0           0.0   \n",
       "3                                  0.0  ...          0.0           0.0   \n",
       "4                                  0.0  ...          0.0           0.0   \n",
       "5                                  0.0  ...          0.0           0.0   \n",
       "\n",
       "title   [REC]² (2009)  [REC]³ 3 Génesis (2012)  \\\n",
       "userId                                           \n",
       "1                 0.0                      0.0   \n",
       "2                 0.0                      0.0   \n",
       "3                 0.0                      0.0   \n",
       "4                 0.0                      0.0   \n",
       "5                 0.0                      0.0   \n",
       "\n",
       "title   anohana: The Flower We Saw That Day - The Movie (2013)  \\\n",
       "userId                                                           \n",
       "1                                                     0.0        \n",
       "2                                                     0.0        \n",
       "3                                                     0.0        \n",
       "4                                                     0.0        \n",
       "5                                                     0.0        \n",
       "\n",
       "title   eXistenZ (1999)  xXx (2002)  xXx: State of the Union (2005)  \\\n",
       "userId                                                                \n",
       "1                   0.0         0.0                             0.0   \n",
       "2                   0.0         0.0                             0.0   \n",
       "3                   0.0         0.0                             0.0   \n",
       "4                   0.0         0.0                             0.0   \n",
       "5                   0.0         0.0                             0.0   \n",
       "\n",
       "title   ¡Three Amigos! (1986)  À nous la liberté (Freedom for Us) (1931)  \n",
       "userId                                                                    \n",
       "1                         4.0                                        0.0  \n",
       "2                         0.0                                        0.0  \n",
       "3                         0.0                                        0.0  \n",
       "4                         0.0                                        0.0  \n",
       "5                         0.0                                        0.0  \n",
       "\n",
       "[5 rows x 9719 columns]"
      ]
     },
     "execution_count": 40,
     "metadata": {},
     "output_type": "execute_result"
    }
   ],
   "source": [
    "# Creating a utility matrix where users are rows, movies are columns, and ratings are values\n",
    "movie_matrix = df.pivot_table(index='userId', columns='title', values='rating')\n",
    "\n",
    "# Filling missing ratings with 0 for simplicity (or we could use other imputation methods)\n",
    "movie_matrix.fillna(0, inplace=True)\n",
    "\n",
    "# Display the utility matrix\n",
    "movie_matrix.head()"
   ]
  },
  {
   "cell_type": "markdown",
   "metadata": {},
   "source": [
    "# Modelling"
   ]
  },
  {
   "cell_type": "markdown",
   "metadata": {},
   "source": [
    "Use surprise's built-in reader class to process data to work with recommender algorithms."
   ]
  },
  {
   "cell_type": "code",
   "execution_count": 44,
   "metadata": {},
   "outputs": [],
   "source": [
    "from surprise import Reader, Dataset\n",
    "reader = Reader()\n",
    "\n",
    "# Ensure the DataFrame has only the necessary columns\n",
    "df_for_surprise = df[['userId', 'movieId', 'rating']]\n",
    "\n",
    "# Load the data into Surprise's Dataset object\n",
    "data = Dataset.load_from_df(df_for_surprise, reader)"
   ]
  },
  {
   "cell_type": "markdown",
   "metadata": {},
   "source": [
    "We check how many users and items we have in our dataset to determine whether or not we should perform user-user or item-item similarity."
   ]
  },
  {
   "cell_type": "code",
   "execution_count": 45,
   "metadata": {},
   "outputs": [
    {
     "name": "stdout",
     "output_type": "stream",
     "text": [
      "Number of users:  610 \n",
      "\n",
      "Number of items:  9724\n"
     ]
    }
   ],
   "source": [
    "dataset = data.build_full_trainset()\n",
    "print('Number of users: ', dataset.n_users, '\\n')\n",
    "print('Number of items: ', dataset.n_items)"
   ]
  },
  {
   "cell_type": "markdown",
   "metadata": {},
   "source": [
    "## Baseline Models"
   ]
  },
  {
   "cell_type": "code",
   "execution_count": 47,
   "metadata": {},
   "outputs": [
    {
     "name": "stdout",
     "output_type": "stream",
     "text": [
      "Computing the cosine similarity matrix...\n",
      "Done computing similarity matrix.\n",
      "Computing the cosine similarity matrix...\n",
      "Done computing similarity matrix.\n",
      "Computing the cosine similarity matrix...\n",
      "Done computing similarity matrix.\n",
      "Computing the cosine similarity matrix...\n",
      "Done computing similarity matrix.\n",
      "Computing the cosine similarity matrix...\n",
      "Done computing similarity matrix.\n",
      "Evaluating RMSE, MAE of algorithm KNNBasic on 5 split(s).\n",
      "\n",
      "                  Fold 1  Fold 2  Fold 3  Fold 4  Fold 5  Mean    Std     \n",
      "RMSE (testset)    0.9703  0.9815  0.9699  0.9667  0.9659  0.9708  0.0056  \n",
      "MAE (testset)     0.7482  0.7540  0.7474  0.7430  0.7466  0.7479  0.0036  \n",
      "Fit time          1.38    1.66    1.96    1.62    1.48    1.62    0.20    \n",
      "Test time         2.65    2.76    3.42    2.71    2.94    2.90    0.28    \n",
      "KNNBasic Results\n",
      "Average RMSE: 0.9708350229438751\n",
      "Average MAE: 0.7478606299860655\n"
     ]
    }
   ],
   "source": [
    "knn_basic = KNNBasic(sim_options={'name': 'cosine', 'user_based': True})\n",
    "knn_basic_results = cross_validate(knn_basic, data, measures=['RMSE', 'MAE'], cv=5, verbose=True)\n",
    "print(\"KNNBasic Results\")\n",
    "print(f\"Average RMSE: {knn_basic_results['test_rmse'].mean()}\")\n",
    "print(f\"Average MAE: {knn_basic_results['test_mae'].mean()}\")"
   ]
  },
  {
   "cell_type": "code",
   "execution_count": 48,
   "metadata": {},
   "outputs": [
    {
     "name": "stdout",
     "output_type": "stream",
     "text": [
      "Computing the cosine similarity matrix...\n",
      "Done computing similarity matrix.\n",
      "Computing the cosine similarity matrix...\n",
      "Done computing similarity matrix.\n",
      "Computing the cosine similarity matrix...\n",
      "Done computing similarity matrix.\n",
      "Computing the cosine similarity matrix...\n",
      "Done computing similarity matrix.\n",
      "Computing the cosine similarity matrix...\n",
      "Done computing similarity matrix.\n",
      "Evaluating RMSE, MAE of algorithm KNNWithMeans on 5 split(s).\n",
      "\n",
      "                  Fold 1  Fold 2  Fold 3  Fold 4  Fold 5  Mean    Std     \n",
      "RMSE (testset)    0.9029  0.9078  0.8972  0.9041  0.8890  0.9002  0.0065  \n",
      "MAE (testset)     0.6905  0.6946  0.6862  0.6943  0.6788  0.6889  0.0059  \n",
      "Fit time          2.01    1.76    1.23    1.17    1.21    1.48    0.34    \n",
      "Test time         5.15    3.25    2.68    2.85    3.06    3.40    0.90    \n",
      "\n",
      "KNNWithMeans Results\n",
      "Average RMSE: 0.9001913074966014\n",
      "Average MAE: 0.6888833108919924\n"
     ]
    }
   ],
   "source": [
    "# KNNWithMeans - Adjusted KNN model with mean subtraction\n",
    "knn_means = KNNWithMeans(sim_options={'name': 'cosine', 'user_based': True})\n",
    "knn_means_results = cross_validate(knn_means, data, measures=['RMSE', 'MAE'], cv=5, verbose=True)\n",
    "print(\"\\nKNNWithMeans Results\")\n",
    "print(f\"Average RMSE: {knn_means_results['test_rmse'].mean()}\")\n",
    "print(f\"Average MAE: {knn_means_results['test_mae'].mean()}\")"
   ]
  },
  {
   "cell_type": "code",
   "execution_count": 49,
   "metadata": {},
   "outputs": [
    {
     "name": "stdout",
     "output_type": "stream",
     "text": [
      "Estimating biases using als...\n",
      "Computing the cosine similarity matrix...\n",
      "Done computing similarity matrix.\n",
      "Estimating biases using als...\n",
      "Computing the cosine similarity matrix...\n",
      "Done computing similarity matrix.\n",
      "Estimating biases using als...\n",
      "Computing the cosine similarity matrix...\n",
      "Done computing similarity matrix.\n",
      "Estimating biases using als...\n",
      "Computing the cosine similarity matrix...\n",
      "Done computing similarity matrix.\n",
      "Estimating biases using als...\n",
      "Computing the cosine similarity matrix...\n",
      "Done computing similarity matrix.\n",
      "Evaluating RMSE, MAE of algorithm KNNBaseline on 5 split(s).\n",
      "\n",
      "                  Fold 1  Fold 2  Fold 3  Fold 4  Fold 5  Mean    Std     \n",
      "RMSE (testset)    0.8823  0.8803  0.8795  0.8702  0.8736  0.8772  0.0045  \n",
      "MAE (testset)     0.6767  0.6743  0.6704  0.6656  0.6699  0.6714  0.0038  \n",
      "Fit time          2.11    2.34    3.01    2.31    2.00    2.36    0.35    \n",
      "Test time         3.61    3.99    5.65    3.30    3.81    4.07    0.82    \n",
      "\n",
      "KNNBaseline Results\n",
      "Average RMSE: 0.8771960494709342\n",
      "Average MAE: 0.6713876087922523\n"
     ]
    }
   ],
   "source": [
    "# KNNBaseline - KNN with baseline ratings\n",
    "knn_baseline = KNNBaseline(sim_options={'name': 'cosine', 'user_based': True})\n",
    "knn_baseline_results = cross_validate(knn_baseline, data, measures=['RMSE', 'MAE'], cv=5, verbose=True)\n",
    "print(\"\\nKNNBaseline Results\")\n",
    "print(f\"Average RMSE: {knn_baseline_results['test_rmse'].mean()}\")\n",
    "print(f\"Average MAE: {knn_baseline_results['test_mae'].mean()}\")"
   ]
  },
  {
   "cell_type": "code",
   "execution_count": 50,
   "metadata": {},
   "outputs": [
    {
     "name": "stdout",
     "output_type": "stream",
     "text": [
      "Evaluating RMSE, MAE of algorithm SVD on 5 split(s).\n",
      "\n",
      "                  Fold 1  Fold 2  Fold 3  Fold 4  Fold 5  Mean    Std     \n",
      "RMSE (testset)    0.8700  0.8826  0.8761  0.8691  0.8751  0.8746  0.0049  \n",
      "MAE (testset)     0.6694  0.6758  0.6735  0.6696  0.6719  0.6720  0.0024  \n",
      "Fit time          8.33    8.80    9.46    7.68    9.13    8.68    0.62    \n",
      "Test time         0.26    0.34    0.29    0.26    0.29    0.29    0.03    \n",
      "SVD Results\n",
      "Average RMSE: 0.8745866691589977\n",
      "Average MAE: 0.6720313019418394\n"
     ]
    }
   ],
   "source": [
    "# Initialize the SVD model\n",
    "svd = SVD()\n",
    "# Perform cross-validation on the dataset\n",
    "svd_results = cross_validate(svd, data, measures=['RMSE', 'MAE'], cv=5, verbose=True)\n",
    "print(\"SVD Results\")\n",
    "print(f\"Average RMSE: {svd_results['test_rmse'].mean()}\")\n",
    "print(f\"Average MAE: {svd_results['test_mae'].mean()}\")"
   ]
  },
  {
   "cell_type": "markdown",
   "metadata": {},
   "source": [
    "SVD performs the best with the lowest RMSE of 0.8746, indicating it has the most accurate predictions in terms of minimizing error.\n",
    "KNNBaseline is a close second with an RMSE of 0.8772, which is still very good and competitive with SVD.\n",
    "KNNWithMeans performs moderately well with an RMSE of 0.9002, better than KNNBasic but worse than the other models.\n",
    "KNNBasic has the highest RMSE of 0.9708, suggesting it is the least accurate model among the ones compared."
   ]
  },
  {
   "cell_type": "markdown",
   "metadata": {},
   "source": [
    "SVD and KNNBaseline are the top-performing models based on RMSE, making them preferable for recommendation tasks."
   ]
  },
  {
   "cell_type": "markdown",
   "metadata": {},
   "source": [
    "1. Hybrid Recommendation Approach\n",
    "Combine Methods: Use a hybrid model that combines collaborative filtering (e.g., KNN, SVD) with content-based filtering. This leverages both user ratings and metadata (tags, genres) for improved accuracy.\n",
    "Evaluate Performance: Regularly assess the performance of each method and adjust weights in the hybrid model based on empirical results\n",
    "2. Feature Engineering\n",
    "Utilize Tags: Incorporate user-generated tags to enrich the content-based filtering component. Analyze tag frequencies and their relationships with genres to create more nuanced features.\n",
    "Genre Variations: Consider multi-label approaches for genres, as movies can belong to multiple categories. This can enhance the recommendations for users with diverse tastes.\n",
    "3. Incorporate User Feedback\n",
    "Feedback Loop: Implement a system to gather user feedback on recommendations (e.g., thumbs up/down, ratings). Use this data to refine models and adapt to changing user preferences.\n",
    "User Profiles: Build dynamic user profiles that evolve based on user interactions over time.\n",
    "4. Explore Advanced Algorithms\n",
    "Deep Learning Models: Experiment with deep learning techniques such as neural collaborative filtering or recurrent neural networks (RNNs) for sequential recommendation.\n",
    "Matrix Factorization Techniques: Consider advanced matrix factorization methods like Alternating Least Squares (ALS) or Factorization Machines\n",
    "5. User Segmentation\n",
    "Segment Users: Analyze user behavior and segment users based on their viewing habits. Tailor recommendations to specific segments (e.g., casual viewers, binge-watchers).\n",
    "Personalized Experience: Create personalized dashboards for users showcasing recommended movies, recently watched, and popular tags based on their profile."
   ]
  },
  {
   "cell_type": "markdown",
   "metadata": {},
   "source": [
    "## Model Tuning"
   ]
  },
  {
   "cell_type": "code",
   "execution_count": 51,
   "metadata": {},
   "outputs": [],
   "source": [
    "params = {'n_factors': [20, 50, 100],\n",
    "         'reg_all': [0.02, 0.05, 0.1]}"
   ]
  },
  {
   "cell_type": "code",
   "execution_count": 52,
   "metadata": {},
   "outputs": [
    {
     "name": "stdout",
     "output_type": "stream",
     "text": [
      "Best RMSE for KNNBasic: 0.9471156516781367\n",
      "Best parameters for KNNBasic: {'n_factors': 20, 'reg_all': 0.02}\n"
     ]
    }
   ],
   "source": [
    "# Initialize GridSearch for KNNBasic\n",
    "gs_knn_basic = GridSearchCV(KNNBasic, params, measures=['rmse', 'mae'], cv=5, n_jobs=-1)\n",
    "\n",
    "# Perform the grid search\n",
    "gs_knn_basic.fit(data)\n",
    "\n",
    "# Print the best RMSE score and corresponding parameters\n",
    "print(f\"Best RMSE for KNNBasic: {gs_knn_basic.best_score['rmse']}\")\n",
    "print(f\"Best parameters for KNNBasic: {gs_knn_basic.best_params['rmse']}\")"
   ]
  },
  {
   "cell_type": "code",
   "execution_count": 53,
   "metadata": {},
   "outputs": [
    {
     "name": "stdout",
     "output_type": "stream",
     "text": [
      "Best RMSE for KNNBaseline: 0.8748307879584669\n",
      "Best parameters for KNNBaseline: {'n_factors': 20, 'reg_all': 0.02}\n"
     ]
    }
   ],
   "source": [
    "# Initialize GridSearch for KNNBaseline\n",
    "gs_knn_baseline = GridSearchCV(KNNBaseline, params, measures=['rmse', 'mae'], cv=5, n_jobs=-1)\n",
    "\n",
    "# Perform the grid search\n",
    "gs_knn_baseline.fit(data)\n",
    "\n",
    "# Print the best RMSE score and corresponding parameters\n",
    "print(f\"Best RMSE for KNNBaseline: {gs_knn_baseline.best_score['rmse']}\")\n",
    "print(f\"Best parameters for KNNBaseline: {gs_knn_baseline.best_params['rmse']}\")"
   ]
  },
  {
   "cell_type": "code",
   "execution_count": 65,
   "metadata": {},
   "outputs": [
    {
     "name": "stdout",
     "output_type": "stream",
     "text": [
      "Best RMSE for KNNWithMeans: 0.8748307879584669\n",
      "Best parameters for KNNWithMeans: {'n_factors': 20, 'reg_all': 0.02}\n"
     ]
    }
   ],
   "source": [
    "# Initialize GridSearch for KNNWithMeans\n",
    "gs_knn_means = GridSearchCV(KNNWithMeans, params, measures=['rmse', 'mae'], cv=5, n_jobs=-1)\n",
    "\n",
    "# Perform the grid search\n",
    "gs_knn_means.fit(data)\n",
    "\n",
    "# Print the best RMSE score and corresponding parameters\n",
    "print(f\"Best RMSE for KNNWithMeans: {gs_knn_means.best_score['rmse']}\")\n",
    "print(f\"Best parameters for KNNWithMeans: {gs_knn_means.best_params['rmse']}\")"
   ]
  },
  {
   "cell_type": "code",
   "execution_count": 55,
   "metadata": {},
   "outputs": [
    {
     "name": "stdout",
     "output_type": "stream",
     "text": [
      "Best RMSE for SVD: 0.8696003857581649\n",
      "Best parameters for SVD: {'n_factors': 100, 'reg_all': 0.05}\n"
     ]
    }
   ],
   "source": [
    "# Initialize GridSearch for SVD\n",
    "g_s_svd = GridSearchCV(SVD, params, measures=['rmse', 'mae'], cv=5, n_jobs=-1)\n",
    "\n",
    "# Perform the grid search\n",
    "g_s_svd.fit(data)\n",
    "\n",
    "# Print the best RMSE score and corresponding parameters\n",
    "print(f\"Best RMSE for SVD: {g_s_svd.best_score['rmse']}\")\n",
    "print(f\"Best parameters for SVD: {g_s_svd.best_params['rmse']}\")"
   ]
  },
  {
   "cell_type": "markdown",
   "metadata": {},
   "source": [
    "After model tuning, SVD performs best with the lowest RMSE of 0.8696 as compared to other models hence best choice to use in our recommendation system. The results indicate that the choice of model and tuning parameters significantly impacts performance. SVD's ability to leverage latent factors appears crucial for achieving better accuracy in this context."
   ]
  },
  {
   "cell_type": "code",
   "execution_count": null,
   "metadata": {},
   "outputs": [],
   "source": []
  },
  {
   "cell_type": "code",
   "execution_count": 66,
   "metadata": {},
   "outputs": [],
   "source": [
    "# Build the full trainset with the best parameters\n",
    "best_params = g_s_svd.best_params\n",
    "trainset = data.build_full_trainset()"
   ]
  },
  {
   "cell_type": "code",
   "execution_count": 67,
   "metadata": {},
   "outputs": [
    {
     "name": "stdout",
     "output_type": "stream",
     "text": [
      "Best parameters: {'rmse': {'n_factors': 100, 'reg_all': 0.05}, 'mae': {'n_factors': 100, 'reg_all': 0.05}}\n",
      "Best parameters for RMSE: {'n_factors': 100, 'reg_all': 0.05}\n",
      "Best RMSE Params Structure: {'n_factors': 100, 'reg_all': 0.05}\n"
     ]
    }
   ],
   "source": [
    "# Get the best parameters for RMSE\n",
    "best_params = g_s_svd.best_params\n",
    "print(\"Best parameters:\", best_params)\n",
    "\n",
    "# Access the best parameters for RMSE\n",
    "best_rmse_params = best_params['rmse']\n",
    "print(\"Best parameters for RMSE:\", best_rmse_params)\n",
    "\n",
    "# Check the structure of best_rmse_params\n",
    "print(\"Best RMSE Params Structure:\", best_rmse_params)\n",
    "\n",
    "# Initialize and fit the SVD model with the best parameters\n",
    "try:\n",
    "    algo = SVD(\n",
    "        n_factors=best_rmse_params['n_factors'],   \n",
    "        reg_all=best_rmse_params['reg_all']\n",
    "    )\n",
    "except KeyError as e:\n",
    "    print(f\"Parameter not found: {e}\")\n",
    "\n",
    "# Fit the model on the full trainset\n",
    "trainset = data.build_full_trainset()\n",
    "algo.fit(trainset)\n",
    "\n",
    "# Predict ratings for all pairs (u, i) that are NOT in the training set.\n",
    "testset = trainset.build_anti_testset()\n",
    "\n",
    "# Predicting the ratings for the test set\n",
    "predictions = algo.test(testset)\n"
   ]
  },
  {
   "cell_type": "code",
   "execution_count": 70,
   "metadata": {},
   "outputs": [
    {
     "name": "stdout",
     "output_type": "stream",
     "text": [
      "User 1: [(318, 5), (48516, 5), (58559, 5), (912, 5)]\n",
      "User 2: [(1204, 4.533532998929309), (750, 4.471353761557321), (1233, 4.392387181186993), (898, 4.377643567958732)]\n",
      "User 3: [(3836, 3.5304714260983934), (1199, 3.52785097382156), (1213, 3.519863906665267), (1673, 3.456762663182729)]\n",
      "User 4: [(318, 4.366411874098174), (858, 4.311172202439647), (741, 4.306343409941461), (954, 4.26635767087288)]\n",
      "User 5: [(1248, 4.318213417501832), (1945, 4.311406619170176), (1276, 4.291679986055382), (912, 4.284519715507359)]\n",
      "User 6: [(1204, 4.486521039209465), (741, 4.48053682337033), (5618, 4.410637803363169), (1237, 4.3976820069774165)]\n",
      "User 7: [(858, 4.134318086113524), (1178, 4.133291255023686), (296, 4.118681545786853), (1276, 4.0796063594072836)]\n",
      "User 8: [(1148, 4.360577398110721), (4993, 4.323961646763104), (1178, 4.316631015926342), (1204, 4.307982104824418)]\n",
      "User 9: [(858, 4.349262596230822), (912, 4.292068142415289), (1204, 4.286842208308869), (898, 4.188232741993727)]\n",
      "User 10: [(930, 4.175625629839279), (928, 4.117909410680623), (1945, 4.06137099058188), (318, 4.04482640498283)]\n",
      "User 11: [(1204, 4.657038429095227), (1213, 4.622515523400481), (750, 4.622329671414555), (898, 4.615344504221262)]\n",
      "User 12: [(1089, 5), (1136, 5), (1196, 5), (1197, 5)]\n",
      "User 13: [(750, 4.560861092353616), (720, 4.558276431665213), (2324, 4.493629337162298), (1136, 4.470497404557814)]\n",
      "User 14: [(750, 4.367976400941701), (1204, 4.3653504114054), (858, 4.285277594986803), (898, 4.284182738737418)]\n",
      "User 15: [(1204, 4.1785332712875585), (1197, 4.070299100277425), (741, 4.0079629103042995), (1233, 4.004290638312797)]\n",
      "User 16: [(1104, 4.110028561134141), (1217, 4.067690804199433), (2324, 4.052440775632074), (951, 4.0290536172971425)]\n",
      "User 17: [(898, 4.554473934749112), (1276, 4.514055407658692), (1104, 4.512248365002747), (2542, 4.490826022328969)]\n",
      "User 18: [(1204, 4.402442539943277), (1104, 4.401379220374163), (750, 4.397805562651924), (898, 4.334455934754332)]\n",
      "User 19: [(318, 3.674219582477148), (1204, 3.6578002034373034), (858, 3.6361885966048653), (750, 3.6263348265623137)]\n",
      "User 20: [(318, 4.562542480730652), (750, 4.547009489189913), (260, 4.50232562558943), (904, 4.461043044017861)]\n",
      "User 21: [(741, 4.071185774073613), (1204, 4.034991280695473), (318, 3.9703390929153985), (1213, 3.9654647554017237)]\n",
      "User 22: [(898, 3.337531474158643), (750, 3.2733694331733707), (1204, 3.266349607290927), (3783, 3.2056534590521535)]\n",
      "User 23: [(318, 4.175673906997835), (2959, 4.172017817297554), (177593, 4.0987477363949525), (2324, 4.0891612324027315)]\n",
      "User 24: [(1204, 4.2504337348245285), (56782, 4.239958420945231), (720, 4.219110188121346), (912, 4.198903831717901)]\n",
      "User 25: [(296, 5), (1089, 5), (1196, 5), (1197, 5)]\n",
      "User 26: [(750, 4.1269131042020275), (1248, 4.125098761622526), (1213, 4.100433028799258), (4973, 4.100401781151762)]\n",
      "User 27: [(1204, 4.30424279569193), (527, 4.275681034751353), (741, 4.274809493478079), (318, 4.2685155095202925)]\n",
      "User 28: [(750, 3.835569271987635), (1204, 3.717879104735584), (5690, 3.683113915121796), (1104, 3.6534351709114685)]\n",
      "User 29: [(741, 4.60122185804933), (1276, 4.584042004769782), (1104, 4.581365247127925), (4973, 4.573756870274014)]\n",
      "User 30: [(904, 5), (912, 5), (750, 5), (858, 5)]\n",
      "User 31: [(3508, 4.699169165311192), (898, 4.647048317637474), (318, 4.631495146181996), (904, 4.620283276204352)]\n",
      "User 32: [(4973, 4.547908062178903), (48516, 4.5212519425837305), (1204, 4.519175727452009), (4226, 4.518609781151022)]\n",
      "User 33: [(750, 4.573585895440845), (5618, 4.531711646696024), (858, 4.485682142579368), (904, 4.47468429083277)]\n",
      "User 34: [(3435, 4.406238693952422), (1104, 4.313177455872936), (912, 4.296528698045193), (1291, 4.282977342963358)]\n",
      "User 35: [(1204, 4.903239306177562), (1199, 4.791426798968956), (1213, 4.776494448099378), (48516, 4.776442834856509)]\n",
      "User 36: [(1104, 3.574492428013558), (750, 3.556189600762384), (858, 3.5113150998183777), (50, 3.4885819431955647)]\n",
      "User 37: [(741, 4.79405944794493), (1204, 4.770997072768245), (260, 4.745706225575867), (898, 4.74297038100749)]\n",
      "User 38: [(1204, 4.169478798877253), (1262, 4.099624978930122), (1196, 4.093848103338799), (898, 4.052972516184234)]\n",
      "User 39: [(2324, 4.61787198884158), (1223, 4.568186916903471), (1252, 4.551170580650199), (1204, 4.527606571965367)]\n",
      "User 40: [(4973, 4.72253315266592), (2019, 4.707863491207672), (1203, 4.698213363167066), (3836, 4.655187770360904)]\n",
      "User 41: [(1197, 3.9447408432837565), (1204, 3.93277409239583), (1245, 3.927785235277339), (1136, 3.899751891893717)]\n",
      "User 42: [(1204, 4.738448774087912), (1104, 4.583298491795706), (54190, 4.539141016655147), (898, 4.52428700765112)]\n",
      "User 43: [(50, 5), (260, 5), (333, 5), (527, 5)]\n",
      "User 44: [(858, 4.607833888522209), (2959, 4.531257504673059), (296, 4.457165871905877), (2324, 4.43041852450104)]\n",
      "User 45: [(3451, 4.7885148888872076), (898, 4.71966917521213), (1178, 4.691993516906793), (112552, 4.6785297604557785)]\n",
      "User 46: [(3275, 4.906497963019673), (750, 4.8503625208204415), (1198, 4.83306931130601), (951, 4.808741759754433)]\n",
      "User 47: [(1204, 3.832564545146138), (3451, 3.7920459964253297), (1213, 3.7809594135716704), (750, 3.7743431139581287)]\n",
      "User 48: [(1276, 4.868208578294932), (904, 4.841183111252808), (750, 4.795926943150488), (4226, 4.770974709019086)]\n",
      "User 49: [(2324, 4.674264097046874), (1204, 4.669343405020634), (1945, 4.659089504370998), (541, 4.650498311433895)]\n",
      "User 50: [(1104, 3.4422767900557547), (1213, 3.3941199060269436), (4973, 3.3602990081299717), (1248, 3.3587057013558663)]\n",
      "User 51: [(1199, 4.836911858010623), (2959, 4.82871156889652), (296, 4.770795467535986), (3507, 4.756651917772887)]\n",
      "User 52: [(1204, 4.955051705637751), (750, 4.954529814489959), (3275, 4.948767621246577), (475, 4.935306188132015)]\n",
      "User 53: [(1, 5), (6, 5), (47, 5), (50, 5)]\n",
      "User 54: [(1204, 3.7859271183903855), (1104, 3.7673963066349887), (57669, 3.733940082860376), (1233, 3.726816422439442)]\n",
      "User 55: [(750, 3.9834657871906836), (858, 3.9194710480867223), (2959, 3.867121609545114), (1221, 3.841870158719493)]\n",
      "User 56: [(858, 4.730976130469831), (750, 4.677200104435907), (1204, 4.6291996451199555), (1208, 4.627140707698869)]\n",
      "User 57: [(4973, 4.37382314963938), (318, 4.274706544689197), (2959, 4.268101792680843), (4993, 4.261952699533146)]\n",
      "User 58: [(741, 4.800242780774187), (750, 4.787996917790858), (898, 4.783463873679038), (6711, 4.773881669478499)]\n",
      "User 59: [(1204, 4.9908070414894805), (318, 4.922095075946306), (951, 4.88132942280105), (1945, 4.871591965859145)]\n",
      "User 60: [(1204, 4.580038491572865), (1104, 4.440727331586766), (260, 4.417073707070209), (2959, 4.3976384106974935)]\n",
      "User 61: [(750, 4.591583186086143), (2959, 4.5008988028747146), (1228, 4.467844414021711), (1221, 4.4599387256438785)]\n",
      "User 62: [(1204, 4.79407366710641), (750, 4.7911396624828555), (1104, 4.76029205304388), (1276, 4.671447352079808)]\n",
      "User 63: [(904, 4.4131827428344295), (177593, 4.340454743567552), (1204, 4.321262220484886), (1276, 4.311223050284016)]\n",
      "User 64: [(750, 4.630579791176703), (246, 4.440933583514529), (57669, 4.44087895488356), (904, 4.439377461567999)]\n",
      "User 65: [(750, 4.565087346870731), (1204, 4.49348790889676), (48516, 4.43474240634271), (3275, 4.429677426915015)]\n",
      "User 66: [(750, 4.825183984775606), (1221, 4.757485639635047), (858, 4.757076559795878), (898, 4.756817856355958)]\n",
      "User 67: [(1104, 4.376900629623115), (858, 4.361712703930512), (1276, 4.352066400311616), (930, 4.351786978728562)]\n",
      "User 68: [(1204, 4.238107106180148), (1272, 4.194590200503504), (1225, 4.175019125469423), (1104, 4.1425145913617945)]\n",
      "User 69: [(750, 5), (1204, 4.98491066598646), (5618, 4.9444807421169426), (1223, 4.917461937713236)]\n",
      "User 70: [(750, 4.792980157868742), (2959, 4.7376787410063965), (1089, 4.726098987371137), (1213, 4.720034253528623)]\n",
      "User 71: [(750, 4.483161171159751), (951, 4.438946950257541), (3275, 4.434556018169622), (1233, 4.429106983622181)]\n",
      "User 72: [(750, 4.702269924056792), (1208, 4.626237003890664), (541, 4.625018632427211), (3275, 4.612335363311951)]\n",
      "User 73: [(1204, 4.493179964424769), (2959, 4.454484539033113), (750, 4.4515993789412835), (541, 4.438687123942006)]\n",
      "User 74: [(318, 4.863143533224999), (1204, 4.8579759511577105), (912, 4.771372304115996), (914, 4.760992038916053)]\n",
      "User 75: [(1197, 3.9393819370788967), (904, 3.8953942669745656), (3275, 3.885008793136653), (318, 3.8790190625432532)]\n",
      "User 76: [(720, 3.798707901030385), (898, 3.7926455257776053), (3435, 3.7796614164855264), (7022, 3.7761061174676414)]\n",
      "User 77: [(750, 4.566744410262526), (1204, 4.535752426472845), (858, 4.507729924725777), (318, 4.478751024367109)]\n",
      "User 78: [(858, 4.110474010412462), (1221, 3.978083453524049), (750, 3.9657790633477763), (904, 3.9320878763812765)]\n",
      "User 79: [(750, 4.773014601398052), (318, 4.7692377740061245), (1204, 4.729003812459597), (904, 4.693015066546397)]\n",
      "User 80: [(750, 4.905231030109412), (1104, 4.869119351729772), (56782, 4.863169317065194), (4973, 4.844075689458184)]\n",
      "User 81: [(750, 3.6685104642592137), (1198, 3.658539391854248), (1204, 3.6395377278965144), (3037, 3.613083588627748)]\n",
      "User 82: [(1213, 4.375462041855467), (750, 4.368069710180188), (1204, 4.358632380206597), (318, 4.339496262507077)]\n",
      "User 83: [(62336, 4.051866573115758), (1237, 3.9916647057633554), (1213, 3.9857393355147224), (1104, 3.9686620453456087)]\n",
      "User 84: [(1204, 4.385672672197737), (750, 4.35380075742872), (4973, 4.339505769075549), (1233, 4.3372042804323465)]\n",
      "User 85: [(750, 4.516556951447852), (1204, 4.514942218963415), (741, 4.50013308044517), (2324, 4.4777249680147335)]\n",
      "User 86: [(898, 4.565346416402555), (1252, 4.488551130592943), (741, 4.481856646687638), (750, 4.472839843306087)]\n",
      "User 87: [(1204, 4.669603164385705), (750, 4.589724605068292), (720, 4.577046421178322), (1198, 4.577003990250354)]\n",
      "User 88: [(1148, 4.605733448742552), (1178, 4.599402527077707), (260, 4.5869783596085565), (1204, 4.561470578522474)]\n",
      "User 89: [(1272, 4.609084331244532), (3155, 4.579213535296926), (3508, 4.566052176898326), (1172, 4.552136978217316)]\n",
      "User 90: [(318, 4.815573060811365), (1104, 4.802402605946276), (2959, 4.78081201925157), (1203, 4.764165207539787)]\n",
      "User 91: [(1283, 4.1666725156981865), (1235, 4.162070460683481), (3451, 4.161050253202375), (1172, 4.154688893538993)]\n",
      "User 92: [(541, 4.815660373022728), (318, 4.800388958842013), (50, 4.793510614666066), (4973, 4.791091496261031)]\n",
      "User 93: [(50, 5), (296, 5), (1197, 5), (2959, 5)]\n",
      "User 94: [(750, 4.157775736795645), (922, 4.034749197809239), (858, 4.033866293146691), (6787, 3.981491433271749)]\n",
      "User 95: [(1204, 4.73795341388051), (318, 4.715420922881177), (750, 4.7007306857731495), (858, 4.680995426716608)]\n",
      "User 96: [(1248, 4.555397343564874), (898, 4.543594751455144), (778, 4.532032995513925), (2959, 4.508761660948426)]\n",
      "User 97: [(318, 4.9074640266084275), (750, 4.87823277198959), (1213, 4.863719235099772), (720, 4.845727659429467)]\n",
      "User 98: [(898, 4.661224874728689), (741, 4.580658825442268), (57669, 4.543638318054804), (1233, 4.5220186188187155)]\n",
      "User 99: [(1276, 4.862186020306093), (1204, 4.831095563044426), (2160, 4.826370583952974), (50, 4.823158414856929)]\n",
      "User 100: [(1204, 4.711759117708162), (318, 4.704129128911037), (1104, 4.688410310918774), (527, 4.604755183918907)]\n",
      "User 101: [(318, 4.549380828370689), (1204, 4.507013716351617), (296, 4.465444448193258), (1203, 4.440807668303661)]\n",
      "User 102: [(750, 4.280121748964117), (1199, 4.25047198684073), (1089, 4.250089952425869), (1136, 4.245373681282578)]\n",
      "User 103: [(1104, 4.511918053639825), (2324, 4.465729825617642), (899, 4.454786343927459), (904, 4.452538122094433)]\n",
      "User 104: [(318, 4.361982088980651), (3037, 4.308205611158043), (1204, 4.2923673451686755), (1178, 4.24171203291389)]\n",
      "User 105: [(1204, 4.9611733975428125), (741, 4.896180458676434), (1104, 4.8877519174592), (898, 4.864660911481037)]\n",
      "User 106: [(858, 5), (1228, 5), (1204, 5), (1208, 4.997921136823969)]\n",
      "User 107: [(1204, 4.747050997052532), (741, 4.729305672394679), (260, 4.726264958807059), (930, 4.7007558352375645)]\n",
      "User 108: [(318, 4.824642229172422), (1223, 4.796297584997027), (1242, 4.751767502719457), (904, 4.747760995320811)]\n",
      "User 109: [(750, 4.095562525216953), (741, 4.063447237186551), (1213, 4.05157567785524), (1208, 4.0317869519358975)]\n",
      "User 110: [(1204, 4.409509485432095), (318, 4.311506507121577), (1248, 4.292012188177593), (1221, 4.290244932375764)]\n",
      "User 111: [(910, 4.399783045756536), (1104, 4.3669833450504285), (4973, 4.35130917664077), (904, 4.3371202432807)]\n",
      "User 112: [(750, 4.4876223330114104), (858, 4.4147276658888615), (3275, 4.388571435688161), (296, 4.385487980487023)]\n",
      "User 113: [(48516, 4.5743920361920845), (318, 4.553310880157028), (750, 4.525862526651978), (50, 4.518912127673876)]\n",
      "User 114: [(3275, 3.9981591153348823), (318, 3.9953055965490996), (930, 3.989877539242049), (904, 3.9711671110996334)]\n",
      "User 115: [(1136, 4.699499870043036), (1204, 4.688923139066604), (1104, 4.664219746070473), (750, 4.629166313267676)]\n",
      "User 116: [(318, 4.26012512028969), (2028, 4.236145698710968), (3429, 4.220209543196352), (1213, 4.196320703061074)]\n",
      "User 117: [(1204, 4.255524628592065), (858, 4.201761133600444), (246, 4.183170408428535), (750, 4.176814803359312)]\n",
      "User 118: [(318, 4.336094644582523), (898, 4.331910216988146), (930, 4.32011906968337), (1248, 4.30204326590348)]\n",
      "User 119: [(750, 4.816890524961291), (1204, 4.780984461892915), (1104, 4.778373764996882), (1208, 4.769911448226243)]\n",
      "User 120: [(1104, 4.35015683696894), (922, 4.338287862539256), (1204, 4.334346754652123), (1136, 4.330417593373286)]\n",
      "User 121: [(750, 4.179383196073418), (475, 4.137157348824166), (741, 4.119756313088205), (1197, 4.092303606221985)]\n",
      "User 122: [(898, 5), (2324, 5), (750, 5), (4973, 5)]\n",
      "User 123: [(1204, 4.492392642966028), (899, 4.4910752962270335), (1104, 4.476505422288906), (750, 4.4500029890035036)]\n",
      "User 124: [(741, 4.70176440943935), (3508, 4.540554900683875), (1204, 4.508901420147569), (750, 4.486983453170829)]\n",
      "User 125: [(1104, 4.5238561015297964), (3275, 4.48396629213118), (38061, 4.480749216799607), (750, 4.470504355373718)]\n",
      "User 126: [(750, 4.138821976247262), (541, 4.117795106606587), (1204, 4.054872946438226), (1213, 4.05350292309984)]\n",
      "User 127: [(318, 4.013994864918605), (750, 4.001995241969052), (858, 3.953576142677597), (1193, 3.938177878551472)]\n",
      "User 128: [(899, 4.848749753493041), (3451, 4.752521482416939), (858, 4.747168629480764), (7361, 4.744466592366593)]\n",
      "User 129: [(318, 4.711170784537103), (750, 4.683701351017815), (898, 4.596442014359613), (58559, 4.565309272207997)]\n",
      "User 130: [(858, 4.443993058816684), (2571, 4.40168213462277), (1221, 4.359658064652834), (750, 4.359543403450053)]\n",
      "User 131: [(750, 3.9395288340723154), (2959, 3.89535527561909), (3275, 3.8865519918739695), (951, 3.8715222440629766)]\n",
      "User 132: [(750, 3.8359558075700657), (1104, 3.7685833574258196), (1204, 3.759520610729563), (475, 3.7208559113108497)]\n",
      "User 133: [(142488, 3.6473345786445193), (741, 3.632714722542669), (1223, 3.628032886731012), (898, 3.625274929520423)]\n",
      "User 134: [(1204, 4.652598366131982), (741, 4.5919054645486845), (1197, 4.521409646673239), (318, 4.498886441998118)]\n",
      "User 135: [(750, 4.626490975659149), (1201, 4.559080407917497), (1204, 4.532830617773048), (4878, 4.494136226724084)]\n",
      "User 136: [(177593, 4.501590966105018), (1213, 4.474634195482674), (866, 4.371553269037095), (318, 4.334043557218692)]\n",
      "User 137: [(58559, 4.392771002587573), (475, 4.377290086851254), (1276, 4.373856121727349), (914, 4.357351137244999)]\n",
      "User 138: [(741, 4.4392779257582164), (1217, 4.4230051936264605), (750, 4.399480939804386), (1199, 4.394143884593482)]\n",
      "User 139: [(750, 3.1331041363888454), (318, 3.1093860798581576), (1204, 3.104060541822429), (2324, 3.0543056967189752)]\n",
      "User 140: [(741, 4.097918292754172), (1104, 4.080493213976032), (898, 4.073944056837691), (750, 4.065847538611424)]\n",
      "User 141: [(1136, 4.2615463794841855), (1204, 4.224373783996242), (1104, 4.222138510151736), (177593, 4.185108009820479)]\n",
      "User 142: [(1204, 4.5868194798528785), (318, 4.560810246412079), (750, 4.559208692477758), (858, 4.5066490623504825)]\n",
      "User 143: [(750, 4.178602813227346), (318, 4.158908001113271), (1104, 4.134181926434188), (1198, 4.098226241867764)]\n",
      "User 144: [(318, 4.414230305444642), (858, 4.400781778343402), (1136, 4.336827389381078), (1201, 4.336123838713811)]\n",
      "User 145: [(1104, 4.185304848095676), (1283, 4.176715027714446), (1148, 4.148489855753851), (177593, 4.147338032517304)]\n",
      "User 146: [(2959, 4.227319530922479), (318, 4.217242080212287), (3468, 4.192549303461125), (1213, 4.1911303753489495)]\n",
      "User 147: [(750, 4.459819483505108), (1197, 4.432162414539255), (4973, 4.419445994202158), (1204, 4.344790598862213)]\n",
      "User 148: [(1261, 4.307231548629347), (1204, 4.251791675744193), (1104, 4.2444870106823185), (318, 4.223845338869276)]\n",
      "User 149: [(2571, 3.800525036985254), (1945, 3.687519969120978), (2324, 3.6685708642172616), (1204, 3.6553789906964287)]\n",
      "User 150: [(750, 4.460972548481235), (930, 4.444386618549945), (951, 4.427521072759578), (741, 4.420648117644186)]\n",
      "User 151: [(318, 4.733605635875739), (1204, 4.655143206596026), (1104, 4.643329658024115), (898, 4.6114003195345035)]\n",
      "User 152: [(1201, 4.46309333037208), (1199, 4.4165609410506), (930, 4.414351335971194), (898, 4.399999888039098)]\n",
      "User 153: [(64716, 3.3178332225138805), (2686, 3.130723861389449), (3836, 3.1244656388691863), (1252, 3.1108625251255493)]\n",
      "User 154: [(898, 5), (858, 5), (3451, 4.995890485375557), (1225, 4.983353980866441)]\n",
      "User 155: [(318, 4.6289225998965415), (1204, 4.559942921429731), (527, 4.520000098588557), (1223, 4.5023063224208295)]\n",
      "User 156: [(3275, 4.380080591837859), (1233, 4.314086142093736), (106642, 4.310463106146327), (720, 4.277700751236038)]\n",
      "User 157: [(750, 4.3532569574515545), (1213, 4.327356756694274), (318, 4.321494476823282), (1104, 4.318798418447694)]\n",
      "User 158: [(2324, 4.4432087027633305), (750, 4.4306659576503264), (2571, 4.4090351765975795), (1198, 4.3909856985083096)]\n",
      "User 159: [(720, 4.007870180467471), (3451, 4.000590059140194), (1178, 3.9662985602773273), (1223, 3.9373330006222536)]\n",
      "User 160: [(27611, 4.206152558791188), (4973, 4.119961343526108), (3949, 4.084637195897186), (1230, 4.024098242201076)]\n",
      "User 161: [(5618, 4.6589344860407245), (4973, 4.620848818960234), (898, 4.565114158639928), (1104, 4.564083200347016)]\n",
      "User 162: [(741, 4.958272847268127), (750, 4.950794547671752), (2324, 4.941118723672817), (1213, 4.870756470032489)]\n",
      "User 163: [(750, 4.123382596050345), (318, 4.109748155385618), (1204, 4.014171164957729), (858, 4.01061616351152)]\n",
      "User 164: [(1204, 4.965463779959139), (318, 4.889214084716926), (2324, 4.8833339687837265), (3328, 4.856368390718241)]\n",
      "User 165: [(318, 4.294238660149036), (5618, 4.228338985165844), (750, 4.196176664009193), (3451, 4.194122931741005)]\n",
      "User 166: [(1204, 4.693574979376728), (750, 4.653448579870603), (3275, 4.620488832475825), (1237, 4.595631641972071)]\n",
      "User 167: [(1221, 4.287752011430445), (858, 4.284856575446907), (1204, 4.274468643821809), (1223, 4.218976634866531)]\n",
      "User 168: [(2959, 4.933915196766592), (1204, 4.909102730390819), (318, 4.902593497533296), (1104, 4.900861915918983)]\n",
      "User 169: [(750, 5), (2324, 4.995412132960884), (1104, 4.987764530790402), (898, 4.985589181817761)]\n",
      "User 170: [(720, 4.241542042036144), (50, 4.213053266209251), (1213, 4.210314186066431), (912, 4.176440741956592)]\n",
      "User 171: [(50, 5), (527, 5), (1213, 5), (2959, 5)]\n",
      "User 172: [(750, 4.485736422109573), (1104, 4.4670084136204204), (898, 4.461135302143702), (318, 4.419352694660461)]\n",
      "User 173: [(1204, 4.303653039689999), (750, 4.288590584092726), (3468, 4.23036623659993), (1233, 4.216327608059553)]\n",
      "User 174: [(318, 4.589959727419535), (3275, 4.5657264116964456), (1178, 4.547973016797923), (750, 4.527195839649712)]\n",
      "User 175: [(2959, 4.5848436513154995), (2324, 4.570554362387962), (1221, 4.555242687309576), (318, 4.538021505945772)]\n",
      "User 176: [(750, 4.880931456844353), (720, 4.829674021894558), (2959, 4.785768589226848), (1196, 4.770895358094159)]\n",
      "User 177: [(1276, 4.2252378224657505), (2019, 4.212951371393197), (1204, 4.2010338430708645), (1262, 4.197843428844912)]\n",
      "User 178: [(2324, 4.714805244453598), (741, 4.559111679604038), (750, 4.542477198506382), (112552, 4.531769471891779)]\n",
      "User 179: [(898, 4.657607758525106), (7361, 4.595222819673901), (1089, 4.588559530279145), (750, 4.581449889911886)]\n",
      "User 180: [(318, 4.261657432795574), (1204, 4.241831840739271), (3451, 4.172825994255875), (1104, 4.168806887893385)]\n",
      "User 181: [(1104, 4.030235151140098), (318, 3.9441409238681215), (1233, 3.9012106892674963), (1204, 3.897573674118282)]\n",
      "User 182: [(898, 4.198937560942422), (2160, 4.16846142229074), (48516, 4.165043269061761), (57669, 4.159839109670084)]\n",
      "User 183: [(2324, 4.465577579095337), (48516, 4.443057903313334), (318, 4.423582660719873), (1197, 4.407567124387391)]\n",
      "User 184: [(899, 4.599316300353651), (2959, 4.525550342436789), (858, 4.522988550273435), (2324, 4.505118434270902)]\n",
      "User 185: [(318, 4.344706008478056), (1204, 4.320717344545257), (58559, 4.291098431118156), (750, 4.287768516890969)]\n",
      "User 186: [(318, 4.790528842477051), (1104, 4.758553710972215), (720, 4.698026285156956), (1213, 4.69633092513949)]\n",
      "User 187: [(904, 4.609289157738921), (1104, 4.58935730921069), (2019, 4.464004870467933), (899, 4.437076952576727)]\n",
      "User 188: [(50, 5), (260, 5), (750, 5), (741, 5)]\n",
      "User 189: [(899, 4.398265287862813), (1225, 4.37111851918088), (750, 4.370782931046702), (177593, 4.352478966969398)]\n",
      "User 190: [(1204, 4.566642048069791), (720, 4.414250874939244), (1104, 4.373705945565629), (1136, 4.36149410758001)]\n",
      "User 191: [(1204, 4.616890331997003), (1136, 4.557679523343354), (1208, 4.5494652507994635), (2959, 4.537392400837878)]\n",
      "User 192: [(318, 4.808024659006711), (750, 4.783411922601193), (541, 4.780590918528984), (50, 4.768079943328033)]\n",
      "User 193: [(898, 4.239472306937112), (1104, 4.235375888367525), (750, 4.22870311371512), (58559, 4.188182959271064)]\n",
      "User 194: [(318, 4.351329653207009), (50, 4.282682124868779), (1276, 4.276867670761856), (898, 4.276426242767301)]\n",
      "User 195: [(1204, 4.234009558486977), (246, 4.1916927745034), (1104, 4.185461561721303), (741, 4.1769570501981015)]\n",
      "User 196: [(1204, 4.577572280801954), (750, 4.5250311061120065), (2324, 4.5155477169115645), (296, 4.455864532668496)]\n",
      "User 197: [(1204, 4.548831507350086), (1252, 4.543985728711289), (1104, 4.538736732110642), (750, 4.524500020163444)]\n",
      "User 198: [(1204, 4.2243774140738255), (527, 4.220377217897275), (741, 4.20783583983509), (246, 4.2073105470570855)]\n",
      "User 199: [(1201, 4.154268008682313), (1199, 4.148984655151062), (720, 4.144067494913415), (951, 4.137651342359502)]\n",
      "User 200: [(1204, 4.577853713576667), (1233, 4.509227147548886), (750, 4.497611358012021), (1104, 4.496373930019399)]\n",
      "User 201: [(318, 5), (1204, 4.926537953295615), (904, 4.903735655914474), (2959, 4.878004774991695)]\n",
      "User 202: [(904, 4.469583118409046), (1104, 4.456121192585679), (177593, 4.408231473388895), (6016, 4.375763409665996)]\n",
      "User 203: [(912, 4.637855325139645), (858, 4.608591945497767), (1262, 4.585282002679271), (3435, 4.5662060155530115)]\n",
      "User 204: [(1104, 4.524831278668737), (1204, 4.5118885687019885), (778, 4.504633206878903), (1203, 4.460496692320926)]\n",
      "User 205: [(318, 4.434561706171248), (2959, 4.4312212657974275), (296, 4.401584485022666), (750, 4.3942420488938545)]\n",
      "User 206: [(1204, 4.767139967262483), (4973, 4.756908011981789), (318, 4.728897645066409), (1136, 4.728868820111202)]\n",
      "User 207: [(1204, 4.075829666710031), (858, 4.035823905477471), (1225, 3.9857158937974893), (1210, 3.96667812138428)]\n",
      "User 208: [(1204, 4.220658743480091), (1198, 4.148362962411178), (48516, 4.140481665568535), (2959, 4.115402666321939)]\n",
      "User 209: [(750, 4.7854520005952015), (50, 4.7018580003799135), (1204, 4.64685404890588), (1222, 4.633209533547542)]\n",
      "User 210: [(1213, 4.797946459500672), (318, 4.787206888779032), (1204, 4.777079050416309), (4973, 4.734773371790118)]\n",
      "User 211: [(720, 4.46118779115261), (750, 4.4586563761615), (741, 4.44407222125439), (2329, 4.4311907845108385)]\n",
      "User 212: [(1104, 4.2953466143934005), (1204, 4.231823482957191), (1213, 4.198428308868303), (904, 4.162603145464182)]\n",
      "User 213: [(1213, 4.606335125356766), (318, 4.598486165546998), (898, 4.59691387124524), (5618, 4.5704852570082295)]\n",
      "User 214: [(318, 3.9744301858981603), (1104, 3.9301044801541627), (858, 3.901991522066183), (50, 3.873390188219078)]\n",
      "User 215: [(1250, 4.483355113712314), (48516, 4.436965010974857), (750, 4.435609510373395), (1204, 4.416951182929894)]\n",
      "User 216: [(1213, 4.391892218189295), (750, 4.385384605863947), (858, 4.311185633108074), (296, 4.300245040736121)]\n",
      "User 217: [(1223, 3.6525573413502865), (1104, 3.6505593125897), (318, 3.6501612997302364), (741, 3.643872178839173)]\n",
      "User 218: [(904, 4.149617905644434), (5618, 4.129220967353871), (3451, 4.118191009049506), (858, 4.118112674266587)]\n",
      "User 219: [(1193, 4.195950463970615), (750, 4.191666413407297), (1266, 4.163431425228418), (68157, 4.0676597368871)]\n",
      "User 220: [(1148, 4.642229018747377), (741, 4.640463482997422), (904, 4.6349438225562), (1217, 4.6051512218602735)]\n",
      "User 221: [(5618, 4.658782178544928), (1221, 4.650735571450629), (1262, 4.554237389663992), (48516, 4.550124498527637)]\n",
      "User 222: [(898, 3.9516338058175924), (318, 3.9268518105292056), (1204, 3.8963518410398903), (904, 3.8883022913161276)]\n",
      "User 223: [(750, 4.058281176717855), (5618, 4.0297559236320435), (3030, 3.9643806629589333), (3275, 3.936746712888547)]\n",
      "User 224: [(318, 5), (475, 4.930653387627899), (1178, 4.927929033721067), (1252, 4.893998249746168)]\n",
      "User 225: [(1204, 4.469453962851155), (1201, 4.427147548174224), (750, 4.404041422280204), (5618, 4.386628761904109)]\n",
      "User 226: [(858, 4.48513984707224), (750, 4.405852485872461), (898, 4.33639862133993), (1203, 4.3342523600881675)]\n",
      "User 227: [(1104, 4.598706623739692), (1204, 4.586998457109139), (3266, 4.567859694564784), (246, 4.562495586235171)]\n",
      "User 228: [(898, 4.628163936686646), (933, 4.499642751250318), (750, 4.497001494903351), (1221, 4.4953356469742545)]\n",
      "User 229: [(1196, 4.529698446476721), (750, 4.511998185474654), (260, 4.510043891359808), (858, 4.507288605260847)]\n",
      "User 230: [(858, 3.765472565961537), (1204, 3.7647501771298857), (750, 3.755718904174316), (4011, 3.7462954187789226)]\n",
      "User 231: [(318, 4.316828989864952), (750, 4.292564588934367), (1223, 4.2277981859477585), (898, 4.181861799283969)]\n",
      "User 232: [(1213, 4.226511947198187), (750, 4.1942365520683165), (1204, 4.146414091773545), (1221, 4.106252295234391)]\n",
      "User 233: [(5618, 3.8918769783424643), (750, 3.843978939533958), (912, 3.8239821624638757), (898, 3.809451840157843)]\n",
      "User 234: [(356, 4.598506783999249), (1104, 4.5656404678050775), (750, 4.555542748112705), (866, 4.5399012050111365)]\n",
      "User 235: [(1204, 4.570215982163722), (1276, 4.420516178842392), (4973, 4.415293339712675), (1197, 4.4024809940038345)]\n",
      "User 236: [(750, 4.833259838156272), (951, 4.826429299995728), (318, 4.783460719803197), (1252, 4.76541957938561)]\n",
      "User 237: [(1204, 4.1373190965802324), (750, 4.102548832477126), (2959, 4.08929867094711), (1225, 4.054530703473227)]\n",
      "User 238: [(1213, 4.458848809206885), (318, 4.448766173146239), (750, 4.437565226889829), (1204, 4.434200715914966)]\n",
      "User 239: [(750, 4.760975361784238), (1204, 4.628293125158931), (56782, 4.6162361790663775), (741, 4.527144998854794)]\n",
      "User 240: [(1204, 4.972999306222499), (930, 4.920883797827688), (1283, 4.914356110054881), (1276, 4.893990742195419)]\n",
      "User 241: [(5618, 4.496062282410813), (750, 4.450280825325642), (1204, 4.416639186148263), (44195, 4.3954670416247374)]\n",
      "User 242: [(2324, 4.561134234432142), (858, 4.463621212129585), (246, 4.457418927911559), (1213, 4.451919957392126)]\n",
      "User 243: [(1213, 5), (2959, 5), (48516, 5), (91529, 5)]\n",
      "User 244: [(898, 4.61809275231207), (2959, 4.59684181180608), (1248, 4.5886496937396615), (296, 4.553708109580099)]\n",
      "User 245: [(4973, 3.7514135681404355), (750, 3.721172708831175), (541, 3.6132186698548945), (50, 3.5936491552300827)]\n",
      "User 246: [(750, 4.931159945745402), (318, 4.909889697072259), (1104, 4.878066245103358), (1178, 4.858603347875742)]\n",
      "User 247: [(1104, 4.252513641164213), (904, 4.248872068185073), (1204, 4.206057168779906), (27773, 4.182120951329514)]\n",
      "User 248: [(1136, 4.501665668441569), (2959, 4.464259289900894), (1204, 4.441047611961776), (2324, 4.428873644327794)]\n",
      "User 249: [(1204, 4.648570622250867), (1104, 4.610648673996397), (898, 4.602932601324955), (1276, 4.5845129698775615)]\n",
      "User 250: [(898, 5), (750, 5), (1204, 4.962794562662541), (3435, 4.951295184240168)]\n",
      "User 251: [(50, 5), (1213, 5), (720, 5), (750, 5)]\n",
      "User 252: [(898, 4.797328695228583), (318, 4.776772975875572), (3451, 4.759299886708252), (356, 4.711957431292542)]\n",
      "User 253: [(904, 4.955189843960798), (2959, 4.920520485709067), (1204, 4.919500731796732), (318, 4.90956095422205)]\n",
      "User 254: [(750, 4.578602840684602), (1104, 4.517392228311877), (1204, 4.490457226449446), (1201, 4.4504444716583365)]\n",
      "User 255: [(1204, 3.5313078200491272), (1945, 3.3991841081727787), (2324, 3.3834519472800624), (3275, 3.3602485892907046)]\n",
      "User 256: [(741, 4.653378225147578), (1221, 4.646528444923549), (1204, 4.634200413355041), (750, 4.632572870799092)]\n",
      "User 257: [(3451, 4.239211613050568), (541, 4.164368004787355), (1213, 4.076473454418599), (750, 4.064708631459807)]\n",
      "User 258: [(720, 4.621004465568351), (177593, 4.581834702384494), (1196, 4.554399312719065), (1262, 4.552341398745989)]\n",
      "User 259: [(318, 4.064779770159895), (3030, 4.04442421159263), (2959, 4.018614822157985), (898, 3.9712227840343166)]\n",
      "User 260: [(1204, 4.434287722867269), (318, 4.356061597650234), (1262, 4.31952861303574), (1217, 4.30816454672614)]\n",
      "User 261: [(741, 4.5602513262016835), (898, 4.541103641141367), (4973, 4.526336470723332), (260, 4.472512999398276)]\n",
      "User 262: [(741, 3.9278993187503204), (1199, 3.8733072639279564), (3451, 3.8442710401883633), (1223, 3.830893254004852)]\n",
      "User 263: [(898, 4.37961502383238), (750, 4.315565748491153), (1204, 4.3025000056144), (858, 4.2945592521336176)]\n",
      "User 264: [(1204, 4.315589775896543), (260, 4.282464011229063), (741, 4.275691167618149), (1223, 4.261703753983347)]\n",
      "User 265: [(741, 4.1085456782811764), (1204, 4.103618957155471), (898, 4.092739826074675), (3275, 4.082948471556706)]\n",
      "User 266: [(750, 4.496853049611274), (1204, 4.39536176279052), (858, 4.3831081800405345), (1221, 4.370943057878414)]\n",
      "User 267: [(318, 4.800056885618127), (1233, 4.793633677287896), (1204, 4.783017644463655), (1266, 4.778210753367299)]\n",
      "User 268: [(1219, 4.056595584201608), (750, 4.055041534124732), (3275, 4.05319675352581), (318, 4.027444170893004)]\n",
      "User 269: [(750, 4.674289350083272), (2959, 4.6223157464945634), (1089, 4.572606785832271), (858, 4.565858606790086)]\n",
      "User 270: [(318, 4.281135930998843), (2959, 4.27578516472371), (904, 4.240120267791977), (1104, 4.232344609781941)]\n",
      "User 271: [(1213, 3.9902838721990777), (3275, 3.9516207106748364), (1104, 3.936440940696245), (741, 3.900898627394521)]\n",
      "User 272: [(1252, 4.2984822444754975), (1204, 4.221767201722013), (750, 4.209625940793989), (4973, 4.207996919085779)]\n",
      "User 273: [(2959, 4.853522347902872), (2324, 4.805477168301447), (1104, 4.751126619432779), (318, 4.7459097821731415)]\n",
      "User 274: [(1104, 4.050934071371587), (720, 3.9941408364715936), (38061, 3.987701079527678), (3451, 3.9875463779658507)]\n",
      "User 275: [(1237, 4.785248541088592), (1262, 4.759892251872531), (1104, 4.72299508398819), (5618, 4.676602657609759)]\n",
      "User 276: [(50, 5), (296, 5), (527, 5), (1089, 5)]\n",
      "User 277: [(750, 4.699879351512279), (4973, 4.615373881208169), (1204, 4.562896686220396), (1198, 4.557338197306483)]\n",
      "User 278: [(1276, 4.631311983862953), (1208, 4.613863603190969), (750, 4.60218332426106), (1204, 4.538906743780812)]\n",
      "User 279: [(1204, 4.292221981723624), (904, 4.167400225670079), (1203, 4.124448624737458), (1197, 4.118248420741732)]\n",
      "User 280: [(7361, 4.761096081506416), (1136, 4.684686634577459), (2019, 4.644519198655685), (741, 4.643756357537526)]\n",
      "User 281: [(1204, 4.289710392055478), (3275, 4.064411807639335), (1198, 4.059975913033073), (1225, 4.058186679323935)]\n",
      "User 282: [(1204, 4.691856763394772), (1223, 4.60575426618088), (56782, 4.589730153660449), (2324, 4.559357288356833)]\n",
      "User 283: [(898, 4.167641427734244), (1204, 4.130580587103002), (858, 4.115997002849071), (1228, 4.072539499121119)]\n",
      "User 284: [(3451, 4.807035854689955), (1252, 4.792180118477294), (50, 4.777391784815872), (4973, 4.764976266580475)]\n",
      "User 285: [(318, 4.631504475511397), (3037, 4.426869472776879), (750, 4.421763280527985), (898, 4.405872933142666)]\n",
      "User 286: [(2324, 4.484004551549359), (318, 4.463440326287477), (750, 4.453615970931269), (1199, 4.416938667274332)]\n",
      "User 287: [(296, 3.817971454410306), (1203, 3.753005160830452), (318, 3.713104939371311), (1199, 3.6585754763358396)]\n",
      "User 288: [(858, 4.136339538259249), (246, 4.127654958918648), (50, 4.089610687094401), (1221, 4.079076394673356)]\n",
      "User 289: [(318, 4.420482130337103), (858, 4.361614504981778), (50, 4.359966725413934), (898, 4.359316905823291)]\n",
      "User 290: [(48516, 4.623404140787639), (3275, 4.599601829801438), (5618, 4.596581507160951), (2019, 4.589208491074802)]\n",
      "User 291: [(318, 4.795237449366131), (1204, 4.730375715252336), (750, 4.7240640129713025), (1262, 4.719041527692615)]\n",
      "User 292: [(1178, 4.071427526601727), (1204, 4.05443119091084), (741, 4.040669360106209), (3275, 4.019438064412698)]\n",
      "User 293: [(318, 3.8036168448127365), (750, 3.8010988696868), (48516, 3.7845261276816418), (1204, 3.7749297520660345)]\n",
      "User 294: [(778, 3.6667974558345504), (898, 3.6529632105023806), (527, 3.6121632531297303), (1104, 3.6107845705026773)]\n",
      "User 295: [(1208, 4.409815514080843), (2571, 4.395143458729728), (750, 4.392545314245677), (56782, 4.3378592299506495)]\n",
      "User 296: [(904, 4.816794287441778), (4973, 4.75743833161517), (1148, 4.724347440884117), (2160, 4.650849606206658)]\n",
      "User 297: [(922, 3.6576177671132273), (1104, 3.636857292445776), (1213, 3.6294746482838818), (898, 3.629440959982319)]\n",
      "User 298: [(1204, 3.1231290227747808), (593, 3.0923671884501713), (246, 3.0907649764540235), (922, 3.0901313775360326)]\n",
      "User 299: [(750, 4.668061800313067), (720, 4.4968650471182485), (3275, 4.4186238405974105), (858, 4.395265718575804)]\n",
      "User 300: [(750, 4.643094499518654), (904, 4.63090945677232), (1204, 4.6119619907831595), (1199, 4.576345595612471)]\n",
      "User 301: [(318, 4.140138583628255), (1203, 4.055449643587703), (5995, 4.0510480861044496), (2959, 4.032248956753694)]\n",
      "User 302: [(3275, 4.693882734838674), (750, 4.67981700288431), (1204, 4.675074956219134), (318, 4.674323091440109)]\n",
      "User 303: [(750, 4.5491535086772155), (1233, 4.493825619641498), (1198, 4.486756634622484), (112552, 4.478535803256397)]\n",
      "User 304: [(741, 4.724087241520088), (2324, 4.665145144077946), (930, 4.600262021284329), (112552, 4.598364707832784)]\n",
      "User 305: [(1204, 4.553731634850275), (3451, 4.518872830864972), (1148, 4.494842779715367), (246, 4.419950588319655)]\n",
      "User 306: [(750, 4.17858622690414), (1266, 4.16781299711244), (318, 4.131453181548402), (1252, 4.122505979260565)]\n",
      "User 307: [(1945, 3.843190936443463), (1262, 3.8047136037764577), (3435, 3.7847076460986275), (1276, 3.7765622444060014)]\n",
      "User 308: [(741, 3.3614549247840433), (750, 3.3533611715868856), (162, 3.249363389155115), (1204, 3.2401105219588358)]\n",
      "User 309: [(4973, 4.349714468300315), (750, 4.312473283836961), (1197, 4.3045669219991956), (3451, 4.295558396696452)]\n",
      "User 310: [(1262, 4.340893803919897), (858, 4.3338661393171805), (475, 4.322292107726262), (296, 4.3211915288148575)]\n",
      "User 311: [(1283, 3.3396437380988915), (1248, 3.28298768151778), (750, 3.2710891140189933), (858, 3.251957175969063)]\n",
      "User 312: [(318, 4.548971121250893), (858, 4.465893714547508), (1136, 4.439657104839007), (1197, 4.379079601600853)]\n",
      "User 313: [(3508, 4.420177108828591), (1104, 4.41436276022979), (1283, 4.346034131210052), (908, 4.329196337874641)]\n",
      "User 314: [(951, 3.926761979925263), (1204, 3.917782375708267), (741, 3.9027791033698076), (3037, 3.899274618911492)]\n",
      "User 315: [(1213, 4.01500539578427), (2959, 3.998649720914145), (750, 3.9849060623111576), (3836, 3.9814615865108705)]\n",
      "User 316: [(2324, 4.019007592914982), (1199, 3.992301406700198), (858, 3.9676280864452087), (2067, 3.9620848326439306)]\n",
      "User 317: [(898, 4.354769515354983), (1199, 4.157647033904667), (1204, 4.1390625500626275), (741, 4.131831287398554)]\n",
      "User 318: [(1104, 4.5081900333671365), (1204, 4.479990108540066), (898, 4.471893204961241), (1213, 4.452370829990831)]\n",
      "User 319: [(750, 4.890145230237722), (904, 4.870582155679589), (1204, 4.843686503891498), (1213, 4.774981418795457)]\n",
      "User 320: [(750, 4.375140291907581), (260, 4.318309750463786), (741, 4.316204286413981), (318, 4.277683918139482)]\n",
      "User 321: [(318, 4.523532641533205), (2959, 4.516098807179953), (750, 4.513134794841912), (50, 4.470576176689093)]\n",
      "User 322: [(1104, 4.064154337940128), (1204, 4.032349125482286), (904, 3.9545993103769805), (1249, 3.892925568813299)]\n",
      "User 323: [(1262, 4.030265438016683), (904, 3.9835826813851307), (1104, 3.9747946077728114), (912, 3.963147552253121)]\n",
      "User 324: [(1104, 4.116873922274488), (1204, 4.07969857700532), (720, 4.0347189827241055), (1223, 4.031682336615941)]\n",
      "User 325: [(1136, 4.466008735298439), (2959, 4.322940962434101), (1221, 4.311399307702798), (2019, 4.2916535875291935)]\n",
      "User 326: [(750, 4.656020974464353), (1204, 4.634964029591615), (1208, 4.56724788157259), (858, 4.5652016851115045)]\n",
      "User 327: [(3451, 4.897712359320563), (1196, 4.806918746326272), (1252, 4.787412460346496), (5618, 4.762450183767093)]\n",
      "User 328: [(898, 3.844996903416199), (5500, 3.792032322295922), (1204, 3.763471533988517), (4993, 3.7427023539845727)]\n",
      "User 329: [(1233, 3.5906284198153116), (168252, 3.514982645905027), (49272, 3.5109137856500237), (3814, 3.508755977546757)]\n",
      "User 330: [(898, 4.518749851348947), (4973, 4.414021502638996), (2160, 4.3906580697478335), (741, 4.376518791078114)]\n",
      "User 331: [(750, 4.453245526238835), (899, 4.372612704575821), (904, 4.36596618299222), (68157, 4.36028153434059)]\n",
      "User 332: [(1104, 4.17749167867938), (3275, 4.169503554284318), (1252, 4.134590251846245), (858, 4.131751364275252)]\n",
      "User 333: [(750, 3.8395224514545867), (741, 3.7983269604439838), (2324, 3.7663570576277468), (260, 3.7602294515277115)]\n",
      "User 334: [(1197, 3.9868387046307148), (1104, 3.98584256540513), (1204, 3.9659632112044148), (1223, 3.9247791752401713)]\n",
      "User 335: [(858, 4.516208019300062), (899, 4.464277811296752), (2959, 4.4416298047213605), (912, 4.433631829178749)]\n",
      "User 336: [(1204, 4.873709054729566), (750, 4.8014359735363), (904, 4.793175639026016), (1208, 4.772027953985471)]\n",
      "User 337: [(1197, 5), (1213, 5), (910, 5), (750, 5)]\n",
      "User 338: [(1204, 3.7250764565174874), (1276, 3.616985573815282), (38061, 3.61652503993897), (7361, 3.587734397825367)]\n",
      "User 339: [(1283, 4.6512242581498775), (1104, 4.650353939833524), (1204, 4.617681419716989), (27773, 4.577926288101082)]\n",
      "User 340: [(56782, 4.916129936536169), (904, 4.897793178219067), (858, 4.89539416785859), (750, 4.8846119779410015)]\n",
      "User 341: [(951, 4.689311564463617), (318, 4.678038587319336), (912, 4.655348283900612), (246, 4.608483691588235)]\n",
      "User 342: [(318, 4.148607527435087), (1204, 4.0285969942052775), (527, 4.005780716737524), (56782, 3.9732636418533516)]\n",
      "User 343: [(4144, 4.565878643304327), (1204, 4.535111743288071), (1104, 4.485202940535091), (1201, 4.4197383330392155)]\n",
      "User 344: [(5995, 4.639733449736972), (1196, 4.4727837145528415), (1223, 4.458107986627946), (1198, 4.447621680674061)]\n",
      "User 345: [(2959, 4.815856584667657), (318, 4.724691709872365), (1136, 4.6483645899085255), (750, 4.647590145891206)]\n",
      "User 346: [(318, 4.313607783170103), (1204, 4.243820891483405), (58559, 4.22526913633107), (3451, 4.222501552456124)]\n",
      "User 347: [(1198, 4.411971519952363), (3275, 4.390137618880593), (750, 4.386118567789687), (1104, 4.378086241015974)]\n",
      "User 348: [(898, 5), (904, 5), (1193, 5), (7361, 5)]\n",
      "User 349: [(318, 4.5585040653054385), (898, 4.488960952204819), (750, 4.488431020212459), (858, 4.475027351637365)]\n",
      "User 350: [(1204, 4.1695486711738), (318, 4.142502935624285), (951, 4.134163013986356), (1104, 4.124705892160847)]\n",
      "User 351: [(318, 4.420538259303484), (1204, 4.359780601959817), (1213, 4.338580590159376), (1221, 4.330340250885953)]\n",
      "User 352: [(898, 4.571340303478764), (858, 4.515091652129697), (3451, 4.452934650989892), (78499, 4.452263733875684)]\n",
      "User 353: [(1204, 4.509358923842185), (527, 4.485903842767373), (904, 4.4562830632231165), (858, 4.4549799927732785)]\n",
      "User 354: [(1104, 4.331470377690092), (1223, 4.315749186422902), (246, 4.312921857789027), (741, 4.307651702383391)]\n",
      "User 355: [(750, 4.688120057799932), (1204, 4.6715625052248155), (2959, 4.657743933806308), (3468, 4.627465324424045)]\n",
      "User 356: [(1204, 4.588188954577133), (1193, 4.531724609876751), (246, 4.517474718500991), (858, 4.5041162606767235)]\n",
      "User 357: [(750, 4.619889691635315), (1204, 4.5980736014474894), (5618, 4.553719915416443), (904, 4.542953171686301)]\n",
      "User 358: [(741, 4.151774690362114), (3703, 4.142621756498777), (3508, 4.12591572946534), (858, 4.097674226986254)]\n",
      "User 359: [(318, 4.194067016877614), (5618, 4.181044955193977), (912, 4.1736398138592685), (58559, 4.121461422275848)]\n",
      "User 360: [(898, 4.534793974285741), (1233, 4.492152855800237), (750, 4.4642648956187045), (3451, 4.444057907172312)]\n",
      "User 361: [(2804, 4.049192372161409), (1237, 4.030183336502059), (912, 4.003420416530453), (106642, 3.9792425754710696)]\n",
      "User 362: [(1204, 4.715177453130671), (750, 4.702427561433533), (898, 4.656040219460726), (3468, 4.648270790915282)]\n",
      "User 363: [(1213, 4.091439803115511), (1104, 3.9639719881316493), (1261, 3.916418286575176), (1204, 3.906677357170051)]\n",
      "User 364: [(1204, 4.971148015245345), (318, 4.893545619060572), (57669, 4.830648938556031), (3451, 4.8195052414041815)]\n",
      "User 365: [(1209, 3.661808135381095), (914, 3.649012296604735), (177593, 3.617393413586345), (1262, 3.61724673663015)]\n",
      "User 366: [(2324, 4.415574066697375), (720, 4.405644117053579), (318, 4.405156934757943), (1104, 4.388791469694955)]\n",
      "User 367: [(1262, 4.709531960921364), (741, 4.6745240304775075), (720, 4.6650219584043), (58559, 4.65356007590895)]\n",
      "User 368: [(750, 3.7939579373468453), (318, 3.7773276428178217), (1204, 3.739783237799432), (2959, 3.739407833521695)]\n",
      "User 369: [(318, 4.22068602197753), (858, 4.147290804499997), (750, 4.1237845414936505), (1204, 4.110588592374225)]\n",
      "User 370: [(1276, 4.1902031580355), (1104, 4.121342948840539), (904, 4.102286998444853), (1221, 4.0933678452837245)]\n",
      "User 371: [(260, 5), (1197, 5), (1198, 5), (1213, 5)]\n",
      "User 372: [(2959, 4.049362724289103), (2324, 4.006387033762307), (2571, 4.002740850067724), (750, 3.9995574918822925)]\n",
      "User 373: [(2959, 4.512322232291355), (858, 4.3878877730958745), (1204, 4.315934112599314), (68157, 4.294925904690969)]\n",
      "User 374: [(750, 4.535766048829738), (1208, 4.457519595234242), (5618, 4.411671409945499), (1204, 4.401929914404762)]\n",
      "User 375: [(750, 4.737458341649883), (296, 4.669429279006172), (48516, 4.66664784027098), (904, 4.666054119658121)]\n",
      "User 376: [(1204, 4.751214360724987), (318, 4.660087312485309), (904, 4.612502827495838), (3037, 4.611559562716674)]\n",
      "User 377: [(1204, 4.823600722309801), (1209, 4.71622024380854), (1201, 4.704648158354786), (741, 4.672785256101929)]\n",
      "User 378: [(741, 4.423401041703385), (898, 4.417020666554464), (2360, 4.361323957146069), (1089, 4.348756191586881)]\n",
      "User 379: [(1204, 4.222846426279756), (1213, 4.199929842092969), (898, 4.156983183620674), (1197, 4.141890786042255)]\n",
      "User 380: [(741, 4.520910217723754), (7361, 4.480732375751039), (4973, 4.456433367957618), (1225, 4.438595513517136)]\n",
      "User 381: [(1204, 4.3958622204972455), (904, 4.364597651142999), (1104, 4.359674191865035), (5500, 4.326528519554341)]\n",
      "User 382: [(898, 4.452065258746267), (914, 4.39727556178529), (923, 4.385122501791422), (1252, 4.384197058873366)]\n",
      "User 383: [(318, 4.592688959473995), (1223, 4.4910718631942546), (541, 4.4557181617654065), (48516, 4.449371564510681)]\n",
      "User 384: [(318, 4.1119785194027765), (527, 4.052586927149734), (750, 4.05053980857059), (3275, 4.003113422541258)]\n",
      "User 385: [(3275, 4.128287533060503), (922, 4.095113739281132), (1104, 4.0917846689714), (2329, 4.083227480826769)]\n",
      "User 386: [(246, 3.7868366676472194), (5618, 3.740013162426527), (1204, 3.6952061324131003), (1104, 3.6864007904100773)]\n",
      "User 387: [(898, 4.022657065669654), (7361, 4.006784618796136), (7153, 3.941898532915573), (38061, 3.9399987934422303)]\n",
      "User 388: [(318, 4.561168738238109), (527, 4.55847156649466), (356, 4.508425303077245), (1223, 4.501447310991092)]\n",
      "User 389: [(318, 5), (1223, 5), (1204, 5), (1104, 4.996577901551636)]\n",
      "User 390: [(1201, 4.522470576983018), (951, 4.49789341176568), (1228, 4.4703067673652965), (858, 4.46337384409619)]\n",
      "User 391: [(5952, 4.479035743953808), (1203, 4.428113701001974), (1276, 4.416300390154436), (7153, 4.41465767059906)]\n",
      "User 392: [(318, 4.127306655417526), (1204, 4.0920111957524945), (1104, 4.075061566141591), (1673, 4.068192335155682)]\n",
      "User 393: [(5008, 4.725272446048533), (923, 4.7155799276105785), (1233, 4.708833810184597), (720, 4.691211997180543)]\n",
      "User 394: [(318, 4.037709378232093), (858, 3.976748734977202), (2858, 3.9681365574805327), (750, 3.923680998422028)]\n",
      "User 395: [(720, 4.107966986834285), (318, 4.104078258572391), (750, 4.0554571842251965), (2324, 4.050535081537314)]\n",
      "User 396: [(912, 4.031961979149946), (3275, 4.021046148731534), (1250, 3.9840093571674355), (930, 3.9711408993599653)]\n",
      "User 397: [(296, 4.645787568822712), (1136, 4.565408868658695), (1203, 4.543348491666157), (1245, 4.539016773751479)]\n",
      "User 398: [(898, 4.693385692625071), (750, 4.679829527007885), (318, 4.661251937517023), (1213, 4.6551817949167695)]\n",
      "User 399: [(858, 4.391079596138701), (1225, 4.294706010587568), (44195, 4.283789056890413), (750, 4.283119002342491)]\n",
      "User 400: [(1208, 4.830837001077257), (1204, 4.821401915541218), (475, 4.788713692348509), (2329, 4.779102090572122)]\n",
      "User 401: [(318, 4.258132916584874), (858, 4.223385085925156), (898, 4.203509779752355), (1208, 4.168606565930469)]\n",
      "User 402: [(168252, 4.779554335140545), (318, 4.7754150579704575), (1204, 4.767409444620177), (904, 4.742498259429528)]\n",
      "User 403: [(260, 4.402124023476329), (1221, 4.387511268107555), (1204, 4.382152839260491), (2959, 4.36902870271251)]\n",
      "User 404: [(898, 4.164844037642963), (1213, 4.159013781542319), (899, 4.156966121980835), (750, 4.148560260810971)]\n",
      "User 405: [(858, 4.7057079079125375), (318, 4.638012096300716), (1221, 4.598351300243768), (1204, 4.544193372759106)]\n",
      "User 406: [(1233, 4.324033189200747), (1104, 4.292746208777193), (1276, 4.266123067213053), (2959, 4.265471817323419)]\n",
      "User 407: [(318, 4.555184410415478), (1213, 4.519254406952069), (904, 4.505669762994864), (56782, 4.494520495755449)]\n",
      "User 408: [(912, 4.764352832514849), (858, 4.747077431167544), (3451, 4.729281980402853), (246, 4.703809176915458)]\n",
      "User 409: [(750, 4.757904399398732), (1204, 4.5933107917925), (2571, 4.486345430299762), (1252, 4.46341072137946)]\n",
      "User 410: [(3451, 4.662500648156248), (1209, 4.610153069399313), (1233, 4.605911587213856), (1213, 4.60393003024715)]\n",
      "User 411: [(912, 4.205872743666126), (858, 4.171477026703765), (1104, 4.143489337614304), (750, 4.141150666194024)]\n",
      "User 412: [(318, 4.506522680808584), (1204, 4.50509590729084), (246, 4.504794241648614), (912, 4.498994443995436)]\n",
      "User 413: [(1228, 5), (1233, 4.976125986268566), (866, 4.9541661420993055), (1262, 4.948916010813473)]\n",
      "User 414: [(1203, 4.513900805342578), (3030, 4.448617822633066), (898, 4.447231885936108), (1248, 4.418679794513053)]\n",
      "User 415: [(898, 4.575960093264399), (912, 4.52707419004878), (1228, 4.52668996808716), (541, 4.518379005543957)]\n",
      "User 416: [(1204, 3.888633216400861), (2324, 3.7904635157172764), (1104, 3.7827535997552935), (475, 3.6899600995450657)]\n",
      "User 417: [(1223, 4.931328777958207), (898, 4.910435425635489), (741, 4.892982849820083), (260, 4.877200546266426)]\n",
      "User 418: [(1204, 4.4836782018512125), (858, 4.340973234824892), (3836, 4.3023666438354935), (3508, 4.267229210075724)]\n",
      "User 419: [(922, 4.6266465369085985), (1252, 4.584018837356616), (48516, 4.582958497428993), (1242, 4.545175470204819)]\n",
      "User 420: [(1204, 4.411839406447023), (858, 4.409155052315297), (3451, 4.366003300373735), (1178, 4.3479634324445655)]\n",
      "User 421: [(750, 4.70096809964008), (1204, 4.688334112379916), (2959, 4.678889011160979), (858, 4.627085744155768)]\n",
      "User 422: [(2571, 4.172657112193722), (741, 4.163360914325649), (1945, 4.151854709974176), (898, 4.138021908167887)]\n",
      "User 423: [(1201, 4.44431868448825), (48516, 4.398771573658774), (912, 4.3589779203956684), (1237, 4.349161292666382)]\n",
      "User 424: [(3451, 4.328103637784199), (1204, 4.316136000798282), (750, 4.3082537103812655), (1104, 4.260135014549678)]\n",
      "User 425: [(1204, 4.186753292575342), (1213, 4.184508046161929), (1104, 4.183282785072391), (2324, 4.175800178624376)]\n",
      "User 426: [(54503, 4.346073621322138), (1223, 4.3048707854255355), (1221, 4.271792520210164), (741, 4.260575314305635)]\n",
      "User 427: [(750, 4.0217127677472435), (930, 4.007528787398765), (1104, 4.003204548547247), (318, 3.99664854004413)]\n",
      "User 428: [(750, 3.7486620448608345), (1204, 3.724528408125178), (1104, 3.6768980980340777), (1213, 3.653318253088437)]\n",
      "User 429: [(1148, 4.996576938586234), (318, 4.975977095215564), (56782, 4.931294820809192), (50, 4.9042745025580725)]\n",
      "User 430: [(1204, 4.511151089437713), (2959, 4.461029189844594), (1198, 4.431422854057332), (1213, 4.430978742478482)]\n",
      "User 431: [(750, 3.964297682473047), (3435, 3.8611942634742), (1201, 3.842763735358191), (318, 3.8355649430686625)]\n",
      "User 432: [(1213, 4.389190646269535), (1209, 4.337780144958478), (1104, 4.336006360075152), (3508, 4.323626322195618)]\n",
      "User 433: [(1201, 4.2356728217037976), (48516, 4.215573753612455), (1148, 4.195718192979047), (1204, 4.16688378806193)]\n",
      "User 434: [(50, 4.499400774920455), (1276, 4.491266868946912), (898, 4.473904285705935), (1199, 4.440425308158237)]\n",
      "User 435: [(898, 4.946538732388861), (1204, 4.8229436144414475), (904, 4.818532119209121), (260, 4.801819404384802)]\n",
      "User 436: [(2959, 4.225874039816055), (1213, 4.209983452953111), (1204, 4.197280456702972), (750, 4.159391829451857)]\n",
      "User 437: [(898, 4.677877100313099), (2959, 4.627299570424898), (858, 4.594645528879675), (904, 4.575706813634748)]\n",
      "User 438: [(858, 4.179373267807377), (1204, 4.122664580759785), (1104, 4.117258618593624), (750, 4.111296048516779)]\n",
      "User 439: [(750, 4.60145938865177), (50, 4.574690200246888), (1104, 4.50696077132625), (933, 4.5062390574123175)]\n",
      "User 440: [(858, 4.597923498750729), (318, 4.580775596385186), (1204, 4.500044435838677), (2959, 4.484925624552017)]\n",
      "User 441: [(2324, 5), (750, 5), (741, 4.987329459321331), (1222, 4.985945052375913)]\n",
      "User 442: [(318, 2.72247396312441), (898, 2.6584876679572), (50, 2.6481197889267705), (858, 2.645713925566694)]\n",
      "User 443: [(1204, 4.642426173752476), (3451, 4.595210473674614), (1178, 4.586477851206974), (922, 4.564459101739618)]\n",
      "User 444: [(1204, 4.582941225095284), (904, 4.547443422851769), (1213, 4.505983615982763), (858, 4.501733376493608)]\n",
      "User 445: [(1204, 4.350388502900552), (1104, 4.319533377863372), (1196, 4.293006590362423), (1208, 4.270348327328972)]\n",
      "User 446: [(318, 4.176008300998618), (1204, 4.1419229208283275), (720, 4.135756590170341), (246, 4.0441106798960185)]\n",
      "User 447: [(741, 4.776483112676015), (1213, 4.743037714653653), (2959, 4.719579788903791), (1197, 4.704749130882463)]\n",
      "User 448: [(904, 3.3994497527227123), (898, 3.3386858873221716), (318, 3.331803459834191), (750, 3.301583756135872)]\n",
      "User 449: [(750, 3.972504572915119), (3275, 3.960365067213096), (475, 3.922782289212182), (720, 3.910389363964794)]\n",
      "User 450: [(318, 4.79896617776109), (1197, 4.785455822639244), (1196, 4.754291563547949), (4973, 4.740765819617583)]\n",
      "User 451: [(858, 4.655749387999131), (2959, 4.640650879929296), (1104, 4.623142179677899), (318, 4.621112362295442)]\n",
      "User 452: [(50, 5), (593, 5), (1208, 5), (1213, 5)]\n",
      "User 453: [(1199, 4.753139539935077), (1197, 4.721792348005897), (741, 4.716538280466959), (7153, 4.7058083955138095)]\n",
      "User 454: [(2324, 4.407707677019915), (318, 4.4003959469933855), (2571, 4.315156498028842), (50, 4.266825406528139)]\n",
      "User 455: [(750, 4.288520140390959), (1204, 4.28012779331392), (858, 4.253399119234638), (1213, 4.207055134652554)]\n",
      "User 456: [(1204, 4.879522058830157), (318, 4.818106895579313), (750, 4.759325552465995), (1104, 4.754496365816093)]\n",
      "User 457: [(3275, 4.377152070357651), (296, 4.371316722782864), (1178, 4.330829843795089), (858, 4.3157650840865776)]\n",
      "User 458: [(318, 4.967582374712533), (3468, 4.910997643843939), (750, 4.898901211046742), (6016, 4.874943119432413)]\n",
      "User 459: [(318, 4.772276011050161), (1196, 4.747648977439034), (912, 4.7205708835674045), (898, 4.7105886840353834)]\n",
      "User 460: [(1201, 4.699848129615193), (1217, 4.686009050971568), (750, 4.675328888692316), (1252, 4.663454790604682)]\n",
      "User 461: [(899, 3.698602000606777), (912, 3.6783305270806417), (2398, 3.597216739559188), (71899, 3.596591680265621)]\n",
      "User 462: [(3451, 4.31897040026443), (1104, 4.297576288107802), (2542, 4.279847929936779), (56782, 4.181587463656376)]\n",
      "User 463: [(56782, 4.498071137396836), (8132, 4.465638815501373), (318, 4.461555917279574), (2959, 4.454356868984812)]\n",
      "User 464: [(1204, 4.55359703338462), (1276, 4.5186137552570695), (1104, 4.516478978538242), (1223, 4.506208076209132)]\n",
      "User 465: [(50, 4.872765618676871), (858, 4.818904417603673), (318, 4.808981528908368), (1276, 4.792749628013114)]\n",
      "User 466: [(1248, 4.563170386077759), (1233, 4.553518683440091), (1213, 4.537111061860947), (750, 4.52622381956571)]\n",
      "User 467: [(1228, 4.230297809440703), (922, 4.185365767168124), (1201, 4.1813128043922365), (858, 4.179508945767889)]\n",
      "User 468: [(1204, 4.397309905077652), (1136, 4.269317665015702), (1223, 4.269197658850338), (3972, 4.26407857055649)]\n",
      "User 469: [(7153, 4.403357821464569), (4993, 4.388130573812486), (2067, 4.37330484785387), (951, 4.345313913940845)]\n",
      "User 470: [(6711, 4.328673528025336), (750, 4.321573156747715), (898, 4.281885717597932), (1213, 4.272861404625612)]\n",
      "User 471: [(898, 4.387054086345457), (48516, 4.286806321913314), (750, 4.2814267804800545), (1208, 4.268295350712509)]\n",
      "User 472: [(1204, 4.807136028956832), (1223, 4.7262449291139665), (177593, 4.6665697235613495), (527, 4.6644134485077835)]\n",
      "User 473: [(1204, 4.446541374650193), (1198, 4.296219523226261), (1221, 4.221355191919412), (904, 4.18746914639064)]\n",
      "User 474: [(741, 4.344129292798835), (3275, 4.339250058118404), (58559, 4.297019928251685), (56782, 4.271158808612566)]\n",
      "User 475: [(318, 5), (750, 5), (3451, 5), (1204, 5)]\n",
      "User 476: [(1204, 4.578019129373951), (4973, 4.499030970896069), (1945, 4.492541547569233), (1104, 4.480785783027139)]\n",
      "User 477: [(858, 4.707113340602596), (2959, 4.699175129203205), (1213, 4.600743242825339), (1221, 4.576356970480235)]\n",
      "User 478: [(318, 3.7971086007599046), (1204, 3.6909051697781603), (2571, 3.681540800376259), (1237, 3.6769976677736342)]\n",
      "User 479: [(2959, 4.3216851969863255), (898, 4.320845656258579), (318, 4.280598304728818), (56782, 4.274898397587273)]\n",
      "User 480: [(750, 4.211597668087188), (1204, 4.165903206956483), (1276, 4.160422857769273), (5618, 4.144048832064018)]\n",
      "User 481: [(912, 3.9604018679523287), (318, 3.9588129690081124), (858, 3.9348974012970492), (1262, 3.8926731078779016)]\n",
      "User 482: [(741, 4.418016068428483), (318, 4.323075102817697), (1204, 4.317937052189828), (260, 4.300009478041003)]\n",
      "User 483: [(898, 4.52664520308492), (904, 4.509730645382713), (1204, 4.499698616983185), (1104, 4.474423716011264)]\n",
      "User 484: [(1204, 4.729720964364508), (912, 4.659649736059525), (3451, 4.598132220260441), (246, 4.594874790017703)]\n",
      "User 485: [(318, 4.686369228147764), (1204, 4.665484858784172), (750, 4.6587803653404425), (1213, 4.62632403503599)]\n",
      "User 486: [(1204, 4.884748089471026), (750, 4.878409157817679), (5618, 4.8198194716940455), (112552, 4.812870436696274)]\n",
      "User 487: [(898, 3.7082570305383453), (527, 3.6501017100579145), (1136, 3.6445313258248713), (858, 3.6386218150117062)]\n",
      "User 488: [(2959, 4.474470354637131), (1178, 4.450578632395391), (1204, 4.412162862284799), (50, 4.398322199005687)]\n",
      "User 489: [(318, 4.076251800580975), (1208, 4.02804236799887), (1203, 4.003569298472724), (475, 3.992799088243804)]\n",
      "User 490: [(750, 3.9194428075528664), (1198, 3.841610501983195), (904, 3.8376976656796713), (246, 3.8287076898668015)]\n",
      "User 491: [(1104, 4.928228567745), (1204, 4.901754127289997), (7153, 4.885255474006242), (318, 4.874828621558528)]\n",
      "User 492: [(1204, 5), (1178, 4.961465791502193), (750, 4.9379824462492), (318, 4.881161981333708)]\n",
      "User 493: [(318, 4.469461394817402), (1228, 4.442943750544342), (750, 4.398457572570335), (1208, 4.395105137405682)]\n",
      "User 494: [(750, 4.71899791028758), (2324, 4.696472043126344), (296, 4.67986046938346), (1233, 4.67330221090352)]\n",
      "User 495: [(3275, 4.827833247770701), (1200, 4.818595016149402), (904, 4.790856353907751), (3435, 4.781336996349882)]\n",
      "User 496: [(1204, 4.115855722563794), (1213, 4.050460890959747), (318, 4.043737457055591), (527, 4.034034982256913)]\n",
      "User 497: [(246, 4.1018765389990595), (1204, 4.068502791476527), (741, 4.042954349078452), (78499, 4.003088500388996)]\n",
      "User 498: [(1178, 4.8126277327278), (177593, 4.777475334925643), (750, 4.758325037637083), (1199, 4.746857400009859)]\n",
      "User 499: [(318, 4.62741052630547), (1204, 4.558608046809555), (898, 4.464831680288637), (904, 4.4428562186574885)]\n",
      "User 500: [(6787, 4.130758215715573), (3468, 4.128889557512028), (1283, 4.093882399609326), (1446, 4.086818601083254)]\n",
      "User 501: [(1104, 4.152290533917995), (750, 4.134383255789684), (1204, 4.100038048637435), (1148, 4.07789285459499)]\n",
      "User 502: [(750, 4.31928515763765), (3451, 4.300204093182763), (1103, 4.278909534209271), (898, 4.249614690883222)]\n",
      "User 503: [(750, 3.9134458519962765), (1199, 3.9122978701166273), (50, 3.906265860353184), (904, 3.885163697913787)]\n",
      "User 504: [(318, 4.467672201392897), (1223, 4.462594367390957), (1266, 4.459668556717698), (2571, 4.451762252059491)]\n",
      "User 505: [(750, 4.845581431733136), (260, 4.7996503972273805), (741, 4.785989919801188), (3275, 4.7788186888776405)]\n",
      "User 506: [(858, 4.107828523925987), (4226, 4.066610964440406), (904, 4.064674255692683), (1204, 4.04690729417031)]\n",
      "User 507: [(1213, 4.177328223898955), (858, 4.121931363616726), (1104, 4.114247878619276), (908, 4.096067124129408)]\n",
      "User 508: [(1204, 3.2406324993309013), (720, 3.222839424679563), (904, 3.207871394359552), (318, 3.160362615462312)]\n",
      "User 509: [(750, 4.132227078519855), (1104, 4.10423968940292), (318, 4.100121359309348), (1204, 4.066498350297145)]\n",
      "User 510: [(318, 3.7117007884646673), (2959, 3.697370063503903), (296, 3.690869636558022), (898, 3.6762391148611915)]\n",
      "User 511: [(1204, 4.855369413297246), (750, 4.768992325523869), (858, 4.669140987942946), (3451, 4.667090382959611)]\n",
      "User 512: [(2959, 4.563631824014514), (1136, 4.52650477832963), (1204, 4.519211275913624), (750, 4.511397115031633)]\n",
      "User 513: [(3275, 4.395993860693909), (904, 4.375525209220554), (1213, 4.370427520048867), (3435, 4.366031779188764)]\n",
      "User 514: [(1204, 4.09970792395245), (741, 4.045711331927054), (1262, 4.017725456094107), (318, 3.976041411403999)]\n",
      "User 515: [(296, 5), (1089, 5), (1198, 5), (1213, 5)]\n",
      "User 516: [(318, 4.388512635358411), (1261, 4.35194279018276), (3451, 4.343536569220381), (898, 4.342327725082589)]\n",
      "User 517: [(3451, 3.337052967959381), (1237, 3.2910799902849948), (1233, 3.254755453294035), (1209, 3.2400170207464645)]\n",
      "User 518: [(904, 4.533805007936364), (4226, 4.423679792893726), (3435, 4.3981785485584), (2019, 4.3732921413789505)]\n",
      "User 519: [(1248, 4.858334397906684), (1178, 4.840564278565075), (4878, 4.839244318285231), (1204, 4.833353972789266)]\n",
      "User 520: [(741, 4.64313860020713), (1223, 4.5532634440422735), (475, 4.531111086701138), (246, 4.529732412341393)]\n",
      "User 521: [(904, 4.522024399987462), (318, 4.497751613332116), (898, 4.482636051243095), (3275, 4.474036964165176)]\n",
      "User 522: [(1204, 4.53138270222594), (1104, 4.4801838170510555), (898, 4.4303789951721875), (951, 4.417233171845198)]\n",
      "User 523: [(50, 5), (296, 5), (1136, 5), (1196, 5)]\n",
      "User 524: [(2571, 4.284537593572296), (750, 4.263951507146505), (1204, 4.24598284809006), (741, 4.239366668442727)]\n",
      "User 525: [(1204, 4.169982292621845), (1104, 4.164914003779918), (904, 4.162550494550499), (858, 4.125563464870243)]\n",
      "User 526: [(1237, 4.746359381843158), (246, 4.680802017718084), (1213, 4.643366402265034), (1242, 4.616930600384322)]\n",
      "User 527: [(1237, 4.976084888668175), (750, 4.85253522488266), (318, 4.851765530163824), (3435, 4.826229240061953)]\n",
      "User 528: [(858, 4.145298725448534), (1204, 4.112285354789187), (3275, 4.099444795778412), (318, 4.096185598531003)]\n",
      "User 529: [(318, 4.3594968197987995), (858, 4.317131106504165), (3275, 4.285613425324816), (3451, 4.272178721781815)]\n",
      "User 530: [(912, 4.549689299291674), (904, 4.5345719612415865), (318, 4.5206120592132475), (1204, 4.508674667865357)]\n",
      "User 531: [(4973, 4.553029306676487), (3451, 4.4819034510619575), (4226, 4.464223804631148), (1945, 4.421640343202154)]\n",
      "User 532: [(750, 4.7015552057292656), (930, 4.693575218690998), (898, 4.671301004641241), (741, 4.646167893395777)]\n",
      "User 533: [(741, 4.800813602529275), (898, 4.764545953645918), (912, 4.753942129157176), (750, 4.747202067949438)]\n",
      "User 534: [(1104, 4.493397276280316), (318, 4.44411662705343), (1252, 4.42867282678914), (951, 4.421105520581288)]\n",
      "User 535: [(2959, 3.7617250217865896), (4973, 3.7231045566408305), (296, 3.7160074126354963), (750, 3.677020622255615)]\n",
      "User 536: [(1213, 4.266920282730064), (318, 4.2624013079223095), (750, 4.251243058962658), (5618, 4.240749621180685)]\n",
      "User 537: [(750, 4.714822035958105), (904, 4.686224454432567), (1221, 4.650610096285934), (1204, 4.643704127772687)]\n",
      "User 538: [(593, 5), (1208, 5), (318, 5), (912, 5)]\n",
      "User 539: [(899, 4.58526626098909), (750, 4.54611893843542), (2019, 4.543270482576425), (1252, 4.533875889313941)]\n",
      "User 540: [(1204, 4.87003390595242), (750, 4.723684873687224), (898, 4.671674924909965), (5618, 4.644005375580763)]\n",
      "User 541: [(1204, 4.28623026522985), (3275, 4.199990091521451), (750, 4.196235393620425), (1252, 4.186125562228582)]\n",
      "User 542: [(866, 4.365494216950102), (260, 4.288739010269781), (6711, 4.288339046501449), (4878, 4.283264809073313)]\n",
      "User 543: [(527, 5), (608, 5), (1089, 5), (1197, 5)]\n",
      "User 544: [(1213, 5), (2959, 5), (318, 5), (898, 5)]\n",
      "User 545: [(1104, 4.430854692493317), (1204, 4.39669221112188), (5618, 4.361521184514576), (1213, 4.359005989841356)]\n",
      "User 546: [(898, 4.437983079590599), (527, 4.409323054927023), (318, 4.387133543593669), (922, 4.373066797269181)]\n",
      "User 547: [(904, 4.720814550695316), (750, 4.715814423794028), (7361, 4.682605916014169), (56782, 4.6726008855578876)]\n",
      "User 548: [(1204, 4.903170999733609), (318, 4.816380235662588), (858, 4.743052611395176), (4973, 4.7263584558396845)]\n",
      "User 549: [(750, 4.1700138057396225), (3836, 4.116394129845548), (1261, 4.111236527247933), (1104, 4.097816267565627)]\n",
      "User 550: [(260, 4.565524581761613), (1233, 4.551601157438501), (750, 4.546316710999966), (1196, 4.541471566702679)]\n",
      "User 551: [(1213, 4.415524746826674), (750, 4.3462163962011084), (48516, 4.316186059710984), (741, 4.296912600048273)]\n",
      "User 552: [(858, 4.193908438476392), (260, 4.1751221046999785), (898, 4.083124224128393), (1221, 4.07098042600848)]\n",
      "User 553: [(750, 4.921257164032164), (318, 4.838731097675871), (898, 4.820009412104008), (3508, 4.794490706536087)]\n",
      "User 554: [(1237, 4.732807169877411), (1250, 4.71359148721834), (58559, 4.667616549021154), (246, 4.659311448772207)]\n",
      "User 555: [(1204, 4.425982872513359), (2324, 4.392102762583121), (750, 4.388674529021035), (246, 4.310380709799266)]\n",
      "User 556: [(1204, 4.812994941825588), (318, 4.806497236828623), (2959, 4.799305354398545), (750, 4.787088559443462)]\n",
      "User 557: [(904, 4.454648805675691), (1228, 4.396711261820347), (858, 4.386567011236788), (112552, 4.384344892358216)]\n",
      "User 558: [(318, 4.813460849418954), (3275, 4.738146678651766), (750, 4.704600353963203), (1233, 4.6991342180524125)]\n",
      "User 559: [(1204, 4.338989323216032), (1252, 4.271954632320767), (1213, 4.2517035785033634), (858, 4.245516254766656)]\n",
      "User 560: [(318, 4.220405360230394), (750, 4.198742717096913), (1204, 4.150817391640921), (1104, 4.146425251379184)]\n",
      "User 561: [(750, 4.057313470843556), (1204, 4.010760079299276), (4973, 3.999516892715898), (5618, 3.982703394558379)]\n",
      "User 562: [(904, 4.693730426209442), (750, 4.6883715095135), (1276, 4.669760301184727), (1204, 4.664430916542267)]\n",
      "User 563: [(318, 4.19325197339792), (1204, 4.1618240002158), (720, 4.152052799475974), (1104, 4.150837054789383)]\n",
      "User 564: [(1204, 4.360334949806291), (750, 4.330435207915846), (50, 4.327355392109584), (1213, 4.315025699379633)]\n",
      "User 565: [(260, 4.457542536566635), (898, 4.420695193716357), (1196, 4.417463464430172), (1204, 4.4163171366923)]\n",
      "User 566: [(898, 4.3439336626480545), (922, 4.325091566153234), (1104, 4.318522261298966), (1208, 4.289581198855776)]\n",
      "User 567: [(899, 3.2560114724305356), (904, 3.247912337546966), (1104, 3.2427397347900593), (1248, 3.128230329557012)]\n",
      "User 568: [(318, 4.745206834655445), (3451, 4.67440998626999), (48516, 4.650652454512058), (1197, 4.638339292291703)]\n",
      "User 569: [(1204, 4.767279802921627), (750, 4.750750669463563), (2959, 4.742078125134352), (951, 4.740642033626776)]\n",
      "User 570: [(1204, 4.0542739108196), (904, 4.03607872402761), (750, 4.027308949463019), (1213, 4.015954189456213)]\n",
      "User 571: [(750, 3.681662873203449), (904, 3.6599484006332315), (1198, 3.6395385396432713), (1215, 3.629783573919263)]\n",
      "User 572: [(2959, 4.715442415350854), (1104, 4.68773052189117), (296, 4.683543192741146), (246, 4.6334846666675285)]\n",
      "User 573: [(750, 5), (1104, 4.883527025771733), (1204, 4.883138979623773), (951, 4.843145408330844)]\n",
      "User 574: [(898, 4.699843995125429), (741, 4.699349496944647), (750, 4.687671745547956), (858, 4.681957249284978)]\n",
      "User 575: [(1104, 4.180462343855189), (2959, 4.165019851387069), (318, 4.15766043137276), (89904, 4.152033069224867)]\n",
      "User 576: [(1204, 4.290576974134058), (904, 4.226616896834292), (318, 4.176854721213713), (2959, 4.127152225608434)]\n",
      "User 577: [(1204, 4.364858599908203), (904, 4.230567720652328), (922, 4.228022920895577), (296, 4.216929108192421)]\n",
      "User 578: [(750, 4.876716745164786), (1204, 4.750339375857564), (858, 4.7485422591295485), (246, 4.746411504608877)]\n",
      "User 579: [(750, 4.90047171912501), (1208, 4.83424734101516), (1178, 4.819513199417399), (1204, 4.781686383032047)]\n",
      "User 580: [(898, 4.410305550919899), (1172, 4.317729772588336), (5690, 4.250078490987607), (177593, 4.248693729277515)]\n",
      "User 581: [(1204, 4.688499132949346), (750, 4.669451726152944), (1104, 4.639615448099522), (48516, 4.618778866512661)]\n",
      "User 582: [(750, 4.567381434978822), (1208, 4.54194407634046), (1204, 4.510887847340816), (741, 4.498574258782161)]\n",
      "User 583: [(1200, 4.105589699181982), (750, 4.1046748050998385), (318, 4.103075177418301), (1261, 4.064111680910805)]\n",
      "User 584: [(318, 4.995041049591965), (1252, 4.978040358363827), (177593, 4.959580531803578), (2324, 4.95347152340729)]\n",
      "User 585: [(750, 4.862841690853896), (318, 4.8479224760205195), (912, 4.809386099861639), (50, 4.805666886742239)]\n",
      "User 586: [(1199, 5), (2324, 5), (750, 5), (1233, 5)]\n",
      "User 587: [(318, 4.661883024771271), (720, 4.659981513196169), (1197, 4.656996122397558), (112552, 4.6553788611998765)]\n",
      "User 588: [(858, 4.192687938899282), (2959, 4.136128357720583), (750, 4.131804675335049), (1276, 4.104090321982063)]\n",
      "User 589: [(1104, 4.760561640001869), (750, 4.749033257117592), (1223, 4.719025787543902), (1252, 4.710508475346789)]\n",
      "User 590: [(1104, 4.016990032862484), (5618, 3.9719349500400143), (7361, 3.9699722394601094), (2019, 3.9517472397371836)]\n",
      "User 591: [(318, 4.139436679747688), (1196, 4.127197585535543), (3275, 4.121489092052127), (930, 4.115394455361835)]\n",
      "User 592: [(912, 4.623165410075532), (1252, 4.582372597632927), (2019, 4.5761895239006165), (4973, 4.569680885995022)]\n",
      "User 593: [(3275, 3.868970937215646), (3451, 3.8441399141877595), (922, 3.841314598190592), (910, 3.8278433089233284)]\n",
      "User 594: [(3451, 4.90198186011724), (1262, 4.8298956108046935), (62336, 4.783297143672525), (2150, 4.772217680425781)]\n",
      "User 595: [(2959, 4.943914728966264), (318, 4.8959649937745), (1208, 4.872185127971889), (750, 4.850162043015757)]\n",
      "User 596: [(1104, 4.351225812099716), (318, 4.306165094329363), (750, 4.300684146055773), (1204, 4.264844051813547)]\n",
      "User 597: [(750, 4.812518603352682), (296, 4.809700142987601), (7153, 4.803430659840794), (2959, 4.802428771989077)]\n",
      "User 598: [(2019, 4.523841557794734), (1237, 4.510189907277075), (2067, 4.462340011480949), (318, 4.438668893529655)]\n",
      "User 599: [(1203, 3.47870329056363), (2324, 3.440562902520435), (246, 3.4364698482067837), (1193, 3.4341526626639203)]\n",
      "User 600: [(3030, 3.9548622808914184), (1223, 3.9534436483770294), (38061, 3.920145435117709), (1148, 3.9113462777102654)]\n",
      "User 601: [(750, 4.810599267506295), (1201, 4.773987121192448), (296, 4.754720996876529), (898, 4.744055830707055)]\n",
      "User 602: [(2959, 4.37195763415813), (2571, 4.320243420251975), (4973, 4.286499747601023), (1204, 4.282223192817661)]\n",
      "User 603: [(1276, 4.492766848032524), (750, 4.41246130981142), (7153, 4.380146020427719), (1204, 4.365283691232719)]\n",
      "User 604: [(750, 4.446480013234097), (1201, 4.431024299181677), (1089, 4.420830871505833), (1204, 4.418802144475791)]\n",
      "User 605: [(1204, 4.125533070449946), (1104, 4.097235704634587), (318, 4.08301924520579), (951, 4.062927570410679)]\n",
      "User 606: [(1104, 4.316795404020227), (3275, 4.297765159365769), (1213, 4.286724905229696), (57669, 4.2439932449194)]\n",
      "User 607: [(904, 4.5688524034216975), (6016, 4.565080662607453), (4144, 4.563937207188419), (1228, 4.552867313670088)]\n",
      "User 608: [(48516, 4.31818776456294), (5690, 4.304009815538317), (112552, 4.298189210766588), (1198, 4.287811238224043)]\n",
      "User 609: [(750, 4.146542703966267), (1213, 4.095925687547765), (1267, 4.090998604234284), (1276, 4.06681540556226)]\n",
      "User 610: [(1203, 4.4925180030349186), (898, 4.462834248288178), (1204, 4.417811707574346), (1104, 4.40257671606349)]\n"
     ]
    }
   ],
   "source": [
    "from collections import defaultdict\n",
    "def get_all_predictions(predictions):\n",
    "    # First map the predictions to each user.\n",
    "    top_n = defaultdict(list)    \n",
    "    for uid, iid, true_r, est, _ in predictions:\n",
    "        top_n[uid].append((iid, est))\n",
    "\n",
    "    # Then sort the predictions for each user\n",
    "    for uid, user_ratings in top_n.items():\n",
    "        user_ratings.sort(key=lambda x: x[1], reverse=True)\n",
    "\n",
    "    return top_n\n",
    "\n",
    "# Assuming predictions is already generated from algo.test(testset)\n",
    "predictions = algo.test(testset)  # Ensure this is executed first\n",
    "all_pred = get_all_predictions(predictions)  # Get all predictions\n",
    "\n",
    "# To get top N recommendations\n",
    "n = 4\n",
    "\n",
    "# Limit each user's recommendations to the top N\n",
    "for uid in all_pred.keys():\n",
    "    all_pred[uid] = all_pred[uid][:n]  # Keep only the top N recommendations\n",
    "\n",
    "# Optional: Print top recommendations for each user\n",
    "for uid, user_ratings in all_pred.items():\n",
    "    print(f'User {uid}: {user_ratings}')"
   ]
  },
  {
   "cell_type": "code",
   "execution_count": 71,
   "metadata": {},
   "outputs": [
    {
     "name": "stdout",
     "output_type": "stream",
     "text": [
      "Top 4 recommendations for User 10:\n",
      "Movie Title: Notorious (1946), Estimated Rating: 4.18\n",
      "Movie Title: Rebecca (1940), Estimated Rating: 4.12\n",
      "Movie Title: On the Waterfront (1954), Estimated Rating: 4.06\n",
      "Movie Title: Shawshank Redemption, The (1994), Estimated Rating: 4.04\n"
     ]
    }
   ],
   "source": [
    "def get_user_recommendations(user_id):\n",
    "    if user_id in all_pred:\n",
    "        recommended_movies = all_pred[user_id]\n",
    "        print(f\"Top {n} recommendations for User {user_id}:\")\n",
    "        \n",
    "        # Create a DataFrame for the recommendations\n",
    "        recommendations_df = pd.DataFrame(recommended_movies, columns=['movieId', 'estimated_rating'])\n",
    "        \n",
    "        # Merge with the movies DataFrame to get titles\n",
    "        recommended_with_titles = recommendations_df.merge(movies, on='movieId', how='left')\n",
    "        \n",
    "        # Display movie titles and estimated ratings\n",
    "        for _, row in recommended_with_titles.iterrows():\n",
    "            print(f\"Movie Title: {row['title']}, Estimated Rating: {row['estimated_rating']:.2f}\")\n",
    "    else:\n",
    "        print(f\"No recommendations available for User {user_id}.\")\n",
    "\n",
    "# Get recommendations for user 10\n",
    "get_user_recommendations(user_id=10)"
   ]
  },
  {
   "cell_type": "code",
   "execution_count": null,
   "metadata": {},
   "outputs": [],
   "source": []
  },
  {
   "cell_type": "code",
   "execution_count": null,
   "metadata": {},
   "outputs": [],
   "source": []
  }
 ],
 "metadata": {
  "kernelspec": {
   "display_name": "learn-env",
   "language": "python",
   "name": "python3"
  },
  "language_info": {
   "codemirror_mode": {
    "name": "ipython",
    "version": 3
   },
   "file_extension": ".py",
   "mimetype": "text/x-python",
   "name": "python",
   "nbconvert_exporter": "python",
   "pygments_lexer": "ipython3",
   "version": "3.8.5"
  }
 },
 "nbformat": 4,
 "nbformat_minor": 2
}
