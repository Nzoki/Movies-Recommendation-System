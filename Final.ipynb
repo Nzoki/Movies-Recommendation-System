{
 "cells": [
  {
   "cell_type": "markdown",
   "metadata": {},
   "source": [
    "# **Movies Recommendation System**"
   ]
  },
  {
   "cell_type": "markdown",
   "metadata": {},
   "source": [
    "## Business Understanding"
   ]
  },
  {
   "cell_type": "markdown",
   "metadata": {},
   "source": [
    "In today's streaming industry, companies like Netflix, Hulu, and Amazon Prime Video face the challenge of providing users with relevant content that matches their preferences. With vast movie catalogs, it can be overwhelming for users to find films they enjoy, leading to lower engagement and subscription cancellations. \n",
    "\n",
    " An intelligent movie recommendation system can help users discover films that match their tastes, enhancing user satisfaction and platform engagement. This system can boost user retention, increase viewing time, and create personalized experiences, benefiting both users and the platform."
   ]
  },
  {
   "cell_type": "markdown",
   "metadata": {},
   "source": [
    "# Problem statement"
   ]
  },
  {
   "cell_type": "markdown",
   "metadata": {},
   "source": [
    "With the rise of movie streaming platforms  navigating through  collections  of movies and TV shows, users have been overwhelmed in choosing what they want to watch.\n",
    "The goal is to predict user preferences based on past interactions (such as ratings) and recommend movies they are likely to enjoy. This involves building a collaborative filtering system that leverages user-item interactions, ratings, and predictions to improve user satisfaction by providing accurate and relevant movie suggestions."
   ]
  },
  {
   "cell_type": "markdown",
   "metadata": {},
   "source": [
    "# Stakeholders\n",
    "\n",
    "The primary stakeholders are:\n",
    "\n",
    "- **Streaming platforms**: They benefit from increased user engagement and retention by offering personalized recommendations.\n",
    "\n",
    "- **Users**: They receive tailored suggestions, improving their movie-watching experience."
   ]
  },
  {
   "cell_type": "markdown",
   "metadata": {},
   "source": [
    "# Objectives\n",
    "\n",
    "## General Objective\n",
    "\n",
    "- Build a recommendation system that improves user engagement by providing relevant movie suggestions.\n",
    "\n",
    "\n",
    "## Specific Objectives\n",
    "\n",
    "1. To build  a collaborative filtering model  that recommends movies to users based on their previous ratings and the behavior of similar users.\n",
    "\n",
    "2. To use past user ratings to predict ratings for unrated movies. \n",
    "\n",
    "3.  To provide personalized movies recommendations"
   ]
  },
  {
   "cell_type": "markdown",
   "metadata": {},
   "source": [
    "## Data Understanding\n",
    "\n",
    "### Data Source\n",
    "The data for this project comes from the **MovieLens dataset**, a widely-used benchmark dataset provided by the GroupLens research group at the University of Minnesota. This dataset is designed specifically for building and testing recommendation systems, making it highly relevant for our project.\n",
    "\n",
    "We are using the **MovieLens small dataset** (ml-latest-small), which contains:\n",
    "\n",
    "- **Ratings**: User ratings for different movies.\n",
    "- **Movies**: Information about movie titles and genres.\n",
    "- **Tags**: User-generated tags for movies.\n",
    "- **Links**: Metadata connecting movies to external resources like IMDb."
   ]
  }
 ],
 "metadata": {
  "kernelspec": {
   "display_name": "learn-env",
   "language": "python",
   "name": "python3"
  },
  "language_info": {
   "name": "python",
   "version": "3.8.5"
  }
 },
 "nbformat": 4,
 "nbformat_minor": 2
}
